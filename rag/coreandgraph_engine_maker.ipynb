{
 "cells": [
  {
   "cell_type": "code",
   "execution_count": null,
   "id": "614fc4e2-0e04-49b0-bf7c-05efee48933f",
   "metadata": {},
   "outputs": [],
   "source": [
    "\n",
    "from llama_index.readers.obsidian import ObsidianReader\n",
    "import openai\n",
    "from llama_index.core.memory.chat_memory_buffer import MessageRole\n",
    "from llama_index.core import SimpleDirectoryReader, KnowledgeGraphIndex, VectorStoreIndex\n",
    "from llama_index.core.graph_stores import SimpleGraphStore\n",
    "from llama_index.core.storage.docstore import SimpleDocumentStore\n",
    "from llama_index.core import Document, PropertyGraphIndex\n",
    "from llama_index.core.storage.index_store import SimpleIndexStore\n",
    "from llama_index.core.vector_stores import SimpleVectorStore\n",
    "from llama_index.core import Settings\n",
    "from IPython.display import Markdown, display\n",
    "from llama_index.llms.ollama import Ollama\n",
    "from tqdm.notebook import tqdm\n",
    "import time\n",
    "import os\n",
    "from llama_index.core.llms import ChatMessage\n",
    "from llama_index.core import StorageContext\n",
    "from llama_index.llms.ollama import Ollama\n",
    "from llama_index.embeddings.ollama import OllamaEmbedding\n",
    "from llama_index.embeddings.huggingface import HuggingFaceEmbedding\n",
    "from llama_index.embeddings.openai import OpenAIEmbedding\n",
    "from llama_index.llms.openai import OpenAI\n",
    "from llama_index.core.memory import ChatMemoryBuffer\n",
    "import logging\n",
    "import sys\n",
    "import ipywidgets as widgets\n",
    "import json\n",
    "from llama_index.core.callbacks import CallbackManager\n",
    "from llama_index.core.callbacks import LlamaDebugHandler\n",
    "from llama_index.core import ServiceContext\n",
    "from llama_index.core.query_engine import RetrieverQueryEngine\n",
    "from llama_index.core.retrievers import KnowledgeGraphRAGRetriever\n",
    "from llama_index.core.indices.property_graph import (\n",
    "    SimpleLLMPathExtractor,\n",
    "    SchemaLLMPathExtractor,\n",
    "    DynamicLLMPathExtractor,\n",
    ")\n",
    "import yaml\n",
    "from dotenv import load_dotenv"
   ]
  },
  {
   "cell_type": "code",
   "execution_count": 11,
   "id": "b5e9f925-0bd9-406c-a41d-8be268260b0f",
   "metadata": {},
   "outputs": [],
   "source": [
    "from llama_index.core import (\n",
    "    load_index_from_storage,\n",
    "    load_indices_from_storage,\n",
    "    load_graph_from_storage,\n",
    ")"
   ]
  },
  {
   "cell_type": "markdown",
   "id": "ed392292",
   "metadata": {},
   "source": []
  },
  {
   "cell_type": "code",
   "execution_count": 12,
   "id": "8291822a",
   "metadata": {},
   "outputs": [],
   "source": [
    "import nest_asyncio\n",
    "\n",
    "nest_asyncio.apply()"
   ]
  },
  {
   "cell_type": "code",
   "execution_count": 13,
   "id": "17dd9f9d-7e21-49ef-9a01-d8b0dd7fdc24",
   "metadata": {},
   "outputs": [],
   "source": [
    "logging.basicConfig(stream=sys.stdout, level=logging.INFO)\n",
    "logging.getLogger().addHandler(logging.StreamHandler(stream=sys.stdout))"
   ]
  },
  {
   "cell_type": "markdown",
   "id": "0fc2e828-7a94-463f-89b0-2d75521319a7",
   "metadata": {},
   "source": [
    "# Build a simple directory"
   ]
  },
  {
   "cell_type": "code",
   "execution_count": 14,
   "id": "280f6ae9-b082-4a6d-8705-12849fb1a08c",
   "metadata": {},
   "outputs": [],
   "source": [
    "simple_glossary = SimpleDirectoryReader(\n",
    "    r\"/Users/arthursarazin/Documents/coreandgraphs/graphandgovern/graph\"\n",
    ").load_data()"
   ]
  },
  {
   "cell_type": "markdown",
   "id": "42ecd2f3-059f-4cd8-b0ed-97e95ee5075e",
   "metadata": {},
   "source": [
    "# Upload Obsidian vault files"
   ]
  },
  {
   "cell_type": "markdown",
   "id": "53d00bb4",
   "metadata": {},
   "source": [
    "#### Using Obsidian reader from LLama Index"
   ]
  },
  {
   "cell_type": "code",
   "execution_count": 15,
   "id": "3d414a6d-46da-43dd-ad82-44f404c86ae1",
   "metadata": {
    "scrolled": true
   },
   "outputs": [
    {
     "name": "stdout",
     "output_type": "stream",
     "text": [
      "[Document(id_='d989c515-a572-4150-aa7c-b8f2f28c8094', embedding=None, metadata={}, excluded_embed_metadata_keys=[], excluded_llm_metadata_keys=[], relationships={}, metadata_template='{key}: {value}', metadata_separator='\\n', text_resource=MediaResource(embeddings=None, data=None, text=\"---\\nentite: base\\n---\\nCe document a pour objectif de décrire les aspects techniques du Datawarehouse et ses contrats d'interface avec le système ERP. Il inclut les spécifications des flux de données, les politiques d'accès, et les contraintes liées à l'utilisation.\\n\\n---\\n\", mimetype=None, path=None, url=None), image_resource=None, audio_resource=None, video_resource=None, text_template='{metadata_str}\\n\\n{content}'), Document(id_='e6edc5ca-75a7-43b0-b8a0-1ba0ce7c1313', embedding=None, metadata={}, excluded_embed_metadata_keys=[], excluded_llm_metadata_keys=[], relationships={}, metadata_template='{key}: {value}', metadata_separator='\\n', text_resource=MediaResource(embeddings=None, data=None, text='\\n\\n2. Description du Datawarehouse\\n', mimetype=None, path=None, url=None), image_resource=None, audio_resource=None, video_resource=None, text_template='{metadata_str}\\n\\n{content}'), Document(id_='8f0eed80-5e1b-4f4e-b85d-a9e38fae5678', embedding=None, metadata={}, excluded_embed_metadata_keys=[], excluded_llm_metadata_keys=[], relationships={}, metadata_template='{key}: {value}', metadata_separator='\\n', text_resource=MediaResource(embeddings=None, data=None, text=\"\\n\\n2.1 Rôle du Datawarehouse\\n\\nLe Datawarehouse sert de réservoir central pour l’analyse et le reporting des données stratégiques de l’entreprise. Il regroupe des données consolidées provenant de différentes sources, principalement l'ERP.\\n\", mimetype=None, path=None, url=None), image_resource=None, audio_resource=None, video_resource=None, text_template='{metadata_str}\\n\\n{content}'), Document(id_='63687046-bfad-4541-91ac-c22ae816125b', embedding=None, metadata={}, excluded_embed_metadata_keys=[], excluded_llm_metadata_keys=[], relationships={}, metadata_template='{key}: {value}', metadata_separator='\\n', text_resource=MediaResource(embeddings=None, data=None, text='\\n\\n2.2 Architecture\\n\\n- **Base de données** : PostgreSQL 14\\n- **Structure** : Modèle en étoile (Star Schema)\\n    - Dimensions : Clients, Produits, Temps, Régions\\n    - Faits : Ventes, Stocks, Commandes\\n- **Stockage** : SSD haute performance\\n- **Environnement** : Cloud hybride (Azure et sur site)\\n', mimetype=None, path=None, url=None), image_resource=None, audio_resource=None, video_resource=None, text_template='{metadata_str}\\n\\n{content}'), Document(id_='2985c8f0-a2bd-46f2-b262-f19964fd1273', embedding=None, metadata={}, excluded_embed_metadata_keys=[], excluded_llm_metadata_keys=[], relationships={}, metadata_template='{key}: {value}', metadata_separator='\\n', text_resource=MediaResource(embeddings=None, data=None, text='\\n\\n2.3 Sécurité et Accès\\n\\nSeul le directeur de la production a un accès au Datawarehouse. Cet accès est réglementé par des politiques strictes :\\n\\n- **Authentification** : Bi-facteur (MFA)\\n- **Autorisation** : Rôle unique avec privilèges limités\\n- **Audit** : Suivi des connexions et des requêtes exécutées\\n\\n---\\n', mimetype=None, path=None, url=None), image_resource=None, audio_resource=None, video_resource=None, text_template='{metadata_str}\\n\\n{content}'), Document(id_='f31d36bd-7395-4f12-ada3-6460c8b52236', embedding=None, metadata={}, excluded_embed_metadata_keys=[], excluded_llm_metadata_keys=[], relationships={}, metadata_template='{key}: {value}', metadata_separator='\\n', text_resource=MediaResource(embeddings=None, data=None, text=\"\\n\\n3. Contrats d'Interface avec l'ERP\\n\", mimetype=None, path=None, url=None), image_resource=None, audio_resource=None, video_resource=None, text_template='{metadata_str}\\n\\n{content}'), Document(id_='1bf74141-0183-45e7-8ec5-f6c27fd42f59', embedding=None, metadata={}, excluded_embed_metadata_keys=[], excluded_llm_metadata_keys=[], relationships={}, metadata_template='{key}: {value}', metadata_separator='\\n', text_resource=MediaResource(embeddings=None, data=None, text=\"\\n\\n3.1 Objectif des Interfaces\\n\\nLes interfaces assurent le transfert des données entre l'ERP et le Datawarehouse pour maintenir des informations précises et à jour.\\n\", mimetype=None, path=None, url=None), image_resource=None, audio_resource=None, video_resource=None, text_template='{metadata_str}\\n\\n{content}'), Document(id_='1fc04396-bb54-4204-a3c1-87a27afbf7f2', embedding=None, metadata={}, excluded_embed_metadata_keys=[], excluded_llm_metadata_keys=[], relationships={}, metadata_template='{key}: {value}', metadata_separator='\\n', text_resource=MediaResource(embeddings=None, data=None, text=\"\\n\\n3.2 Description Technique\\n\\n- **Type d'interface** : Extraction-Transformation-Chargement (ETL)\\n- **Outil utilisé** : Talend Data Integration\\n- **Format des données** :\\n    - Entrées : Fichiers CSV, JSON\\n    - Sorties : Tables relationnelles\\n\", mimetype=None, path=None, url=None), image_resource=None, audio_resource=None, video_resource=None, text_template='{metadata_str}\\n\\n{content}'), Document(id_='6fb752ad-43dd-4024-b37e-194e027a6ca2', embedding=None, metadata={}, excluded_embed_metadata_keys=[], excluded_llm_metadata_keys=[], relationships={}, metadata_template='{key}: {value}', metadata_separator='\\n', text_resource=MediaResource(embeddings=None, data=None, text='\\n\\n3.3 Flux de Données\\n\\n1. **Extraction**\\n    - Source : ERP (SAP)\\n    - Fréquence : Quotidienne à 02h00\\n    - Mode : API REST et requêtes SQL\\n2. **Transformation**\\n    - Nettoyage des données (valeurs nulles, doublons)\\n    - Agrégation des faits et harmonisation des dimensions\\n3. **Chargement**\\n    - Destination : Tables de faits et dimensions du Datawarehouse\\n', mimetype=None, path=None, url=None), image_resource=None, audio_resource=None, video_resource=None, text_template='{metadata_str}\\n\\n{content}'), Document(id_='6e5e4bd0-1010-45f5-9457-588e8a71282b', embedding=None, metadata={}, excluded_embed_metadata_keys=[], excluded_llm_metadata_keys=[], relationships={}, metadata_template='{key}: {value}', metadata_separator='\\n', text_resource=MediaResource(embeddings=None, data=None, text=\"\\n\\n3.4 Surveillance des Interfaces\\n\\n- **Planification** : Ordonnanceur CRON\\n- **Alertes** : Emails et logs en cas d'échec\\n- **Durée moyenne** : 45 minutes\\n\\n---\\n\", mimetype=None, path=None, url=None), image_resource=None, audio_resource=None, video_resource=None, text_template='{metadata_str}\\n\\n{content}'), Document(id_='7e314ad1-5b8e-4d2e-8cf2-36e753d09329', embedding=None, metadata={}, excluded_embed_metadata_keys=[], excluded_llm_metadata_keys=[], relationships={}, metadata_template='{key}: {value}', metadata_separator='\\n', text_resource=MediaResource(embeddings=None, data=None, text='\\n\\n4. Gestion des Données\\n', mimetype=None, path=None, url=None), image_resource=None, audio_resource=None, video_resource=None, text_template='{metadata_str}\\n\\n{content}'), Document(id_='646f294c-73b6-4c29-b21c-0d438ed848d5', embedding=None, metadata={}, excluded_embed_metadata_keys=[], excluded_llm_metadata_keys=[], relationships={}, metadata_template='{key}: {value}', metadata_separator='\\n', text_resource=MediaResource(embeddings=None, data=None, text='\\n\\n4.1 Qualité des Données\\n\\n- **Validation** : Contrôles sur les types et les règles métier\\n- **Reporting** : Tableau de bord sur les échecs de flux\\n', mimetype=None, path=None, url=None), image_resource=None, audio_resource=None, video_resource=None, text_template='{metadata_str}\\n\\n{content}'), Document(id_='8347b965-fa2d-4f75-bd92-e93a140e2494', embedding=None, metadata={}, excluded_embed_metadata_keys=[], excluded_llm_metadata_keys=[], relationships={}, metadata_template='{key}: {value}', metadata_separator='\\n', text_resource=MediaResource(embeddings=None, data=None, text='\\n\\n4.2 Rétention et Archivage\\n\\n- **Durée de rétention** : 7 ans\\n- **Archivage** : Compression et stockage sur un serveur SFTP\\n\\n---\\n', mimetype=None, path=None, url=None), image_resource=None, audio_resource=None, video_resource=None, text_template='{metadata_str}\\n\\n{content}'), Document(id_='9d2d8ca9-ac27-4691-ba08-b069892f5302', embedding=None, metadata={}, excluded_embed_metadata_keys=[], excluded_llm_metadata_keys=[], relationships={}, metadata_template='{key}: {value}', metadata_separator='\\n', text_resource=MediaResource(embeddings=None, data=None, text='\\n\\n5. Contraintes et Risques\\n', mimetype=None, path=None, url=None), image_resource=None, audio_resource=None, video_resource=None, text_template='{metadata_str}\\n\\n{content}'), Document(id_='595b91fa-8f1d-40ab-930e-cd293c91d467', embedding=None, metadata={}, excluded_embed_metadata_keys=[], excluded_llm_metadata_keys=[], relationships={}, metadata_template='{key}: {value}', metadata_separator='\\n', text_resource=MediaResource(embeddings=None, data=None, text=\"\\n\\n5.1 Contraintes\\n\\n- Temps de latence entre l'ERP et le Datawarehouse\\n- Maintenance régulière des interfaces ETL\\n\", mimetype=None, path=None, url=None), image_resource=None, audio_resource=None, video_resource=None, text_template='{metadata_str}\\n\\n{content}'), Document(id_='af2a0b18-5af0-498e-bcdf-19113ada03ae', embedding=None, metadata={}, excluded_embed_metadata_keys=[], excluded_llm_metadata_keys=[], relationships={}, metadata_template='{key}: {value}', metadata_separator='\\n', text_resource=MediaResource(embeddings=None, data=None, text=\"\\n\\n5.2 Risques\\n\\n- Pertes de données lors de l'extraction\\n- Erreurs de transformation pouvant altérer les analyses\\n\\n---\\n\", mimetype=None, path=None, url=None), image_resource=None, audio_resource=None, video_resource=None, text_template='{metadata_str}\\n\\n{content}'), Document(id_='f1fb52bd-8db4-406b-82fe-16bcf471b33d', embedding=None, metadata={}, excluded_embed_metadata_keys=[], excluded_llm_metadata_keys=[], relationships={}, metadata_template='{key}: {value}', metadata_separator='\\n', text_resource=MediaResource(embeddings=None, data=None, text='\\n\\n6. Conclusion\\n\\nCe Datawarehouse et ses interfaces avec l’ERP constituent un élément crucial pour la prise de décision dans l’entreprise. Leur mise en place, associée à des contrôles stricts et à une surveillance continue, garantit leur fiabilité et leur performance.', mimetype=None, path=None, url=None), image_resource=None, audio_resource=None, video_resource=None, text_template='{metadata_str}\\n\\n{content}'), Document(id_='9e57335f-071a-4836-a54b-9e80ea151cad', embedding=None, metadata={}, excluded_embed_metadata_keys=[], excluded_llm_metadata_keys=[], relationships={}, metadata_template='{key}: {value}', metadata_separator='\\n', text_resource=MediaResource(embeddings=None, data=None, text='---\\nentite: personne physique\\nacces: \"[[ERP]]\"\\nparent: \"[[Membre ecosysteme 2]]\"\\n---', mimetype=None, path=None, url=None), image_resource=None, audio_resource=None, video_resource=None, text_template='{metadata_str}\\n\\n{content}'), Document(id_='8637c3ce-faf9-4d3d-b359-339ba190cc92', embedding=None, metadata={}, excluded_embed_metadata_keys=[], excluded_llm_metadata_keys=[], relationships={}, metadata_template='{key}: {value}', metadata_separator='\\n', text_resource=MediaResource(embeddings=None, data=None, text='\\n\\nObjectif de l’Entretien\\n\\nExplorer les besoins et les problématiques exprimés par les responsables de production concernant l’utilisation de l’ERP pour améliorer les processus de production.\\n', mimetype=None, path=None, url=None), image_resource=None, audio_resource=None, video_resource=None, text_template='{metadata_str}\\n\\n{content}'), Document(id_='e2f3b573-3af3-4b3e-b13e-63f703662712', embedding=None, metadata={}, excluded_embed_metadata_keys=[], excluded_llm_metadata_keys=[], relationships={}, metadata_template='{key}: {value}', metadata_separator='\\n', text_resource=MediaResource(embeddings=None, data=None, text='\\n\\nEntretien 2 : Monsieur Julien Morel\\n', mimetype=None, path=None, url=None), image_resource=None, audio_resource=None, video_resource=None, text_template='{metadata_str}\\n\\n{content}'), Document(id_='06c6b838-5467-416d-9a5c-baa0dfb802e7', embedding=None, metadata={}, excluded_embed_metadata_keys=[], excluded_llm_metadata_keys=[], relationships={}, metadata_template='{key}: {value}', metadata_separator='\\n', text_resource=MediaResource(embeddings=None, data=None, text='\\n\\n1. **Problématiques Rencontrées**\\n\\nM. Morel a exprimé des difficultés liées :\\n\\n- **Au suivi des stocks** en temps réel, particulièrement les matières premières critiques.\\n- **Au manque de coordination** entre les différentes équipes de production via l’ERP.\\n- **Au reporting insuffisant** pour préparer les comités de pilotage.\\n', mimetype=None, path=None, url=None), image_resource=None, audio_resource=None, video_resource=None, text_template='{metadata_str}\\n\\n{content}'), Document(id_='a46eb768-5a9c-4f0a-bc37-6e08a2fc077e', embedding=None, metadata={}, excluded_embed_metadata_keys=[], excluded_llm_metadata_keys=[], relationships={}, metadata_template='{key}: {value}', metadata_separator='\\n', text_resource=MediaResource(embeddings=None, data=None, text='\\n\\n2. **Besoins Identifiés**\\n\\nM. Morel demande :\\n\\n- Un suivi centralisé et automatisé des stocks critiques avec alertes préventives.\\n- Une meilleure intégration des plannings des équipes dans l’ERP.\\n- Des rapports d’analyse pré-générés pour gagner du temps.\\n', mimetype=None, path=None, url=None), image_resource=None, audio_resource=None, video_resource=None, text_template='{metadata_str}\\n\\n{content}'), Document(id_='c2690ed1-7395-491b-8f21-b486f9ca5d28', embedding=None, metadata={}, excluded_embed_metadata_keys=[], excluded_llm_metadata_keys=[], relationships={}, metadata_template='{key}: {value}', metadata_separator='\\n', text_resource=MediaResource(embeddings=None, data=None, text='\\n\\n3. **Propositions**\\n\\nM. Martin a proposé :\\n\\n- L’ajout d’un module de gestion des stocks avancé dans l’ERP.\\n- L’amélioration des outils collaboratifs dans le système pour mieux aligner les équipes.\\n- La création de modèles de rapports standardisés adaptés aux besoins des comités.\\n', mimetype=None, path=None, url=None), image_resource=None, audio_resource=None, video_resource=None, text_template='{metadata_str}\\n\\n{content}'), Document(id_='eed5b5c7-5c4a-4b9a-a618-6d7bd994e328', embedding=None, metadata={}, excluded_embed_metadata_keys=[], excluded_llm_metadata_keys=[], relationships={}, metadata_template='{key}: {value}', metadata_separator='\\n', text_resource=MediaResource(embeddings=None, data=None, text='---\\nentite: field\\nparent: \"[[Base personne]]\"\\n---\\n', mimetype=None, path=None, url=None), image_resource=None, audio_resource=None, video_resource=None, text_template='{metadata_str}\\n\\n{content}'), Document(id_='c2ecff8b-7034-46f6-bd27-7c832c553101', embedding=None, metadata={}, excluded_embed_metadata_keys=[], excluded_llm_metadata_keys=[], relationships={}, metadata_template='{key}: {value}', metadata_separator='\\n', text_resource=MediaResource(embeddings=None, data=None, text='---\\nentite: field\\nparent: \"[[CRM]]\"\\n---\\n', mimetype=None, path=None, url=None), image_resource=None, audio_resource=None, video_resource=None, text_template='{metadata_str}\\n\\n{content}'), Document(id_='fe976120-afe0-42ab-970b-a9b746e1f231', embedding=None, metadata={}, excluded_embed_metadata_keys=[], excluded_llm_metadata_keys=[], relationships={}, metadata_template='{key}: {value}', metadata_separator='\\n', text_resource=MediaResource(embeddings=None, data=None, text='---\\nentite: personne physique\\nacces: \"[[Datawarehouse]]\"\\nattente: \"[[Complétude des champs]]\"\\n---', mimetype=None, path=None, url=None), image_resource=None, audio_resource=None, video_resource=None, text_template='{metadata_str}\\n\\n{content}'), Document(id_='b5e8c433-ae76-4c59-b6f9-ef49a0cbd457', embedding=None, metadata={}, excluded_embed_metadata_keys=[], excluded_llm_metadata_keys=[], relationships={}, metadata_template='{key}: {value}', metadata_separator='\\n', text_resource=MediaResource(embeddings=None, data=None, text='\\n\\nPoints Abordés\\n', mimetype=None, path=None, url=None), image_resource=None, audio_resource=None, video_resource=None, text_template='{metadata_str}\\n\\n{content}'), Document(id_='846e27bb-83c1-4c94-a6fe-7d7e0b9ac8fb', embedding=None, metadata={}, excluded_embed_metadata_keys=[], excluded_llm_metadata_keys=[], relationships={}, metadata_template='{key}: {value}', metadata_separator='\\n', text_resource=MediaResource(embeddings=None, data=None, text='\\n\\n1. **Exigence de complétude des champs**\\n\\nM. Dupont a souligné l’importance que tous les champs disponibles dans le Datawarehouse soient remplis sans exception. Il a insisté sur les raisons suivantes :\\n\\n- **Fiabilité des analyses stratégiques** : \"Nous prenons des décisions clés basées sur ces données. Une information manquante peut conduire à des interprétations erronées, notamment pour les projections de ventes et la gestion des stocks.\"\\n    \\n- **Optimisation des processus** : \"Les données complètes permettent d’identifier rapidement les goulets d’étranglement et les opportunités d’amélioration, que ce soit en production ou en logistique.\"\\n    \\n- **Rapports clients et audits** : \"Certains clients stratégiques exigent une transparence totale dans nos rapports, et des champs incomplets pourraient affecter notre crédibilité lors des audits.\"\\n    \\n', mimetype=None, path=None, url=None), image_resource=None, audio_resource=None, video_resource=None, text_template='{metadata_str}\\n\\n{content}'), Document(id_='71a65b88-b857-44b2-a07d-6d864c7e417a', embedding=None, metadata={}, excluded_embed_metadata_keys=[], excluded_llm_metadata_keys=[], relationships={}, metadata_template='{key}: {value}', metadata_separator='\\n', text_resource=MediaResource(embeddings=None, data=None, text='\\n\\n2. **Problèmes rencontrés avec les données actuelles**\\n\\nM. Dupont a identifié plusieurs problèmes liés à la situation actuelle :\\n\\n- Champs vides dans les données des ventes, notamment pour les références produits et les segments de marché.\\n- Données de production manquantes pour certaines périodes, rendant les analyses temporelles incomplètes.\\n- Difficulté à croiser les données des ventes avec les données de logistique pour le calcul des marges.\\n', mimetype=None, path=None, url=None), image_resource=None, audio_resource=None, video_resource=None, text_template='{metadata_str}\\n\\n{content}'), Document(id_='5c89a74c-b496-4217-ae6c-7a6a904230ec', embedding=None, metadata={}, excluded_embed_metadata_keys=[], excluded_llm_metadata_keys=[], relationships={}, metadata_template='{key}: {value}', metadata_separator='\\n', text_resource=MediaResource(embeddings=None, data=None, text='\\n\\n3. **Suggestions pour l’amélioration**\\n\\nM. Dupont propose les actions suivantes :\\n\\n- Mise en place de contrôles automatiques pour détecter et signaler les champs manquants lors des processus ETL.\\n- Collaboration étroite entre les équipes opérationnelles et IT pour définir les priorités des données critiques.\\n- Formation des équipes terrain sur l’importance de la saisie complète dans l’ERP, notamment pour les données de production et logistiques.\\n', mimetype=None, path=None, url=None), image_resource=None, audio_resource=None, video_resource=None, text_template='{metadata_str}\\n\\n{content}'), Document(id_='bc7a6550-85d1-4b27-98ad-85fe79424a34', embedding=None, metadata={}, excluded_embed_metadata_keys=[], excluded_llm_metadata_keys=[], relationships={}, metadata_template='{key}: {value}', metadata_separator='\\n', text_resource=MediaResource(embeddings=None, data=None, text='\\n\\n4. **Impact attendu des améliorations**\\n\\nSelon M. Dupont, assurer la complétude des données dans le Datawarehouse aurait les impacts suivants :\\n\\n- **Précision accrue** des KPI stratégiques, tels que le taux de satisfaction client et la productivité.\\n- **Gain de temps** pour les équipes d’analyse, qui n’auront plus à traiter les erreurs ou combler les lacunes manuellement.\\n- **Amélioration de la prise de décision** grâce à des données fiables et cohérentes.\\n\\n---\\n', mimetype=None, path=None, url=None), image_resource=None, audio_resource=None, video_resource=None, text_template='{metadata_str}\\n\\n{content}'), Document(id_='e562e595-bfeb-4b85-9fbf-940dd9433ecc', embedding=None, metadata={}, excluded_embed_metadata_keys=[], excluded_llm_metadata_keys=[], relationships={}, metadata_template='{key}: {value}', metadata_separator='\\n', text_resource=MediaResource(embeddings=None, data=None, text='\\n\\nProchaines Étapes\\n\\n1. Identification des champs critiques et prioritaires dans le Datawarehouse d’ici le 15 janvier 2025.\\n2. Mise en place de régles de validation automatique dans les processus ETL.\\n3. Organisation d’une formation pour les équipes opérationnelles avant fin février 2025.\\n', mimetype=None, path=None, url=None), image_resource=None, audio_resource=None, video_resource=None, text_template='{metadata_str}\\n\\n{content}'), Document(id_='ed92dd82-c0be-40e5-8651-578b61b12c0c', embedding=None, metadata={}, excluded_embed_metadata_keys=[], excluded_llm_metadata_keys=[], relationships={}, metadata_template='{key}: {value}', metadata_separator='\\n', text_resource=MediaResource(embeddings=None, data=None, text='---\\nentite: field\\nparent: \"[[Base operation]]\"\\n---\\n', mimetype=None, path=None, url=None), image_resource=None, audio_resource=None, video_resource=None, text_template='{metadata_str}\\n\\n{content}'), Document(id_='fff7fcb0-f6eb-4760-8765-367ff2d68364', embedding=None, metadata={}, excluded_embed_metadata_keys=[], excluded_llm_metadata_keys=[], relationships={}, metadata_template='{key}: {value}', metadata_separator='\\n', text_resource=MediaResource(embeddings=None, data=None, text='---\\nentite: field\\nparent: \"[[Datawarehouse]]\"\\n---\\n', mimetype=None, path=None, url=None), image_resource=None, audio_resource=None, video_resource=None, text_template='{metadata_str}\\n\\n{content}'), Document(id_='8e8e61d2-daae-4a24-a8e1-ba81783c4e76', embedding=None, metadata={}, excluded_embed_metadata_keys=[], excluded_llm_metadata_keys=[], relationships={}, metadata_template='{key}: {value}', metadata_separator='\\n', text_resource=MediaResource(embeddings=None, data=None, text='---\\napplicatif: \"[[CRM]]\"\\nentite: attente\\n---\\nLa complétude des informations dans la base personne est cruciale pour maximiser :\\n\\n- **Le taux d’ouverture des e-mails.**\\n- **La pertinence des messages.**\\n- **La satisfaction et la fidélité des clients.**\\n- ', mimetype=None, path=None, url=None), image_resource=None, audio_resource=None, video_resource=None, text_template='{metadata_str}\\n\\n{content}'), Document(id_='b64b3e41-7461-48c3-9711-5bbe804b31b7', embedding=None, metadata={}, excluded_embed_metadata_keys=[], excluded_llm_metadata_keys=[], relationships={}, metadata_template='{key}: {value}', metadata_separator='\\n', text_resource=MediaResource(embeddings=None, data=None, text='---\\nrecepteurs: \"[[Charge de campagne marketing]]\"\\nentite: realite\\n---\\nLes emails sont rarement renseignés dans le [[CRM]] \\n\\n', mimetype=None, path=None, url=None), image_resource=None, audio_resource=None, video_resource=None, text_template='{metadata_str}\\n\\n{content}'), Document(id_='93741841-7e7b-42f1-9b3f-908dcf88a53b', embedding=None, metadata={}, excluded_embed_metadata_keys=[], excluded_llm_metadata_keys=[], relationships={}, metadata_template='{key}: {value}', metadata_separator='\\n', text_resource=MediaResource(embeddings=None, data=None, text='---\\nentite: attente\\n---\\n', mimetype=None, path=None, url=None), image_resource=None, audio_resource=None, video_resource=None, text_template='{metadata_str}\\n\\n{content}'), Document(id_='741a5273-31bf-41b0-8f97-d5a0cb83f303', embedding=None, metadata={}, excluded_embed_metadata_keys=[], excluded_llm_metadata_keys=[], relationships={}, metadata_template='{key}: {value}', metadata_separator='\\n', text_resource=MediaResource(embeddings=None, data=None, text='---\\nentite: personne physique\\nacces: \"[[Base operation]]\"\\n---', mimetype=None, path=None, url=None), image_resource=None, audio_resource=None, video_resource=None, text_template='{metadata_str}\\n\\n{content}'), Document(id_='190f6fe4-a64e-4828-b620-1966d02f7352', embedding=None, metadata={}, excluded_embed_metadata_keys=[], excluded_llm_metadata_keys=[], relationships={}, metadata_template='{key}: {value}', metadata_separator='\\n', text_resource=MediaResource(embeddings=None, data=None, text='\\n\\nObjectif de l’Entretien\\n\\nDiscuter des besoins d’accès à la Base Opération exprimés par Monsieur Thomas Dupont pour améliorer la gestion des achats et la coordination avec les fournisseurs.\\n\\n---\\n', mimetype=None, path=None, url=None), image_resource=None, audio_resource=None, video_resource=None, text_template='{metadata_str}\\n\\n{content}'), Document(id_='2370ef8d-24a1-404d-a2af-95b8c84afa43', embedding=None, metadata={}, excluded_embed_metadata_keys=[], excluded_llm_metadata_keys=[], relationships={}, metadata_template='{key}: {value}', metadata_separator='\\n', text_resource=MediaResource(embeddings=None, data=None, text='\\n\\nPoints Abordés\\n', mimetype=None, path=None, url=None), image_resource=None, audio_resource=None, video_resource=None, text_template='{metadata_str}\\n\\n{content}'), Document(id_='f4142e8d-eb02-4f2a-92b7-73390da04442', embedding=None, metadata={}, excluded_embed_metadata_keys=[], excluded_llm_metadata_keys=[], relationships={}, metadata_template='{key}: {value}', metadata_separator='\\n', text_resource=MediaResource(embeddings=None, data=None, text='\\n\\n1. **Nécessité d\\'un Accès Plus Large à la Base Opération**\\n\\nM. Dupont a souligné le besoin d’accéder à des données plus complètes pour optimiser les processus d’approvisionnement et mieux anticiper les besoins. Les arguments avancés incluent :\\n\\n- **Suivi des fournisseurs** : \"Un accès direct m’aiderait à analyser les performances des fournisseurs, comme les délais de livraison et la qualité des produits.\"\\n- **Réduction des coûts** : \"Avec une meilleure visibilité, je pourrais identifier des opportunités d’optimisation et négocier plus efficacement.\"\\n- **Amélioration de la planification** : \"Cela permettrait d’anticiper les ruptures et d’éviter les surstocks.\"\\n', mimetype=None, path=None, url=None), image_resource=None, audio_resource=None, video_resource=None, text_template='{metadata_str}\\n\\n{content}'), Document(id_='0113c710-65ef-43d0-8c5a-86c9e16f9c50', embedding=None, metadata={}, excluded_embed_metadata_keys=[], excluded_llm_metadata_keys=[], relationships={}, metadata_template='{key}: {value}', metadata_separator='\\n', text_resource=MediaResource(embeddings=None, data=None, text=\"\\n\\n2. **Limitations Actuelles**\\n\\nM. Dupont a identifié les limites de l'accès actuel :\\n\\n- **Données fragmentées** entre différents outils, ce qui rend les analyses longues et fastidieuses.\\n- **Absence d’historique complet** des transactions pour effectuer des comparaisons précises.\\n- **Rapports standardisés** ne prenant pas en compte les spécificités des fournisseurs.\\n\", mimetype=None, path=None, url=None), image_resource=None, audio_resource=None, video_resource=None, text_template='{metadata_str}\\n\\n{content}'), Document(id_='48b018d9-334d-46df-956f-eb9d19e8113e', embedding=None, metadata={}, excluded_embed_metadata_keys=[], excluded_llm_metadata_keys=[], relationships={}, metadata_template='{key}: {value}', metadata_separator='\\n', text_resource=MediaResource(embeddings=None, data=None, text='\\n\\n3. **Types de Données Demandées**\\n\\nM. Dupont a précisé les données critiques qu’il souhaite consulter :\\n\\n- **Performances des fournisseurs** : Délais de livraison, taux de réclamation.\\n- **Historique des commandes** : Quantités commandées, prix négociés, conditions contractuelles.\\n- **Données financières** : Suivi des paiements et écarts budgétaires.\\n- **Données logistiques** : Statut des approvisionnements et niveaux de stock.\\n', mimetype=None, path=None, url=None), image_resource=None, audio_resource=None, video_resource=None, text_template='{metadata_str}\\n\\n{content}'), Document(id_='f87bc416-a5d3-4893-b353-b594b659fdc9', embedding=None, metadata={}, excluded_embed_metadata_keys=[], excluded_llm_metadata_keys=[], relationships={}, metadata_template='{key}: {value}', metadata_separator='\\n', text_resource=MediaResource(embeddings=None, data=None, text='\\n\\n4. **Propositions d’Accès**\\n\\nM. Martin a proposé plusieurs options pour répondre aux besoins exprimés :\\n\\n- **Mise à disposition d’un portail d’analyse** des données fournisseurs avec filtres personnalisés.\\n- **Automatisation des rapports dynamiques** accessibles en temps réel.\\n- **Intégration d’un outil de suivi collaboratif** pour faciliter les interactions entre équipes.\\n', mimetype=None, path=None, url=None), image_resource=None, audio_resource=None, video_resource=None, text_template='{metadata_str}\\n\\n{content}'), Document(id_='39759804-46ee-4c5e-ad5d-890124efd713', embedding=None, metadata={}, excluded_embed_metadata_keys=[], excluded_llm_metadata_keys=[], relationships={}, metadata_template='{key}: {value}', metadata_separator='\\n', text_resource=MediaResource(embeddings=None, data=None, text='\\n\\n5. **Bénéfices Attendues**\\n\\nM. Dupont anticipe que l’accès élargi permettrait :\\n\\n- Une **amélioration des relations fournisseurs**, grâce à une gestion plus proactive.\\n- Une **réduction des dépenses** par l’optimisation des achats.\\n- Une **fluidité accrue** dans les processus logistiques et d’approvisionnement.\\n\\n---\\n', mimetype=None, path=None, url=None), image_resource=None, audio_resource=None, video_resource=None, text_template='{metadata_str}\\n\\n{content}'), Document(id_='e8ef3cd7-ecf0-47aa-bc69-f609d8e76ac9', embedding=None, metadata={}, excluded_embed_metadata_keys=[], excluded_llm_metadata_keys=[], relationships={}, metadata_template='{key}: {value}', metadata_separator='\\n', text_resource=MediaResource(embeddings=None, data=None, text='\\n\\nProchaines Étapes\\n\\n1. Analyse des besoins spécifiques pour la gestion des fournisseurs et des achats (15 janvier 2025).\\n2. Configuration d’un accès personnalisé à la Base Opération pour M. Dupont (31 janvier 2025).\\n3. Test et validation de l’interface avant d’étendre à d’autres membres de l’équipe (15 février 2025).\\n\\n---\\n\\n**Validation** : Le compte rendu a été approuvé par M. Thomas Dupont et M. Philippe Martin.  \\n**Rédigé par** : [Nom du Rédacteur]', mimetype=None, path=None, url=None), image_resource=None, audio_resource=None, video_resource=None, text_template='{metadata_str}\\n\\n{content}'), Document(id_='ac869100-5605-4929-a7e8-218c12c2bde1', embedding=None, metadata={}, excluded_embed_metadata_keys=[], excluded_llm_metadata_keys=[], relationships={}, metadata_template='{key}: {value}', metadata_separator='\\n', text_resource=MediaResource(embeddings=None, data=None, text='---\\nentite: base\\nparent: \"[[ERP]]\"\\n---\\nLa base de données \"Opérations\" est un composant clé du système d\\'information de l\\'entreprise. Elle contient les informations relatives aux opérations réalisées par l\\'entreprise, permettant leur suivi, analyse et gestion. Ce document décrit la structure, les caractéristiques techniques et les bonnes pratiques associées à cette base de données.\\n', mimetype=None, path=None, url=None), image_resource=None, audio_resource=None, video_resource=None, text_template='{metadata_str}\\n\\n{content}'), Document(id_='c3635378-83f0-45b6-80c0-7df8efb66953', embedding=None, metadata={}, excluded_embed_metadata_keys=[], excluded_llm_metadata_keys=[], relationships={}, metadata_template='{key}: {value}', metadata_separator='\\n', text_resource=MediaResource(embeddings=None, data=None, text='\\n\\nObjectif\\n\\nFournir une documentation claire et détaillée de la base de données \"Opérations\" pour garantir une compréhension commune entre les équipes techniques et fonctionnelles, et faciliter son utilisation, son extension ou sa maintenance.\\n', mimetype=None, path=None, url=None), image_resource=None, audio_resource=None, video_resource=None, text_template='{metadata_str}\\n\\n{content}'), Document(id_='5c4e4b0f-6a3f-4ce0-b231-4ff1af3a2dd1', embedding=None, metadata={}, excluded_embed_metadata_keys=[], excluded_llm_metadata_keys=[], relationships={}, metadata_template='{key}: {value}', metadata_separator='\\n', text_resource=MediaResource(embeddings=None, data=None, text='\\n\\nSchéma de la Base de Données\\n', mimetype=None, path=None, url=None), image_resource=None, audio_resource=None, video_resource=None, text_template='{metadata_str}\\n\\n{content}'), Document(id_='f8d5c327-7932-44f9-8eff-b9d3b8df054e', embedding=None, metadata={}, excluded_embed_metadata_keys=[], excluded_llm_metadata_keys=[], relationships={}, metadata_template='{key}: {value}', metadata_separator='\\n', text_resource=MediaResource(embeddings=None, data=None, text='\\n\\nNom de la Table : `operations`\\n', mimetype=None, path=None, url=None), image_resource=None, audio_resource=None, video_resource=None, text_template='{metadata_str}\\n\\n{content}'), Document(id_='bd6391dc-21fa-44f1-a8a1-1276e5da1a05', embedding=None, metadata={}, excluded_embed_metadata_keys=[], excluded_llm_metadata_keys=[], relationships={}, metadata_template='{key}: {value}', metadata_separator='\\n', text_resource=MediaResource(embeddings=None, data=None, text=\"\\n\\nChamps Principaux\\n\\n1. **id_op** _(clé primaire)_\\n    \\n    - **Type** : INTEGER\\n    - **Description** : Identifiant unique pour chaque opération.\\n    - **Contraintes** :\\n        - Non nul.\\n        - Valeur auto-incrémentée (si applicable).\\n2. **nom_op**\\n    \\n    - **Type** : VARCHAR(255)\\n    - **Description** : Nom ou désignation de l'opération.\\n    - **Contraintes** :\\n        - Non nul.\\n\", mimetype=None, path=None, url=None), image_resource=None, audio_resource=None, video_resource=None, text_template='{metadata_str}\\n\\n{content}'), Document(id_='69bde86c-9fbd-4ed6-8eb7-9e6a84a84522', embedding=None, metadata={}, excluded_embed_metadata_keys=[], excluded_llm_metadata_keys=[], relationships={}, metadata_template='{key}: {value}', metadata_separator='\\n', text_resource=MediaResource(embeddings=None, data=None, text=\"\\n\\nChamps Complémentaires (facultatifs)\\n\\n3. **description_op**\\n    \\n    - **Type** : TEXT\\n    - **Description** : Description détaillée de l'opération.\\n    - **Contraintes** : Optionnel.\\n4. **date_creation**\\n    \\n    - **Type** : DATE/TIMESTAMP\\n    - **Description** : Date et heure de création de l'opération.\\n    - **Contraintes** : Optionnel. Peut être défini par défaut à la date/heure actuelle.\\n5. **statut_op**\\n    \\n    - **Type** : ENUM('en cours', 'terminé', 'annulé')\\n    - **Description** : Statut actuel de l'opération.\\n    - **Contraintes** : Optionnel.\\n6. **responsable_op**\\n    \\n    - **Type** : VARCHAR(255)\\n    - **Description** : Nom du responsable ou de l'entité en charge de l'opération.\\n    - **Contraintes** : Optionnel.\\n\", mimetype=None, path=None, url=None), image_resource=None, audio_resource=None, video_resource=None, text_template='{metadata_str}\\n\\n{content}'), Document(id_='8abf7762-5bee-41b2-ba2d-7a4f5d2a9c8c', embedding=None, metadata={}, excluded_embed_metadata_keys=[], excluded_llm_metadata_keys=[], relationships={}, metadata_template='{key}: {value}', metadata_separator='\\n', text_resource=MediaResource(embeddings=None, data=None, text='\\n\\nIndex et Clés\\n\\n- **Clé Primaire** : `id_op`\\n- **Index Secondaires** (si nécessaire) :\\n    - Index sur le champ `nom_op` pour accélérer les recherches textuelles.\\n    - Index composite possible sur `statut_op` et `date_creation` pour des analyses fréquentes par période et statut.\\n', mimetype=None, path=None, url=None), image_resource=None, audio_resource=None, video_resource=None, text_template='{metadata_str}\\n\\n{content}'), Document(id_='f9e7dcc5-1845-46a2-80d8-b552727168b7', embedding=None, metadata={}, excluded_embed_metadata_keys=[], excluded_llm_metadata_keys=[], relationships={}, metadata_template='{key}: {value}', metadata_separator='\\n', text_resource=MediaResource(embeddings=None, data=None, text=\"\\n\\nRelations avec d'autres Tables\\n\\n- **Table `utilisateurs`** :\\n    - Relation possible via le champ `responsable_op` si celui-ci est remplacé par une clé étrangère vers un identifiant d'utilisateur.\\n- **Table `projets`** :\\n    - Une opération peut être liée à un projet spécifique via un champ supplémentaire `id_projet` (clé étrangère).\\n\", mimetype=None, path=None, url=None), image_resource=None, audio_resource=None, video_resource=None, text_template='{metadata_str}\\n\\n{content}'), Document(id_='cbacbdd0-2730-49bd-8813-49b680aaff1c', embedding=None, metadata={}, excluded_embed_metadata_keys=[], excluded_llm_metadata_keys=[], relationships={}, metadata_template='{key}: {value}', metadata_separator='\\n', text_resource=MediaResource(embeddings=None, data=None, text=\"\\n\\nBonnes Pratiques\\n\\n- **Validation des Données** :\\n    - Assurer l'unicité des identifiants avec la clé primaire.\\n    - Implémenter des contrôles de saisie pour le champ `nom_op` (e.g., éviter les doublons non désirés).\\n- **Archivage** :\\n    - Mettre en place une stratégie d'archivage pour les anciennes opérations afin de maintenir les performances.\\n- **Sécurité** :\\n    - Restreindre les droits d'accès à la table en fonction des rôles des utilisateurs.\\n- **Sauvegarde** :\\n    - Programmer des sauvegardes régulières de la base de données.\\n\", mimetype=None, path=None, url=None), image_resource=None, audio_resource=None, video_resource=None, text_template='{metadata_str}\\n\\n{content}'), Document(id_='a4ac0df9-54ee-4882-bcab-d3aa5eff358a', embedding=None, metadata={}, excluded_embed_metadata_keys=[], excluded_llm_metadata_keys=[], relationships={}, metadata_template='{key}: {value}', metadata_separator='\\n', text_resource=MediaResource(embeddings=None, data=None, text='\\n\\nExemple de Requête SQL\\n', mimetype=None, path=None, url=None), image_resource=None, audio_resource=None, video_resource=None, text_template='{metadata_str}\\n\\n{content}'), Document(id_='2f9ed6ff-69e1-4ed5-8d00-b3246a9faef0', embedding=None, metadata={}, excluded_embed_metadata_keys=[], excluded_llm_metadata_keys=[], relationships={}, metadata_template='{key}: {value}', metadata_separator='\\n', text_resource=MediaResource(embeddings=None, data=None, text=\"\\n\\nCréation de la Table\\n\\n```sql\\nCREATE TABLE operations (\\n    id_op INTEGER PRIMARY KEY AUTOINCREMENT,\\n    nom_op VARCHAR(255) NOT NULL,\\n    description_op TEXT,\\n    date_creation TIMESTAMP DEFAULT CURRENT_TIMESTAMP,\\n    statut_op ENUM('en cours', 'terminé', 'annulé'),\\n    responsable_op VARCHAR(255)\\n);\\n```\\n\", mimetype=None, path=None, url=None), image_resource=None, audio_resource=None, video_resource=None, text_template='{metadata_str}\\n\\n{content}'), Document(id_='3b211bc9-597a-4012-8f56-a775f29de2c9', embedding=None, metadata={}, excluded_embed_metadata_keys=[], excluded_llm_metadata_keys=[], relationships={}, metadata_template='{key}: {value}', metadata_separator='\\n', text_resource=MediaResource(embeddings=None, data=None, text=\"\\n\\nAjout d'une Opération\\n\\n```sql\\nINSERT INTO operations (nom_op, description_op, statut_op, responsable_op)\\nVALUES ('Lancement Produit', 'Préparation du lancement du nouveau produit', 'en cours', 'Jean Dupont');\\n```\\n\", mimetype=None, path=None, url=None), image_resource=None, audio_resource=None, video_resource=None, text_template='{metadata_str}\\n\\n{content}'), Document(id_='57a59122-c893-4ff5-a3ca-2e75a5128ed0', embedding=None, metadata={}, excluded_embed_metadata_keys=[], excluded_llm_metadata_keys=[], relationships={}, metadata_template='{key}: {value}', metadata_separator='\\n', text_resource=MediaResource(embeddings=None, data=None, text=\"\\n\\nConsultation des Opérations Actives\\n\\n```sql\\nSELECT * FROM operations WHERE statut_op = 'en cours';\\n```\\n\", mimetype=None, path=None, url=None), image_resource=None, audio_resource=None, video_resource=None, text_template='{metadata_str}\\n\\n{content}'), Document(id_='f8846547-2595-4968-99d3-58f406999f3f', embedding=None, metadata={}, excluded_embed_metadata_keys=[], excluded_llm_metadata_keys=[], relationships={}, metadata_template='{key}: {value}', metadata_separator='\\n', text_resource=MediaResource(embeddings=None, data=None, text=\"\\n\\nConclusion\\n\\nLa table `operations` est essentielle pour la gestion des opérations de l'entreprise. Cette documentation vise à standardiser son utilisation et à en assurer une maintenance efficace. Les extensions futures doivent respecter la structure décrite et les bonnes pratiques établies ici.\", mimetype=None, path=None, url=None), image_resource=None, audio_resource=None, video_resource=None, text_template='{metadata_str}\\n\\n{content}'), Document(id_='038480a0-eaa2-4db4-a1bb-0d344444ade2', embedding=None, metadata={}, excluded_embed_metadata_keys=[], excluded_llm_metadata_keys=[], relationships={}, metadata_template='{key}: {value}', metadata_separator='\\n', text_resource=MediaResource(embeddings=None, data=None, text='---\\nrecepteurs: \"[[Directeur production]]\"\\nentite: realite\\n---\\n', mimetype=None, path=None, url=None), image_resource=None, audio_resource=None, video_resource=None, text_template='{metadata_str}\\n\\n{content}'), Document(id_='a2f7cc5f-21a7-4263-98aa-7b929d2a00bd', embedding=None, metadata={}, excluded_embed_metadata_keys=[], excluded_llm_metadata_keys=[], relationships={}, metadata_template='{key}: {value}', metadata_separator='\\n', text_resource=MediaResource(embeddings=None, data=None, text='---\\nentite: applicatif\\nfeeds: \"[[Datawarehouse]]\"\\n---\\nCe document détaille les caractéristiques techniques de l’ERP (Enterprise Resource Planning) qui alimente le Datawarehouse. L’objectif est de décrire les modules clés, les formats de données, les flux d’intégration, et les mécanismes de gouvernance mis en place pour garantir la fiabilité et la continuité des échanges.\\n\\n---\\n', mimetype=None, path=None, url=None), image_resource=None, audio_resource=None, video_resource=None, text_template='{metadata_str}\\n\\n{content}'), Document(id_='01734f86-2ebc-4236-8ca9-faa44b89fb27', embedding=None, metadata={}, excluded_embed_metadata_keys=[], excluded_llm_metadata_keys=[], relationships={}, metadata_template='{key}: {value}', metadata_separator='\\n', text_resource=MediaResource(embeddings=None, data=None, text='\\n\\n2. Description de l’ERP\\n', mimetype=None, path=None, url=None), image_resource=None, audio_resource=None, video_resource=None, text_template='{metadata_str}\\n\\n{content}'), Document(id_='528bb452-c8a3-4366-b884-2fc1800b5261', embedding=None, metadata={}, excluded_embed_metadata_keys=[], excluded_llm_metadata_keys=[], relationships={}, metadata_template='{key}: {value}', metadata_separator='\\n', text_resource=MediaResource(embeddings=None, data=None, text='\\n\\n2.1 Rôle de l’ERP\\n\\nL’ERP est le système central de gestion des processus opérationnels de l’entreprise. Il gère les données relatives à :\\n\\n- La gestion des ventes et des clients\\n- La planification et le suivi de la production\\n- La gestion des stocks et des approvisionnements\\n- La comptabilité et les finances\\n', mimetype=None, path=None, url=None), image_resource=None, audio_resource=None, video_resource=None, text_template='{metadata_str}\\n\\n{content}'), Document(id_='7c6a32cc-204a-460c-845e-cf75e6aaf0ee', embedding=None, metadata={}, excluded_embed_metadata_keys=[], excluded_llm_metadata_keys=[], relationships={}, metadata_template='{key}: {value}', metadata_separator='\\n', text_resource=MediaResource(embeddings=None, data=None, text='\\n\\n2.2 Modules Clés\\n\\n1. **Module Ventes (SD)** :\\n    - Gestion des commandes clients\\n    - Suivi des factures et paiements\\n2. **Module Production (PP)** :\\n    - Planification de la production\\n    - Suivi des ordres de fabrication\\n3. **Module Logistique (MM)** :\\n    - Gestion des stocks et inventaires\\n    - Approvisionnements et réceptions fournisseurs\\n4. **Module Finances (FI)** :\\n    - Suivi des comptes clients et fournisseurs\\n    - Analyses de rentabilité\\n', mimetype=None, path=None, url=None), image_resource=None, audio_resource=None, video_resource=None, text_template='{metadata_str}\\n\\n{content}'), Document(id_='9f60d54a-edc1-4465-8cf1-e0f2c3a0744c', embedding=None, metadata={}, excluded_embed_metadata_keys=[], excluded_llm_metadata_keys=[], relationships={}, metadata_template='{key}: {value}', metadata_separator='\\n', text_resource=MediaResource(embeddings=None, data=None, text='\\n\\n2.3 Architecture\\n\\n- **Base de données** : Oracle Database 19c\\n- **Langage de programmation** : ABAP et Java\\n- **Hébergement** : Serveurs sur site\\n- **Sécurité** :\\n    - Chiffrement SSL des flux de données\\n    - Authentification LDAP pour les utilisateurs\\n\\n---\\n', mimetype=None, path=None, url=None), image_resource=None, audio_resource=None, video_resource=None, text_template='{metadata_str}\\n\\n{content}'), Document(id_='dead2612-2eae-4341-8825-9cef058a2684', embedding=None, metadata={}, excluded_embed_metadata_keys=[], excluded_llm_metadata_keys=[], relationships={}, metadata_template='{key}: {value}', metadata_separator='\\n', text_resource=MediaResource(embeddings=None, data=None, text='\\n\\n3. Flux d’Intégration avec le Datawarehouse\\n', mimetype=None, path=None, url=None), image_resource=None, audio_resource=None, video_resource=None, text_template='{metadata_str}\\n\\n{content}'), Document(id_='cb6bfe20-2843-4977-b4b1-b67a9684621a', embedding=None, metadata={}, excluded_embed_metadata_keys=[], excluded_llm_metadata_keys=[], relationships={}, metadata_template='{key}: {value}', metadata_separator='\\n', text_resource=MediaResource(embeddings=None, data=None, text='\\n\\n3.1 Objectif des Intégrations\\n\\nTransférer les données critiques des modules de l’ERP vers le Datawarehouse afin de permettre des analyses stratégiques fiables.\\n', mimetype=None, path=None, url=None), image_resource=None, audio_resource=None, video_resource=None, text_template='{metadata_str}\\n\\n{content}'), Document(id_='552fd255-2174-43de-8944-f779b74c1085', embedding=None, metadata={}, excluded_embed_metadata_keys=[], excluded_llm_metadata_keys=[], relationships={}, metadata_template='{key}: {value}', metadata_separator='\\n', text_resource=MediaResource(embeddings=None, data=None, text='\\n\\n3.2 Architecture des Interfaces\\n\\n- **Type d’intégration** : ETL (Extraction, Transformation, Chargement)\\n- **Outil utilisé** : Talend Data Integration\\n- **Fréquence** : Extraction quotidienne à 02h00\\n- **Protocole** : API REST et connecteurs JDBC\\n', mimetype=None, path=None, url=None), image_resource=None, audio_resource=None, video_resource=None, text_template='{metadata_str}\\n\\n{content}'), Document(id_='529a5cda-5856-4889-b138-e44b97b1544a', embedding=None, metadata={}, excluded_embed_metadata_keys=[], excluded_llm_metadata_keys=[], relationships={}, metadata_template='{key}: {value}', metadata_separator='\\n', text_resource=MediaResource(embeddings=None, data=None, text='\\n\\n3.3 Format des Données Transférées\\n\\n- **Données de sortie (ERP)** : JSON et CSV\\n- **Données de destination (Datawarehouse)** : Tables relationnelles PostgreSQL\\n- **Champs principaux** :\\n    - ID client, nom client, segment de marché\\n    - Références produits, quantités vendues, prix unitaire\\n    - Délais de livraison, statut de production\\n', mimetype=None, path=None, url=None), image_resource=None, audio_resource=None, video_resource=None, text_template='{metadata_str}\\n\\n{content}'), Document(id_='f0a42fec-0a27-4d70-b029-a7ac5ab1819b', embedding=None, metadata={}, excluded_embed_metadata_keys=[], excluded_llm_metadata_keys=[], relationships={}, metadata_template='{key}: {value}', metadata_separator='\\n', text_resource=MediaResource(embeddings=None, data=None, text='\\n\\n3.4 Processus ETL\\n\\n1. **Extraction**\\n    - Requêtes SQL pour les tables principales de l’ERP\\n    - Appels d’API pour des données en temps réel\\n2. **Transformation**\\n    - Standardisation des formats de date et des unités de mesure\\n    - Validation des données selon les règles métier\\n3. **Chargement**\\n    - Envoi vers les tables de faits et dimensions du Datawarehouse\\n\\n---\\n', mimetype=None, path=None, url=None), image_resource=None, audio_resource=None, video_resource=None, text_template='{metadata_str}\\n\\n{content}'), Document(id_='00196a13-1d0b-4e5e-8f66-1de6caf47f1f', embedding=None, metadata={}, excluded_embed_metadata_keys=[], excluded_llm_metadata_keys=[], relationships={}, metadata_template='{key}: {value}', metadata_separator='\\n', text_resource=MediaResource(embeddings=None, data=None, text='\\n\\n4. Gouvernance des Données\\n', mimetype=None, path=None, url=None), image_resource=None, audio_resource=None, video_resource=None, text_template='{metadata_str}\\n\\n{content}'), Document(id_='f6fd94d8-da0e-4410-ba9e-65bfde792f2f', embedding=None, metadata={}, excluded_embed_metadata_keys=[], excluded_llm_metadata_keys=[], relationships={}, metadata_template='{key}: {value}', metadata_separator='\\n', text_resource=MediaResource(embeddings=None, data=None, text='\\n\\n4.1 Contrôle Qualité\\n\\n- **Validation** : Contrôles systématiques sur la complétude et la cohérence des données avant chargement\\n- **Métriques suivies** : Taux d’erreurs dans les flux, temps moyen de traitement ETL\\n', mimetype=None, path=None, url=None), image_resource=None, audio_resource=None, video_resource=None, text_template='{metadata_str}\\n\\n{content}'), Document(id_='4ce513a3-f1f1-4e70-92dd-f1a3e64cabbc', embedding=None, metadata={}, excluded_embed_metadata_keys=[], excluded_llm_metadata_keys=[], relationships={}, metadata_template='{key}: {value}', metadata_separator='\\n', text_resource=MediaResource(embeddings=None, data=None, text='\\n\\n4.2 Sécurité des Données\\n\\n- **Accès** : Restreint aux administrateurs système\\n- **Audit** : Historique des accès et des modifications\\n- **Sauvegarde** : Quotidienne avec stockage redondant sur un serveur de secours\\n\\n---\\n', mimetype=None, path=None, url=None), image_resource=None, audio_resource=None, video_resource=None, text_template='{metadata_str}\\n\\n{content}'), Document(id_='39d47220-67d5-484c-9277-690352a8f874', embedding=None, metadata={}, excluded_embed_metadata_keys=[], excluded_llm_metadata_keys=[], relationships={}, metadata_template='{key}: {value}', metadata_separator='\\n', text_resource=MediaResource(embeddings=None, data=None, text='\\n\\n5. Contraintes et Risques\\n', mimetype=None, path=None, url=None), image_resource=None, audio_resource=None, video_resource=None, text_template='{metadata_str}\\n\\n{content}'), Document(id_='ea28c49a-877d-4778-ad71-9fac70206742', embedding=None, metadata={}, excluded_embed_metadata_keys=[], excluded_llm_metadata_keys=[], relationships={}, metadata_template='{key}: {value}', metadata_separator='\\n', text_resource=MediaResource(embeddings=None, data=None, text='\\n\\n5.1 Contraintes\\n\\n- Temps de latence entre l’ERP et le Datawarehouse\\n- Complexité des transformations liées à la volumétrie des données\\n', mimetype=None, path=None, url=None), image_resource=None, audio_resource=None, video_resource=None, text_template='{metadata_str}\\n\\n{content}'), Document(id_='d4b826bf-a8a9-489f-8f1a-c70ed066727f', embedding=None, metadata={}, excluded_embed_metadata_keys=[], excluded_llm_metadata_keys=[], relationships={}, metadata_template='{key}: {value}', metadata_separator='\\n', text_resource=MediaResource(embeddings=None, data=None, text='\\n\\n5.2 Risques\\n\\n- Panne des interfaces ETL pouvant interrompre les flux de données\\n- Problèmes de synchronisation pouvant conduire à des écarts entre l’ERP et le Datawarehouse\\n\\n---\\n', mimetype=None, path=None, url=None), image_resource=None, audio_resource=None, video_resource=None, text_template='{metadata_str}\\n\\n{content}'), Document(id_='02f05e7d-32df-4923-b661-edf3a748eacb', embedding=None, metadata={}, excluded_embed_metadata_keys=[], excluded_llm_metadata_keys=[], relationships={}, metadata_template='{key}: {value}', metadata_separator='\\n', text_resource=MediaResource(embeddings=None, data=None, text='\\n\\n6. Conclusion\\n\\nL’ERP joue un rôle essentiel dans l’alimentation du Datawarehouse en fournissant des données opérationnelles critiques. La mise en place de processus robustes et de contrôles rigoureux garantit la fiabilité et la continuité de cette intégration, indispensable pour le pilotage stratégique de l’entreprise.', mimetype=None, path=None, url=None), image_resource=None, audio_resource=None, video_resource=None, text_template='{metadata_str}\\n\\n{content}'), Document(id_='cabaa3fd-b8a5-4dfe-a59b-b55672ce5570', embedding=None, metadata={}, excluded_embed_metadata_keys=[], excluded_llm_metadata_keys=[], relationships={}, metadata_template='{key}: {value}', metadata_separator='\\n', text_resource=MediaResource(embeddings=None, data=None, text='---\\nentite: field\\nparent: \"[[Base operation]]\"\\n---\\n', mimetype=None, path=None, url=None), image_resource=None, audio_resource=None, video_resource=None, text_template='{metadata_str}\\n\\n{content}'), Document(id_='37bae216-7682-4ee4-86ff-87710af5aaf6', embedding=None, metadata={}, excluded_embed_metadata_keys=[], excluded_llm_metadata_keys=[], relationships={}, metadata_template='{key}: {value}', metadata_separator='\\n', text_resource=MediaResource(embeddings=None, data=None, text='---\\nentite: personne physique\\nacces: \"[[Base operation]]\"\\n---', mimetype=None, path=None, url=None), image_resource=None, audio_resource=None, video_resource=None, text_template='{metadata_str}\\n\\n{content}'), Document(id_='daf8c624-28b1-4c23-8ed7-38a2cc4dd989', embedding=None, metadata={}, excluded_embed_metadata_keys=[], excluded_llm_metadata_keys=[], relationships={}, metadata_template='{key}: {value}', metadata_separator='\\n', text_resource=MediaResource(embeddings=None, data=None, text='\\n\\nObjectif de l’Entretien\\n\\nDiscuter des besoins d’accès à la Base Opération exprimés par Madame Sophie Laurent pour améliorer le pilotage des activités opérationnelles dans sa zone d’influence.\\n\\n---\\n', mimetype=None, path=None, url=None), image_resource=None, audio_resource=None, video_resource=None, text_template='{metadata_str}\\n\\n{content}'), Document(id_='910c9844-a3a9-43e7-9675-1f81741c2a21', embedding=None, metadata={}, excluded_embed_metadata_keys=[], excluded_llm_metadata_keys=[], relationships={}, metadata_template='{key}: {value}', metadata_separator='\\n', text_resource=MediaResource(embeddings=None, data=None, text='\\n\\nPoints Abordés\\n', mimetype=None, path=None, url=None), image_resource=None, audio_resource=None, video_resource=None, text_template='{metadata_str}\\n\\n{content}'), Document(id_='a8b0ea96-099d-4e43-a0de-bca37da6372e', embedding=None, metadata={}, excluded_embed_metadata_keys=[], excluded_llm_metadata_keys=[], relationships={}, metadata_template='{key}: {value}', metadata_separator='\\n', text_resource=MediaResource(embeddings=None, data=None, text='\\n\\n1. **Nécessité d\\'un Accès Plus Large à la Base Opération**\\n\\nMme Laurent a exprimé le besoin d’accéder à des données plus complètes et en temps réel pour optimiser les performances de sa zone. Les arguments avancés incluent :\\n\\n- **Suivi opérationnel** : \"Actuellement, les rapports transmis sont trop agrégés. Un accès direct me permettrait d\\'identifier les détails critiques comme les retards de livraison ou les performances produit.\"\\n- **Réactivité** : \"Avec des données actualisées, je pourrais anticiper les problèmes et prendre des décisions rapidement, sans attendre les rapports hebdomadaires.\"\\n- **Pilotage précis** : \"Cela m’aiderait à mieux suivre les KPIs locaux et à adapter les stratégies en fonction des particularités de ma zone.\"\\n', mimetype=None, path=None, url=None), image_resource=None, audio_resource=None, video_resource=None, text_template='{metadata_str}\\n\\n{content}'), Document(id_='8376dbeb-d730-4aee-9ac3-e47274d285c6', embedding=None, metadata={}, excluded_embed_metadata_keys=[], excluded_llm_metadata_keys=[], relationships={}, metadata_template='{key}: {value}', metadata_separator='\\n', text_resource=MediaResource(embeddings=None, data=None, text=\"\\n\\n2. **Limitations Actuelles**\\n\\nMme Laurent a identifié les limites de l'accès actuel :\\n\\n- **Accès indirect** à travers des rapports pré-générés qui manquent de granularité.\\n- **Délais** dans la transmission des données, parfois incompatibles avec les besoins opérationnels.\\n- **Absence de contextualisation locale** des données, qui rend difficile l’analyse des problèmes spécifiques.\\n\", mimetype=None, path=None, url=None), image_resource=None, audio_resource=None, video_resource=None, text_template='{metadata_str}\\n\\n{content}'), Document(id_='0d8c8d88-4df3-4637-9492-eb979562a329', embedding=None, metadata={}, excluded_embed_metadata_keys=[], excluded_llm_metadata_keys=[], relationships={}, metadata_template='{key}: {value}', metadata_separator='\\n', text_resource=MediaResource(embeddings=None, data=None, text='\\n\\n3. **Types de Données Demandées**\\n\\nMme Laurent a détaillé les données critiques auxquelles elle souhaite accéder :\\n\\n- **Données de ventes** : Détails par client, produit, et segment de marché.\\n- **Données logistiques** : Statut des commandes, délais de livraison, performances des transporteurs.\\n- **Données de production** : Avancement des ordres de fabrication et stocks disponibles.\\n- **Données financières** : Suivi des facturations et paiements des clients.\\n', mimetype=None, path=None, url=None), image_resource=None, audio_resource=None, video_resource=None, text_template='{metadata_str}\\n\\n{content}'), Document(id_='0fed6462-396b-4fe7-bcf8-7a45db64db6d', embedding=None, metadata={}, excluded_embed_metadata_keys=[], excluded_llm_metadata_keys=[], relationships={}, metadata_template='{key}: {value}', metadata_separator='\\n', text_resource=MediaResource(embeddings=None, data=None, text='\\n\\n4. **Propositions d’Accès**\\n\\nM. Martin a proposé plusieurs options pour répondre aux besoins exprimés :\\n\\n- **Accès filtré** à la Base Opération via une interface utilisateur personnalisée.\\n- **Mise en place de dashboards dynamiques** accessibles en temps réel pour visualiser les KPIs.\\n- **Formation** pour s’assurer que Mme Laurent puisse utiliser les outils d’analyse avancés.\\n', mimetype=None, path=None, url=None), image_resource=None, audio_resource=None, video_resource=None, text_template='{metadata_str}\\n\\n{content}'), Document(id_='104367d5-011d-434a-9b64-f3aa2ab649ed', embedding=None, metadata={}, excluded_embed_metadata_keys=[], excluded_llm_metadata_keys=[], relationships={}, metadata_template='{key}: {value}', metadata_separator='\\n', text_resource=MediaResource(embeddings=None, data=None, text='\\n\\n5. **Bénéfices Attendues**\\n\\nMme Laurent estime que l’accès élargi permettrait :\\n\\n- Une **meilleure coordination** avec les équipes terrain.\\n- Une **réduction des retards** grâce à une prise de décision rapide.\\n- Une **amélioration des performances locales**, notamment en augmentant la satisfaction client.\\n\\n---\\n', mimetype=None, path=None, url=None), image_resource=None, audio_resource=None, video_resource=None, text_template='{metadata_str}\\n\\n{content}'), Document(id_='6514946f-57be-4710-86ee-67976adaae77', embedding=None, metadata={}, excluded_embed_metadata_keys=[], excluded_llm_metadata_keys=[], relationships={}, metadata_template='{key}: {value}', metadata_separator='\\n', text_resource=MediaResource(embeddings=None, data=None, text='\\n\\nProchaines Étapes\\n\\n1. Audit des données disponibles dans la Base Opération et identification des champs pertinents pour Mme Laurent (15 janvier 2025).\\n2. Développement d’un accès personnalisé avec interface d’utilisation (31 janvier 2025).\\n3. Organisation d’une session de formation pour la prise en main des nouveaux outils (15 février 2025).\\n\\n---\\n\\n**Validation** : Le compte rendu a été approuvé par Mme Sophie Laurent et M. Philippe Martin.  \\n**Rédigé par** : [Nom du Rédacteur]', mimetype=None, path=None, url=None), image_resource=None, audio_resource=None, video_resource=None, text_template='{metadata_str}\\n\\n{content}'), Document(id_='03b3fd20-ab8a-4b04-927b-0d322426648c', embedding=None, metadata={}, excluded_embed_metadata_keys=[], excluded_llm_metadata_keys=[], relationships={}, metadata_template='{key}: {value}', metadata_separator='\\n', text_resource=MediaResource(embeddings=None, data=None, text='---\\nentite: base\\nparent: \"[[CRM]]\"\\n---\\n\\n\\nLa base de données \"Personnes\" est un composant essentiel du système d\\'information de l\\'entreprise. Elle contient les informations relatives aux individus en interaction avec l\\'organisation, tels que les employés, clients ou partenaires. Ce document décrit la structure, les caractéristiques techniques et les bonnes pratiques associées à cette base de données.\\n', mimetype=None, path=None, url=None), image_resource=None, audio_resource=None, video_resource=None, text_template='{metadata_str}\\n\\n{content}'), Document(id_='a469534f-72b4-4eb3-91a1-c3c6bdf37b43', embedding=None, metadata={}, excluded_embed_metadata_keys=[], excluded_llm_metadata_keys=[], relationships={}, metadata_template='{key}: {value}', metadata_separator='\\n', text_resource=MediaResource(embeddings=None, data=None, text='\\n\\nObjectif\\n\\nFournir une documentation claire et détaillée de la base de données \"Personnes\" pour garantir une compréhension commune entre les équipes techniques et fonctionnelles, et faciliter son utilisation, son extension ou sa maintenance.\\n', mimetype=None, path=None, url=None), image_resource=None, audio_resource=None, video_resource=None, text_template='{metadata_str}\\n\\n{content}'), Document(id_='208c7dff-471a-40de-9ea7-c5532d191bbc', embedding=None, metadata={}, excluded_embed_metadata_keys=[], excluded_llm_metadata_keys=[], relationships={}, metadata_template='{key}: {value}', metadata_separator='\\n', text_resource=MediaResource(embeddings=None, data=None, text='\\n\\nSchéma de la Base de Données\\n', mimetype=None, path=None, url=None), image_resource=None, audio_resource=None, video_resource=None, text_template='{metadata_str}\\n\\n{content}'), Document(id_='8d3bbf7b-5bdf-4edb-8c58-1f374c5671ce', embedding=None, metadata={}, excluded_embed_metadata_keys=[], excluded_llm_metadata_keys=[], relationships={}, metadata_template='{key}: {value}', metadata_separator='\\n', text_resource=MediaResource(embeddings=None, data=None, text='\\n\\nNom de la Table : `personnes`\\n', mimetype=None, path=None, url=None), image_resource=None, audio_resource=None, video_resource=None, text_template='{metadata_str}\\n\\n{content}'), Document(id_='b39d8058-8a79-48a9-8f99-e50c273ab076', embedding=None, metadata={}, excluded_embed_metadata_keys=[], excluded_llm_metadata_keys=[], relationships={}, metadata_template='{key}: {value}', metadata_separator='\\n', text_resource=MediaResource(embeddings=None, data=None, text='\\n\\nChamps Principaux\\n\\n1. **email** _(clé primaire)_\\n    \\n    - **Type** : VARCHAR(255)\\n    - **Description** : Adresse email unique de la personne.\\n    - **Contraintes** :\\n        - Non nul.\\n        - Doit être unique.\\n2. **nom**\\n    \\n    - **Type** : VARCHAR(255)\\n    - **Description** : Nom de la personne.\\n    - **Contraintes** :\\n        - Non nul.\\n', mimetype=None, path=None, url=None), image_resource=None, audio_resource=None, video_resource=None, text_template='{metadata_str}\\n\\n{content}'), Document(id_='fe46965a-d118-45c7-b143-94fa6ea2919f', embedding=None, metadata={}, excluded_embed_metadata_keys=[], excluded_llm_metadata_keys=[], relationships={}, metadata_template='{key}: {value}', metadata_separator='\\n', text_resource=MediaResource(embeddings=None, data=None, text='\\n\\nChamps Complémentaires (facultatifs)\\n\\n3. **prenom**\\n    \\n    - **Type** : VARCHAR(255)\\n    - **Description** : Prénom de la personne.\\n    - **Contraintes** : Optionnel.\\n4. **date_naissance**\\n    \\n    - **Type** : DATE\\n    - **Description** : Date de naissance de la personne.\\n    - **Contraintes** : Optionnel.\\n5. **telephone**\\n    \\n    - **Type** : VARCHAR(15)\\n    - **Description** : Numéro de téléphone de la personne.\\n    - **Contraintes** : Optionnel.\\n6. **adresse**\\n    \\n    - **Type** : TEXT\\n    - **Description** : Adresse postale complète de la personne.\\n    - **Contraintes** : Optionnel.\\n', mimetype=None, path=None, url=None), image_resource=None, audio_resource=None, video_resource=None, text_template='{metadata_str}\\n\\n{content}'), Document(id_='644d92d7-e067-4935-9016-57b617ab72e8', embedding=None, metadata={}, excluded_embed_metadata_keys=[], excluded_llm_metadata_keys=[], relationships={}, metadata_template='{key}: {value}', metadata_separator='\\n', text_resource=MediaResource(embeddings=None, data=None, text='\\n\\nIndex et Clés\\n\\n- **Clé Primaire** : `email`\\n- **Index Secondaires** (si nécessaire) :\\n    - Index sur le champ `nom` pour accélérer les recherches par nom.\\n', mimetype=None, path=None, url=None), image_resource=None, audio_resource=None, video_resource=None, text_template='{metadata_str}\\n\\n{content}'), Document(id_='04834d7d-4204-42c2-84b2-cb9520a73124', embedding=None, metadata={}, excluded_embed_metadata_keys=[], excluded_llm_metadata_keys=[], relationships={}, metadata_template='{key}: {value}', metadata_separator='\\n', text_resource=MediaResource(embeddings=None, data=None, text=\"\\n\\nRelations avec d'autres Tables\\n\\n- **Table `transactions`** :\\n    - Une relation peut être établie entre une personne et les transactions effectuées via le champ `email`.\\n- **Table `projets`** :\\n    - Une personne peut être associée à un ou plusieurs projets via une clé étrangère.\\n\", mimetype=None, path=None, url=None), image_resource=None, audio_resource=None, video_resource=None, text_template='{metadata_str}\\n\\n{content}'), Document(id_='d3fadd32-9817-4c68-8184-9b07b921e1b3', embedding=None, metadata={}, excluded_embed_metadata_keys=[], excluded_llm_metadata_keys=[], relationships={}, metadata_template='{key}: {value}', metadata_separator='\\n', text_resource=MediaResource(embeddings=None, data=None, text=\"\\n\\nBonnes Pratiques\\n\\n- **Validation des Données** :\\n    - Assurer l'unicité des adresses email avec la clé primaire.\\n    - Vérifier la validité des adresses email (format standard).\\n- **Archivage** :\\n    - Mettre en place une stratégie pour les personnes inactives (ex : marquage ou suppression après une certaine période).\\n- **Sécurité** :\\n    - Chiffrer les données sensibles comme l'adresse ou le téléphone.\\n    - Restreindre les droits d'accès à la table en fonction des rôles des utilisateurs.\\n- **Sauvegarde** :\\n    - Programmer des sauvegardes régulières de la base de données.\\n\", mimetype=None, path=None, url=None), image_resource=None, audio_resource=None, video_resource=None, text_template='{metadata_str}\\n\\n{content}'), Document(id_='219b4b3a-6575-49ae-ba5c-435fdb4e1b88', embedding=None, metadata={}, excluded_embed_metadata_keys=[], excluded_llm_metadata_keys=[], relationships={}, metadata_template='{key}: {value}', metadata_separator='\\n', text_resource=MediaResource(embeddings=None, data=None, text='\\n\\nExemple de Requête SQL\\n', mimetype=None, path=None, url=None), image_resource=None, audio_resource=None, video_resource=None, text_template='{metadata_str}\\n\\n{content}'), Document(id_='09586e7c-165f-46c8-976c-a17a50da92f7', embedding=None, metadata={}, excluded_embed_metadata_keys=[], excluded_llm_metadata_keys=[], relationships={}, metadata_template='{key}: {value}', metadata_separator='\\n', text_resource=MediaResource(embeddings=None, data=None, text='\\n\\nCréation de la Table\\n\\n```sql\\nCREATE TABLE personnes (\\n    email VARCHAR(255) PRIMARY KEY,\\n    nom VARCHAR(255) NOT NULL,\\n    prenom VARCHAR(255),\\n    date_naissance DATE,\\n    telephone VARCHAR(15),\\n    adresse TEXT\\n);\\n```\\n', mimetype=None, path=None, url=None), image_resource=None, audio_resource=None, video_resource=None, text_template='{metadata_str}\\n\\n{content}'), Document(id_='8932d336-a5e3-4391-a7e3-0fa6feabb524', embedding=None, metadata={}, excluded_embed_metadata_keys=[], excluded_llm_metadata_keys=[], relationships={}, metadata_template='{key}: {value}', metadata_separator='\\n', text_resource=MediaResource(embeddings=None, data=None, text=\"\\n\\nAjout d'une Personne\\n\\n```sql\\nINSERT INTO personnes (email, nom, prenom, date_naissance, telephone, adresse)\\nVALUES ('j.doe@example.com', 'Doe', 'John', '1990-05-15', '0123456789', '123 Rue Principale, Paris, France');\\n```\\n\", mimetype=None, path=None, url=None), image_resource=None, audio_resource=None, video_resource=None, text_template='{metadata_str}\\n\\n{content}'), Document(id_='2586c429-dcec-43d8-ba4e-5a47b9ed14ae', embedding=None, metadata={}, excluded_embed_metadata_keys=[], excluded_llm_metadata_keys=[], relationships={}, metadata_template='{key}: {value}', metadata_separator='\\n', text_resource=MediaResource(embeddings=None, data=None, text=\"\\n\\nConsultation des Personnes par Nom\\n\\n```sql\\nSELECT * FROM personnes WHERE nom = 'Doe';\\n```\\n\", mimetype=None, path=None, url=None), image_resource=None, audio_resource=None, video_resource=None, text_template='{metadata_str}\\n\\n{content}'), Document(id_='a30c386b-3195-417a-ab23-fd57301d2960', embedding=None, metadata={}, excluded_embed_metadata_keys=[], excluded_llm_metadata_keys=[], relationships={}, metadata_template='{key}: {value}', metadata_separator='\\n', text_resource=MediaResource(embeddings=None, data=None, text=\"\\n\\nConclusion\\n\\nLa table `personnes` est essentielle pour la gestion des individus interagissant avec l'entreprise. Cette documentation vise à standardiser son utilisation et à en assurer une maintenance efficace. Les extensions futures doivent respecter la structure décrite et les bonnes pratiques établies ici.\", mimetype=None, path=None, url=None), image_resource=None, audio_resource=None, video_resource=None, text_template='{metadata_str}\\n\\n{content}'), Document(id_='9812e6cf-1043-4a16-838a-8dc3e891700d', embedding=None, metadata={}, excluded_embed_metadata_keys=[], excluded_llm_metadata_keys=[], relationships={}, metadata_template='{key}: {value}', metadata_separator='\\n', text_resource=MediaResource(embeddings=None, data=None, text='---\\nentite: personne physique\\nacces: \"[[ERP]]\"\\nparent: \"[[Membre ecosysteme 1]]\"\\n---', mimetype=None, path=None, url=None), image_resource=None, audio_resource=None, video_resource=None, text_template='{metadata_str}\\n\\n{content}'), Document(id_='dbb7b8a5-b2b8-4f71-801c-d3f21fe50a6b', embedding=None, metadata={}, excluded_embed_metadata_keys=[], excluded_llm_metadata_keys=[], relationships={}, metadata_template='{key}: {value}', metadata_separator='\\n', text_resource=MediaResource(embeddings=None, data=None, text='\\n\\nObjectif de l’Entretien\\n\\nExplorer les besoins et les problématiques exprimés par les responsables de production concernant l’utilisation de l’ERP pour améliorer les processus de production.\\n\\n---\\n', mimetype=None, path=None, url=None), image_resource=None, audio_resource=None, video_resource=None, text_template='{metadata_str}\\n\\n{content}'), Document(id_='dfd1a689-2d5a-4086-a2cc-d207d373073c', embedding=None, metadata={}, excluded_embed_metadata_keys=[], excluded_llm_metadata_keys=[], relationships={}, metadata_template='{key}: {value}', metadata_separator='\\n', text_resource=MediaResource(embeddings=None, data=None, text='\\n\\nEntretien 1 : Madame Claire Dufresne\\n', mimetype=None, path=None, url=None), image_resource=None, audio_resource=None, video_resource=None, text_template='{metadata_str}\\n\\n{content}'), Document(id_='bb5fc1d9-64ea-4979-bbb2-fa3ace8f149d', embedding=None, metadata={}, excluded_embed_metadata_keys=[], excluded_llm_metadata_keys=[], relationships={}, metadata_template='{key}: {value}', metadata_separator='\\n', text_resource=MediaResource(embeddings=None, data=None, text='\\n\\n1. **Problèmes Actuels**\\n\\nMme Dufresne a relevé plusieurs points bloquants dans l’utilisation de l’ERP :\\n\\n- **Manque de visibilité en temps réel** sur l’état des ordres de production.\\n- **Difficulté à extraire des données de performance** par ligne de production.\\n- **Absence de notifications automatiques** pour les dépassements de seuils critiques (retards, pannes).\\n', mimetype=None, path=None, url=None), image_resource=None, audio_resource=None, video_resource=None, text_template='{metadata_str}\\n\\n{content}'), Document(id_='fff22b94-cd24-4240-92a8-8dc5fe1a2dd2', embedding=None, metadata={}, excluded_embed_metadata_keys=[], excluded_llm_metadata_keys=[], relationships={}, metadata_template='{key}: {value}', metadata_separator='\\n', text_resource=MediaResource(embeddings=None, data=None, text='\\n\\n2. **Besoins Identifiés**\\n\\nMme Dufresne souhaite disposer :\\n\\n- D’un tableau de bord personnalisé montrant :\\n    - L’état des ordres en cours.\\n    - Les KPI par équipe et par machine.\\n- D’alertes en temps réel pour les anomalies majeures.\\n- D’un accès plus intuitif à l’historique des données de production pour l’analyse des tendances.\\n', mimetype=None, path=None, url=None), image_resource=None, audio_resource=None, video_resource=None, text_template='{metadata_str}\\n\\n{content}'), Document(id_='aec57330-082d-4d82-bc6d-48f2d10b5511', embedding=None, metadata={}, excluded_embed_metadata_keys=[], excluded_llm_metadata_keys=[], relationships={}, metadata_template='{key}: {value}', metadata_separator='\\n', text_resource=MediaResource(embeddings=None, data=None, text='\\n\\n3. **Propositions**\\n\\nM. Martin a proposé :\\n\\n- La création d’un dashboard adapté aux besoins des responsables de production.\\n- L’intégration d’un système d’alertes personnalisables dans l’ERP.\\n- Une session de formation pour maximiser l’utilisation des outils existants.\\n\\n', mimetype=None, path=None, url=None), image_resource=None, audio_resource=None, video_resource=None, text_template='{metadata_str}\\n\\n{content}'), Document(id_='eb9ae2f2-642c-4797-9a8b-e42f15d037f6', embedding=None, metadata={}, excluded_embed_metadata_keys=[], excluded_llm_metadata_keys=[], relationships={}, metadata_template='{key}: {value}', metadata_separator='\\n', text_resource=MediaResource(embeddings=None, data=None, text='---\\nentite: applicatif\\nrealites: \"[[Email non-renseignés]]\"\\n---\\n\\nLe CRM est un applicatif de gestion des relations clients conçu pour centraliser, organiser et exploiter les informations relatives aux individus (clients, prospects, partenaires, etc.) à partir d\\'une base personne. Cette solution permet d’optimiser les interactions commerciales, d’améliorer le suivi des relations, et de renforcer la fidélisation client grâce à des fonctionnalités adaptées aux besoins opérationnels et stratégiques.\\n\\n**Principales Caractéristiques :**\\n\\n1. **Gestion des Contacts :**\\n    \\n    - Centralisation des données individuelles (nom, prénom, coordonnées, statut, etc.).\\n    - Segmentation et classification des contacts selon des critères personnalisables (client, prospect, fournisseur).\\n2. **Historique des Interactions :**\\n    \\n    - Suivi des échanges (emails, appels, réunions) pour chaque contact.\\n    - Notifications et rappels pour les tâches et les événements importants.\\n3. **Pipeline de Ventes :**\\n    \\n    - Gestion des opportunités commerciales, des devis, et des contrats.\\n    - Visualisation en temps réel du cycle de vente et des performances par étape.\\n4. **Automatisation :**\\n    \\n    - Création de campagnes marketing ciblées via des workflows automatisés.\\n    - Envoi d’emails et de SMS personnalisés à grande échelle.\\n5. **Rapports et Analyses :**\\n    \\n    - Génération de tableaux de bord et de rapports dynamiques sur les performances commerciales.\\n    - Indicateurs clés (KPI) pour le suivi des ventes, des activités marketing, et de la satisfaction client.\\n6. **Intégration et Extensibilité :**\\n    \\n    - Connecteurs vers d\\'autres outils (ERP, plateformes e-commerce, outils de marketing).\\n    - API pour des intégrations spécifiques ou des extensions sur mesure.\\n\\n**Avantages :**\\n\\n- Centralisation complète des informations au sein d’une base personne unique, assurant cohérence et fiabilité des données.\\n- Accessibilité multi-support (web, mobile) pour une utilisation simplifiée sur le terrain ou au bureau.\\n- Solution évolutive adaptée aux petites, moyennes et grandes entreprises.\\n\\n**Exemples d\\'Utilisation :**\\n\\n- Suivi des prospects pour une équipe commerciale.\\n- Organisation et analyse des campagnes de fidélisation pour un département marketing.\\n- Gestion des relations avec les partenaires pour une entreprise multisectorielle.\\n\\n**Technologies Utilisées :**\\n\\n- Backend : [Ex. Python, Node.js]\\n- Base de données : [Ex. PostgreSQL]\\n- Frontend : [Ex. React, Angular]\\n- Infrastructure : [Ex. AWS, Azure]\\n\\n---\\n\\nCe descriptif peut être adapté selon les spécificités de votre applicatif et des technologies utilisées. Souhaitez-vous approfondir un point particulier ?', mimetype=None, path=None, url=None), image_resource=None, audio_resource=None, video_resource=None, text_template='{metadata_str}\\n\\n{content}'), Document(id_='a5196ca7-5ab7-4349-ae5e-87e34b8d3510', embedding=None, metadata={}, excluded_embed_metadata_keys=[], excluded_llm_metadata_keys=[], relationships={}, metadata_template='{key}: {value}', metadata_separator='\\n', text_resource=MediaResource(embeddings=None, data=None, text='---\\nentite: personne physique\\nattente: \"[[Emails renseignés]]\"\\nacces: \"[[CRM]]\"\\n---', mimetype=None, path=None, url=None), image_resource=None, audio_resource=None, video_resource=None, text_template='{metadata_str}\\n\\n{content}'), Document(id_='57803d92-626d-4b49-ba21-ee94f7b2888a', embedding=None, metadata={}, excluded_embed_metadata_keys=[], excluded_llm_metadata_keys=[], relationships={}, metadata_template='{key}: {value}', metadata_separator='\\n', text_resource=MediaResource(embeddings=None, data=None, text=\"\\n\\n**Utilisation attendue de la base personne**\\n\\n**1. Objectif principal**  \\nLe chargé de campagne marketing utilise la base personne comme outil central pour la segmentation des audiences et la personnalisation des campagnes.\\n\\n**2. Données clés**\\n\\n- **Adresse e-mail** : Élément indispensable pour l'envoi d'e-mails ciblés et la mesure des performances des campagnes.\\n- **Nom et prénom** : Facilite la personnalisation des messages.\\n- **Historique des interactions** : Permet d'adapter les campagnes en fonction du comportement passé.\\n- **Données démographiques** : Aide à la segmentation et à la création de personas.\\n\\n**3. Rôle des données**  \\nLa complétude des informations dans la base personne est cruciale pour maximiser :\\n\\n- **Le taux d’ouverture des e-mails.**\\n- **La pertinence des messages.**\\n- **La satisfaction et la fidélité des clients.**\\n\\n\", mimetype=None, path=None, url=None), image_resource=None, audio_resource=None, video_resource=None, text_template='{metadata_str}\\n\\n{content}')]\n"
     ]
    }
   ],
   "source": [
    "#locate obsidian files that make your graph\n",
    "filepath = r\"/Users/arthursarazin/Documents/coreandgraphs/graphandgovern/graph\"\n",
    "\n",
    "#load the graph files \n",
    "graph_files = ObsidianReader(filepath).load_data()\n",
    "print(list(graph_files))"
   ]
  },
  {
   "cell_type": "markdown",
   "id": "b4066792",
   "metadata": {},
   "source": [
    "# Using manual code to create specific ontology"
   ]
  },
  {
   "cell_type": "code",
   "execution_count": 16,
   "id": "16f92a58",
   "metadata": {},
   "outputs": [],
   "source": [
    "# Fonction pour extraire les métadonnées YAML et le titre d'un fichier Markdown\n",
    "def extract_metadata_and_title(file_path):\n",
    "    with open(file_path, 'r', encoding='utf-8') as f:\n",
    "        content = f.read()\n",
    "        # Recherchez la section YAML (entre `---` au début et à la fin)\n",
    "        if content.startswith(\"---\"):\n",
    "            try:\n",
    "                yaml_block = content.split(\"---\", 2)[1]\n",
    "                metadata = yaml.safe_load(yaml_block)\n",
    "                return os.path.basename(file_path).replace(\".md\", \"\"), metadata\n",
    "            except Exception as e:\n",
    "                print(f\"Erreur lors de l'extraction des métadonnées de {file_path}: {e}\")\n",
    "                return None, None\n",
    "        return os.path.basename(file_path).replace(\".md\", \"\"), None\n",
    "\n",
    "# Parcourir les fichiers Obsidian et créer des entités et relations\n",
    "def process_obsidian_notes(directory):\n",
    "    entities = []\n",
    "    relations = []\n",
    "    \n",
    "    for root, _, files in os.walk(directory):\n",
    "        for file in files:\n",
    "            if file.endswith(\".md\"):\n",
    "                file_path = os.path.join(root, file)\n",
    "                title, metadata = extract_metadata_and_title(file_path)\n",
    "                if title:\n",
    "                    # Ajouter l'entité basée sur le titre\n",
    "                    entities.append({\"name\": title})\n",
    "                    \n",
    "                    # Ajouter les relations basées sur les propriétés YAML\n",
    "                    if metadata:\n",
    "                        for key, value in metadata.items():\n",
    "                            relations.append({\n",
    "                                \"type\": key,  # Nom de la propriété comme relation\n",
    "                                \"source\": title,  # Titre du fichier comme entité source\n",
    "                                \"target\": value,  # Valeur de la propriété comme entité cible\n",
    "                            })\n",
    "    return entities, relations\n",
    "\n"
   ]
  },
  {
   "cell_type": "code",
   "execution_count": 17,
   "id": "95381307",
   "metadata": {},
   "outputs": [
    {
     "name": "stdout",
     "output_type": "stream",
     "text": [
      "[]\n"
     ]
    }
   ],
   "source": [
    "# Exemple d'utilisation\n",
    "obsidian_dir = r\"C:\\Users\\asarazin\\OneDrive - Veltys Max\\Documents\\documente-marcel\\graph\"\n",
    "entities, relations = process_obsidian_notes(obsidian_dir)\n",
    "\n",
    "print(relations)"
   ]
  },
  {
   "cell_type": "markdown",
   "id": "fe5efb9f-d02f-490e-966c-f490b5e9db3e",
   "metadata": {},
   "source": [
    "# Set LLM (OpenAI)"
   ]
  },
  {
   "cell_type": "code",
   "execution_count": null,
   "id": "1b597ecc",
   "metadata": {},
   "outputs": [],
   "source": [
    "load_dotenv()  # Charge les variables depuis le fichier .env\n",
    "api_key = os.getenv(\"OPENAI_API_KEY_UP\")\n",
    "# Modifier ou ajouter une variable d'environnement\n",
    "os.environ[\"OPENAI_API_KEY\"] = api_key"
   ]
  },
  {
   "cell_type": "code",
   "execution_count": 19,
   "id": "a30f2c04-d01b-47ce-a532-c6c8fb4ee42c",
   "metadata": {},
   "outputs": [],
   "source": [
    "llm = OpenAI(temperature=0, model=\"gpt-4o\", max_tokens=3000)\n",
    "Settings.llm = llm\n",
    "Settings.chunk_size = 512"
   ]
  },
  {
   "cell_type": "markdown",
   "id": "6a010330-bc6a-4e1c-8605-16afe8200585",
   "metadata": {},
   "source": [
    "# Set local LLM for embeddings ()"
   ]
  },
  {
   "cell_type": "code",
   "execution_count": 20,
   "id": "aa6be1f9-b33d-400a-a471-eeeeb35c0448",
   "metadata": {},
   "outputs": [
    {
     "name": "stdout",
     "output_type": "stream",
     "text": [
      "INFO:sentence_transformers.SentenceTransformer:Load pretrained SentenceTransformer: BAAI/bge-base-en-v1.5\n",
      "Load pretrained SentenceTransformer: BAAI/bge-base-en-v1.5\n",
      "Load pretrained SentenceTransformer: BAAI/bge-base-en-v1.5\n",
      "INFO:sentence_transformers.SentenceTransformer:2 prompts are loaded, with the keys: ['query', 'text']\n",
      "2 prompts are loaded, with the keys: ['query', 'text']\n",
      "2 prompts are loaded, with the keys: ['query', 'text']\n"
     ]
    }
   ],
   "source": [
    "# bge-base embedding model\n",
    "Settings.embed_model = HuggingFaceEmbedding(model_name=\"BAAI/bge-base-en-v1.5\")\n",
    "#Settings.embed_model = OpenAIEmbedding(model=\"text-embedding-3-small\")\n"
   ]
  },
  {
   "cell_type": "markdown",
   "id": "c57e871d-dbf8-4cb1-897d-bdaef21b170d",
   "metadata": {},
   "source": [
    "# Set LLM for chat  (Local)"
   ]
  },
  {
   "cell_type": "code",
   "execution_count": 21,
   "id": "5843a4c5-e11f-4c32-b446-2aec529a5789",
   "metadata": {},
   "outputs": [],
   "source": [
    "#llm = Ollama(model=\"tinyllama\", request_timeout=120.0)\n",
    "#Settings.llm = llm\n",
    "#Settings.chunk_size = 512"
   ]
  },
  {
   "cell_type": "markdown",
   "id": "21c5460a-bb6d-4839-92db-1180e146af06",
   "metadata": {},
   "source": [
    "# Test LLM"
   ]
  },
  {
   "cell_type": "code",
   "execution_count": 22,
   "id": "8a1e0de1-14c5-4b4b-9e40-ebbdae50b263",
   "metadata": {
    "scrolled": true
   },
   "outputs": [
    {
     "name": "stdout",
     "output_type": "stream",
     "text": [
      "INFO:httpx:HTTP Request: POST https://api.openai.com/v1/chat/completions \"HTTP/1.1 200 OK\"\n",
      "HTTP Request: POST https://api.openai.com/v1/chat/completions \"HTTP/1.1 200 OK\"\n",
      "HTTP Request: POST https://api.openai.com/v1/chat/completions \"HTTP/1.1 200 OK\"\n",
      "assistant: As a data governance consultant, I don't have personal preferences or favorites. However, I can tell you about some popular data governance tools that are widely used in the industry. These include:\n",
      "\n",
      "1. **Collibra**: Known for its comprehensive data governance platform that helps organizations manage data assets, ensure compliance, and improve data quality.\n",
      "\n",
      "2. **Informatica Axon**: Offers a collaborative data governance solution that integrates with other Informatica products to provide a holistic view of data assets.\n",
      "\n",
      "3. **Alation**: Provides a data catalog that helps organizations discover, understand, and govern their data assets effectively.\n",
      "\n",
      "4. **Talend**: Offers data integration and governance solutions that help ensure data quality and compliance across various data sources.\n",
      "\n",
      "5. **IBM Watson Knowledge Catalog**: Part of IBM's data governance suite, it helps organizations manage and govern their data assets with AI-driven insights.\n",
      "\n",
      "Each of these tools has its strengths and is suited to different organizational needs and environments. The choice of tool often depends on specific requirements such as integration capabilities, scalability, user interface, and budget.\n"
     ]
    }
   ],
   "source": [
    "messages = [\n",
    "    ChatMessage(\n",
    "        role=\"system\", content=\"You are a data governance consultant\"\n",
    "    ),\n",
    "    ChatMessage(role=\"user\", content=\"What's your favorite data tool ?\"),\n",
    "]\n",
    "resp = llm.chat(messages)\n",
    "print(resp)"
   ]
  },
  {
   "cell_type": "code",
   "execution_count": 23,
   "id": "ee83593e",
   "metadata": {},
   "outputs": [],
   "source": [
    "# Instantiate vector store\n",
    "simple_glossary = SimpleDirectoryReader(\n",
    "    r\"/Users/arthursarazin/Documents/coreandgraphs/graphandgovern/graph\"\n",
    ")"
   ]
  },
  {
   "cell_type": "markdown",
   "id": "d9b83af3-ff18-40f0-8469-5c8b2a75b5dd",
   "metadata": {},
   "source": [
    "# Instantiate graph store "
   ]
  },
  {
   "cell_type": "code",
   "execution_count": 24,
   "id": "e12d5f9c-03ea-4af6-a3ad-c1764d08e99b",
   "metadata": {},
   "outputs": [],
   "source": [
    "graph_store = SimpleGraphStore()\n",
    "graph_storage_context = StorageContext.from_defaults(graph_store=graph_store)"
   ]
  },
  {
   "cell_type": "markdown",
   "id": "f2f102bb",
   "metadata": {},
   "source": [
    "# Instantiate ontology store"
   ]
  },
  {
   "cell_type": "code",
   "execution_count": 25,
   "id": "a66387e2",
   "metadata": {},
   "outputs": [],
   "source": [
    "onto_store = SimpleGraphStore()\n",
    "onto_storage_context = StorageContext.from_defaults(graph_store=onto_store)"
   ]
  },
  {
   "cell_type": "markdown",
   "id": "b94eacca-42e3-4140-a620-c199f3578e6e",
   "metadata": {},
   "source": [
    "# Construct Index"
   ]
  },
  {
   "cell_type": "markdown",
   "id": "ff6a821e-abd8-4cb4-b2dc-98163aa332df",
   "metadata": {},
   "source": [
    "## Construct Vector Store Index"
   ]
  },
  {
   "cell_type": "code",
   "execution_count": 26,
   "id": "53fee7a2",
   "metadata": {},
   "outputs": [
    {
     "data": {
      "application/vnd.jupyter.widget-view+json": {
       "model_id": "2b215dca3d2b488ca40e67511c34e670",
       "version_major": 2,
       "version_minor": 0
      },
      "text/plain": [
       "Parsing nodes:   0%|          | 0/111 [00:00<?, ?it/s]"
      ]
     },
     "metadata": {},
     "output_type": "display_data"
    },
    {
     "data": {
      "application/vnd.jupyter.widget-view+json": {
       "model_id": "9fbd6ed2cecf45dbbab2df74db39c4d2",
       "version_major": 2,
       "version_minor": 0
      },
      "text/plain": [
       "Generating embeddings:   0%|          | 0/112 [00:00<?, ?it/s]"
      ]
     },
     "metadata": {},
     "output_type": "display_data"
    },
    {
     "data": {
      "application/vnd.jupyter.widget-view+json": {
       "model_id": "2598d2ab7bd44545bc235b63243a2952",
       "version_major": 2,
       "version_minor": 0
      },
      "text/plain": [
       "Batches:   0%|          | 0/1 [00:00<?, ?it/s]"
      ]
     },
     "metadata": {},
     "output_type": "display_data"
    },
    {
     "data": {
      "application/vnd.jupyter.widget-view+json": {
       "model_id": "1d6f1fc7a66f4e46bb7568803c0de711",
       "version_major": 2,
       "version_minor": 0
      },
      "text/plain": [
       "Batches:   0%|          | 0/1 [00:00<?, ?it/s]"
      ]
     },
     "metadata": {},
     "output_type": "display_data"
    },
    {
     "data": {
      "application/vnd.jupyter.widget-view+json": {
       "model_id": "15e7d37d8cce438aae0c58ee187b7aee",
       "version_major": 2,
       "version_minor": 0
      },
      "text/plain": [
       "Batches:   0%|          | 0/1 [00:00<?, ?it/s]"
      ]
     },
     "metadata": {},
     "output_type": "display_data"
    },
    {
     "data": {
      "application/vnd.jupyter.widget-view+json": {
       "model_id": "f756332815854de79d69455bff57f493",
       "version_major": 2,
       "version_minor": 0
      },
      "text/plain": [
       "Batches:   0%|          | 0/1 [00:00<?, ?it/s]"
      ]
     },
     "metadata": {},
     "output_type": "display_data"
    },
    {
     "data": {
      "application/vnd.jupyter.widget-view+json": {
       "model_id": "6ed9fa7c1fbb4b9590e8802f7c122156",
       "version_major": 2,
       "version_minor": 0
      },
      "text/plain": [
       "Batches:   0%|          | 0/1 [00:00<?, ?it/s]"
      ]
     },
     "metadata": {},
     "output_type": "display_data"
    },
    {
     "data": {
      "application/vnd.jupyter.widget-view+json": {
       "model_id": "88f3d3c06f784cf1ae87369a5ec35856",
       "version_major": 2,
       "version_minor": 0
      },
      "text/plain": [
       "Batches:   0%|          | 0/1 [00:00<?, ?it/s]"
      ]
     },
     "metadata": {},
     "output_type": "display_data"
    },
    {
     "data": {
      "application/vnd.jupyter.widget-view+json": {
       "model_id": "59a8837457c1447eafc216838b6c8d63",
       "version_major": 2,
       "version_minor": 0
      },
      "text/plain": [
       "Batches:   0%|          | 0/1 [00:00<?, ?it/s]"
      ]
     },
     "metadata": {},
     "output_type": "display_data"
    },
    {
     "data": {
      "application/vnd.jupyter.widget-view+json": {
       "model_id": "032e05ac2549413daf340e4d7ecaf123",
       "version_major": 2,
       "version_minor": 0
      },
      "text/plain": [
       "Batches:   0%|          | 0/1 [00:00<?, ?it/s]"
      ]
     },
     "metadata": {},
     "output_type": "display_data"
    },
    {
     "data": {
      "application/vnd.jupyter.widget-view+json": {
       "model_id": "f0afd76a907d420186712cdc3c729c27",
       "version_major": 2,
       "version_minor": 0
      },
      "text/plain": [
       "Batches:   0%|          | 0/1 [00:00<?, ?it/s]"
      ]
     },
     "metadata": {},
     "output_type": "display_data"
    },
    {
     "data": {
      "application/vnd.jupyter.widget-view+json": {
       "model_id": "39f8e200502b4adaacf2277e54bbbbdf",
       "version_major": 2,
       "version_minor": 0
      },
      "text/plain": [
       "Batches:   0%|          | 0/1 [00:00<?, ?it/s]"
      ]
     },
     "metadata": {},
     "output_type": "display_data"
    },
    {
     "data": {
      "application/vnd.jupyter.widget-view+json": {
       "model_id": "161bf9846e1148b69a69ce4a0fd9fbb5",
       "version_major": 2,
       "version_minor": 0
      },
      "text/plain": [
       "Batches:   0%|          | 0/1 [00:00<?, ?it/s]"
      ]
     },
     "metadata": {},
     "output_type": "display_data"
    },
    {
     "data": {
      "application/vnd.jupyter.widget-view+json": {
       "model_id": "991c7434557444c0b59ca5259178de56",
       "version_major": 2,
       "version_minor": 0
      },
      "text/plain": [
       "Batches:   0%|          | 0/1 [00:00<?, ?it/s]"
      ]
     },
     "metadata": {},
     "output_type": "display_data"
    }
   ],
   "source": [
    "vector_index = VectorStoreIndex.from_documents(\n",
    "    documents = simple_glossary.load_data(),\n",
    "    show_progress=True)"
   ]
  },
  {
   "cell_type": "code",
   "execution_count": 41,
   "id": "4c8c116b",
   "metadata": {},
   "outputs": [],
   "source": [
    "# save index to disk\n",
    "vector_index.set_index_id(\"vector_index\")\n",
    "vector_index.storage_context.persist(\"vector\")"
   ]
  },
  {
   "cell_type": "markdown",
   "id": "6061a476-f5cc-4805-ad25-6e1533e787e5",
   "metadata": {},
   "source": [
    "## Construct knowledge graph index "
   ]
  },
  {
   "cell_type": "code",
   "execution_count": 42,
   "id": "250b454a-f598-4749-8847-f59fa3a36a47",
   "metadata": {},
   "outputs": [],
   "source": [
    "def process_document(doc):\n",
    "    # This function will be called for each document\n",
    "    print(f\"Processing document: {doc.doc_id}\")\n",
    "    return doc"
   ]
  },
  {
   "cell_type": "code",
   "execution_count": null,
   "id": "3ca242f4-8ce0-4599-a888-eccc840b1587",
   "metadata": {},
   "outputs": [],
   "source": [
    "# Assuming you have your graph files loaded\n",
    "print(f\"Starting to process {len(graph_files)} documents...\")"
   ]
  },
  {
   "cell_type": "code",
   "execution_count": null,
   "id": "73397fd8-2bb8-41c3-ae12-f64621c9fa54",
   "metadata": {
    "scrolled": true
   },
   "outputs": [],
   "source": [
    "# Wrap your document processing in a progress bar\n",
    "graph_index = KnowledgeGraphIndex.from_documents(\n",
    "        documents=[process_document(doc) for doc in graph_files],  # process one document at a time\n",
    "        max_triplets_per_chunk=2,\n",
    "        storage_context=graph_storage_context,\n",
    "        include_embeddings=True,\n",
    "    show_progress=True,\n",
    ")\n"
   ]
  },
  {
   "cell_type": "code",
   "execution_count": null,
   "id": "bdf91f91-dfe7-4034-8719-54b10a1d1a01",
   "metadata": {},
   "outputs": [],
   "source": [
    "print(graph_index)"
   ]
  },
  {
   "cell_type": "code",
   "execution_count": 46,
   "id": "7e2e5de7-68d1-4b89-b1c2-e703f31419d7",
   "metadata": {
    "scrolled": true
   },
   "outputs": [],
   "source": [
    "graph_index.set_index_id(\"graph_index\")\n",
    "graph_index.storage_context.persist(\"knowledge_graph\")\n",
    "graph_storage_context.persist(persist_dir=\"knowledge_graph\")\n"
   ]
  },
  {
   "cell_type": "markdown",
   "id": "0a48545d",
   "metadata": {},
   "source": [
    "## Construct knowledge with ontology as assistant"
   ]
  },
  {
   "cell_type": "code",
   "execution_count": 47,
   "id": "64c7bd75",
   "metadata": {},
   "outputs": [],
   "source": [
    "onto_store = SimpleGraphStore()\n",
    "onto_storage_context = StorageContext.from_defaults(graph_store=onto_store)"
   ]
  },
  {
   "cell_type": "code",
   "execution_count": 48,
   "id": "76ed084e",
   "metadata": {},
   "outputs": [],
   "source": [
    "# Configurer DynamicLLMPathExtractor avec les entités et relations extraites\n",
    "kg_extractor = DynamicLLMPathExtractor(\n",
    "    llm=llm,\n",
    "    max_triplets_per_chunk=20,\n",
    "    num_workers=4,\n",
    "    allowed_entity_types=None,  # Si vous ne limitez pas les types d'entités\n",
    "    allowed_relation_types=None,  # Si vous ne limitez pas les types de relations\n",
    "    allowed_entity_props=None,\n",
    "    allowed_relation_props=None,\n",
    ")"
   ]
  },
  {
   "cell_type": "code",
   "execution_count": null,
   "id": "7b0225a3",
   "metadata": {},
   "outputs": [],
   "source": [
    "# Résumé des entités et relations extraites\n",
    "print(\"Entités :\")\n",
    "for entity in entities:\n",
    "    print(entity)\n",
    "\n",
    "print(\"\\nRelations :\")\n",
    "for relation in relations:\n",
    "    print(relation)"
   ]
  },
  {
   "cell_type": "code",
   "execution_count": null,
   "id": "2e813096",
   "metadata": {},
   "outputs": [],
   "source": [
    "onto_index = PropertyGraphIndex.from_documents(\n",
    "    documents=[process_document(doc) for doc in graph_files],\n",
    "    llm=llm,\n",
    "    storage_context=onto_storage_context,\n",
    "    embed_kg_nodes=True,\n",
    "    kg_extractors=[kg_extractor],\n",
    "    show_progress=True,\n",
    "    graph_store=onto_store \n",
    "\n",
    ")"
   ]
  },
  {
   "cell_type": "code",
   "execution_count": null,
   "id": "cba268ac",
   "metadata": {},
   "outputs": [],
   "source": [
    "print(onto_storage_context)"
   ]
  },
  {
   "cell_type": "code",
   "execution_count": 52,
   "id": "7314a0db",
   "metadata": {},
   "outputs": [],
   "source": [
    "# save index to disk\n",
    "onto_index.set_index_id(\"onto_index\")\n",
    "onto_index.storage_context.persist(\"onto_graph\")\n",
    "onto_storage_context.persist(persist_dir=\"onto_graph\")"
   ]
  }
 ],
 "metadata": {
  "kernelspec": {
   "display_name": "base",
   "language": "python",
   "name": "python3"
  },
  "language_info": {
   "codemirror_mode": {
    "name": "ipython",
    "version": 3
   },
   "file_extension": ".py",
   "mimetype": "text/x-python",
   "name": "python",
   "nbconvert_exporter": "python",
   "pygments_lexer": "ipython3",
   "version": "3.12.4"
  }
 },
 "nbformat": 4,
 "nbformat_minor": 5
}
