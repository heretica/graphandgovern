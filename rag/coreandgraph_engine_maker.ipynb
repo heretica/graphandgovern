{
 "cells": [
  {
   "cell_type": "code",
   "execution_count": 1,
   "id": "614fc4e2-0e04-49b0-bf7c-05efee48933f",
   "metadata": {},
   "outputs": [],
   "source": [
    "\n",
    "from llama_index.readers.obsidian import ObsidianReader\n",
    "import openai\n",
    "from llama_index.core.memory.chat_memory_buffer import MessageRole\n",
    "from llama_index.core import SimpleDirectoryReader, KnowledgeGraphIndex, VectorStoreIndex\n",
    "from llama_index.core.graph_stores import SimpleGraphStore\n",
    "from llama_index.core.storage.docstore import SimpleDocumentStore\n",
    "from llama_index.core import Document, PropertyGraphIndex\n",
    "from llama_index.core.storage.index_store import SimpleIndexStore\n",
    "from llama_index.core.vector_stores import SimpleVectorStore\n",
    "from llama_index.core import Settings\n",
    "from IPython.display import Markdown, display\n",
    "from llama_index.llms.ollama import Ollama\n",
    "from tqdm.notebook import tqdm\n",
    "import time\n",
    "import os\n",
    "from llama_index.core.llms import ChatMessage\n",
    "from llama_index.core import StorageContext\n",
    "from llama_index.llms.ollama import Ollama\n",
    "from llama_index.embeddings.ollama import OllamaEmbedding\n",
    "from llama_index.embeddings.huggingface import HuggingFaceEmbedding\n",
    "from llama_index.embeddings.openai import OpenAIEmbedding\n",
    "from llama_index.llms.openai import OpenAI\n",
    "from llama_index.core.memory import ChatMemoryBuffer\n",
    "import logging\n",
    "import sys\n",
    "import ipywidgets as widgets\n",
    "import json\n",
    "from llama_index.core.callbacks import CallbackManager\n",
    "from llama_index.core.callbacks import LlamaDebugHandler\n",
    "from llama_index.core import ServiceContext\n",
    "from llama_index.core.query_engine import RetrieverQueryEngine\n",
    "from llama_index.core.retrievers import KnowledgeGraphRAGRetriever\n",
    "from llama_index.core.indices.property_graph import (\n",
    "    SimpleLLMPathExtractor,\n",
    "    SchemaLLMPathExtractor,\n",
    "    DynamicLLMPathExtractor,\n",
    ")\n",
    "import yaml\n",
    "from dotenv import load_dotenv"
   ]
  },
  {
   "cell_type": "code",
   "execution_count": 2,
   "id": "b5e9f925-0bd9-406c-a41d-8be268260b0f",
   "metadata": {},
   "outputs": [],
   "source": [
    "from llama_index.core import (\n",
    "    load_index_from_storage,\n",
    "    load_indices_from_storage,\n",
    "    load_graph_from_storage,\n",
    ")"
   ]
  },
  {
   "cell_type": "markdown",
   "id": "ed392292",
   "metadata": {},
   "source": []
  },
  {
   "cell_type": "code",
   "execution_count": 3,
   "id": "8291822a",
   "metadata": {},
   "outputs": [],
   "source": [
    "import nest_asyncio\n",
    "\n",
    "nest_asyncio.apply()"
   ]
  },
  {
   "cell_type": "code",
   "execution_count": 4,
   "id": "17dd9f9d-7e21-49ef-9a01-d8b0dd7fdc24",
   "metadata": {},
   "outputs": [],
   "source": [
    "logging.basicConfig(stream=sys.stdout, level=logging.INFO)\n",
    "logging.getLogger().addHandler(logging.StreamHandler(stream=sys.stdout))"
   ]
  },
  {
   "cell_type": "markdown",
   "id": "0fc2e828-7a94-463f-89b0-2d75521319a7",
   "metadata": {},
   "source": [
    "# Build a simple directory"
   ]
  },
  {
   "cell_type": "code",
   "execution_count": 5,
   "id": "280f6ae9-b082-4a6d-8705-12849fb1a08c",
   "metadata": {},
   "outputs": [],
   "source": [
    "simple_glossary = SimpleDirectoryReader(\n",
    "    r\"/Users/arthursarazin/Documents/coreandgraphs/graphandgovern/graph\"\n",
    ").load_data()"
   ]
  },
  {
   "cell_type": "markdown",
   "id": "42ecd2f3-059f-4cd8-b0ed-97e95ee5075e",
   "metadata": {},
   "source": [
    "# Upload Obsidian vault files"
   ]
  },
  {
   "cell_type": "markdown",
   "id": "53d00bb4",
   "metadata": {},
   "source": [
    "#### Using Obsidian reader from LLama Index"
   ]
  },
  {
   "cell_type": "code",
   "execution_count": 6,
   "id": "3d414a6d-46da-43dd-ad82-44f404c86ae1",
   "metadata": {
    "scrolled": true
   },
   "outputs": [
    {
     "name": "stdout",
     "output_type": "stream",
     "text": [
      "[Document(id_='4d40ca05-58d8-4eb7-a7a5-d1d55144eae0', embedding=None, metadata={}, excluded_embed_metadata_keys=[], excluded_llm_metadata_keys=[], relationships={}, metadata_template='{key}: {value}', metadata_separator='\\n', text_resource=MediaResource(embeddings=None, data=None, text=\"---\\nentite: base\\n---\\nCe document a pour objectif de décrire les aspects techniques du Datawarehouse et ses contrats d'interface avec le système ERP. Il inclut les spécifications des flux de données, les politiques d'accès, et les contraintes liées à l'utilisation.\\n\\n---\\n\", mimetype=None, path=None, url=None), image_resource=None, audio_resource=None, video_resource=None, text_template='{metadata_str}\\n\\n{content}'), Document(id_='ba921839-78b3-482b-8853-12ccdb302125', embedding=None, metadata={}, excluded_embed_metadata_keys=[], excluded_llm_metadata_keys=[], relationships={}, metadata_template='{key}: {value}', metadata_separator='\\n', text_resource=MediaResource(embeddings=None, data=None, text='\\n\\n2. Description du Datawarehouse\\n', mimetype=None, path=None, url=None), image_resource=None, audio_resource=None, video_resource=None, text_template='{metadata_str}\\n\\n{content}'), Document(id_='7f6fe189-bfab-4a28-aaf6-47d98b2760a2', embedding=None, metadata={}, excluded_embed_metadata_keys=[], excluded_llm_metadata_keys=[], relationships={}, metadata_template='{key}: {value}', metadata_separator='\\n', text_resource=MediaResource(embeddings=None, data=None, text=\"\\n\\n2.1 Rôle du Datawarehouse\\n\\nLe Datawarehouse sert de réservoir central pour l’analyse et le reporting des données stratégiques de l’entreprise. Il regroupe des données consolidées provenant de différentes sources, principalement l'ERP.\\n\", mimetype=None, path=None, url=None), image_resource=None, audio_resource=None, video_resource=None, text_template='{metadata_str}\\n\\n{content}'), Document(id_='2a0343b4-69e0-4414-8174-c7cbfe3daaa4', embedding=None, metadata={}, excluded_embed_metadata_keys=[], excluded_llm_metadata_keys=[], relationships={}, metadata_template='{key}: {value}', metadata_separator='\\n', text_resource=MediaResource(embeddings=None, data=None, text='\\n\\n2.2 Architecture\\n\\n- **Base de données** : PostgreSQL 14\\n- **Structure** : Modèle en étoile (Star Schema)\\n    - Dimensions : Clients, Produits, Temps, Régions\\n    - Faits : Ventes, Stocks, Commandes\\n- **Stockage** : SSD haute performance\\n- **Environnement** : Cloud hybride (Azure et sur site)\\n', mimetype=None, path=None, url=None), image_resource=None, audio_resource=None, video_resource=None, text_template='{metadata_str}\\n\\n{content}'), Document(id_='4287ca8c-2bda-4443-b1e0-3a13956b6c6e', embedding=None, metadata={}, excluded_embed_metadata_keys=[], excluded_llm_metadata_keys=[], relationships={}, metadata_template='{key}: {value}', metadata_separator='\\n', text_resource=MediaResource(embeddings=None, data=None, text='\\n\\n2.3 Sécurité et Accès\\n\\nSeul le directeur de la production a un accès au Datawarehouse. Cet accès est réglementé par des politiques strictes :\\n\\n- **Authentification** : Bi-facteur (MFA)\\n- **Autorisation** : Rôle unique avec privilèges limités\\n- **Audit** : Suivi des connexions et des requêtes exécutées\\n\\n---\\n', mimetype=None, path=None, url=None), image_resource=None, audio_resource=None, video_resource=None, text_template='{metadata_str}\\n\\n{content}'), Document(id_='cab323a2-e8bd-4605-9b64-9bf4d590d3f5', embedding=None, metadata={}, excluded_embed_metadata_keys=[], excluded_llm_metadata_keys=[], relationships={}, metadata_template='{key}: {value}', metadata_separator='\\n', text_resource=MediaResource(embeddings=None, data=None, text=\"\\n\\n3. Contrats d'Interface avec l'ERP\\n\", mimetype=None, path=None, url=None), image_resource=None, audio_resource=None, video_resource=None, text_template='{metadata_str}\\n\\n{content}'), Document(id_='1d6c99f2-cd22-46e9-8c2c-850f6d72e99c', embedding=None, metadata={}, excluded_embed_metadata_keys=[], excluded_llm_metadata_keys=[], relationships={}, metadata_template='{key}: {value}', metadata_separator='\\n', text_resource=MediaResource(embeddings=None, data=None, text=\"\\n\\n3.1 Objectif des Interfaces\\n\\nLes interfaces assurent le transfert des données entre l'ERP et le Datawarehouse pour maintenir des informations précises et à jour.\\n\", mimetype=None, path=None, url=None), image_resource=None, audio_resource=None, video_resource=None, text_template='{metadata_str}\\n\\n{content}'), Document(id_='50c18a56-837e-40a2-af0c-8c16c4a80769', embedding=None, metadata={}, excluded_embed_metadata_keys=[], excluded_llm_metadata_keys=[], relationships={}, metadata_template='{key}: {value}', metadata_separator='\\n', text_resource=MediaResource(embeddings=None, data=None, text=\"\\n\\n3.2 Description Technique\\n\\n- **Type d'interface** : Extraction-Transformation-Chargement (ETL)\\n- **Outil utilisé** : Talend Data Integration\\n- **Format des données** :\\n    - Entrées : Fichiers CSV, JSON\\n    - Sorties : Tables relationnelles\\n\", mimetype=None, path=None, url=None), image_resource=None, audio_resource=None, video_resource=None, text_template='{metadata_str}\\n\\n{content}'), Document(id_='86587508-e3de-4377-948b-ad6721db99f2', embedding=None, metadata={}, excluded_embed_metadata_keys=[], excluded_llm_metadata_keys=[], relationships={}, metadata_template='{key}: {value}', metadata_separator='\\n', text_resource=MediaResource(embeddings=None, data=None, text='\\n\\n3.3 Flux de Données\\n\\n1. **Extraction**\\n    - Source : ERP (SAP)\\n    - Fréquence : Quotidienne à 02h00\\n    - Mode : API REST et requêtes SQL\\n2. **Transformation**\\n    - Nettoyage des données (valeurs nulles, doublons)\\n    - Agrégation des faits et harmonisation des dimensions\\n3. **Chargement**\\n    - Destination : Tables de faits et dimensions du Datawarehouse\\n', mimetype=None, path=None, url=None), image_resource=None, audio_resource=None, video_resource=None, text_template='{metadata_str}\\n\\n{content}'), Document(id_='cde00788-0bd0-4a75-b2c4-fa721dd9cecb', embedding=None, metadata={}, excluded_embed_metadata_keys=[], excluded_llm_metadata_keys=[], relationships={}, metadata_template='{key}: {value}', metadata_separator='\\n', text_resource=MediaResource(embeddings=None, data=None, text=\"\\n\\n3.4 Surveillance des Interfaces\\n\\n- **Planification** : Ordonnanceur CRON\\n- **Alertes** : Emails et logs en cas d'échec\\n- **Durée moyenne** : 45 minutes\\n\\n---\\n\", mimetype=None, path=None, url=None), image_resource=None, audio_resource=None, video_resource=None, text_template='{metadata_str}\\n\\n{content}'), Document(id_='53d91afa-8ca5-46d8-9159-7bb27392c07b', embedding=None, metadata={}, excluded_embed_metadata_keys=[], excluded_llm_metadata_keys=[], relationships={}, metadata_template='{key}: {value}', metadata_separator='\\n', text_resource=MediaResource(embeddings=None, data=None, text='\\n\\n4. Gestion des Données\\n', mimetype=None, path=None, url=None), image_resource=None, audio_resource=None, video_resource=None, text_template='{metadata_str}\\n\\n{content}'), Document(id_='457d9e36-3908-4611-8cc3-e7fcc1eb7c5a', embedding=None, metadata={}, excluded_embed_metadata_keys=[], excluded_llm_metadata_keys=[], relationships={}, metadata_template='{key}: {value}', metadata_separator='\\n', text_resource=MediaResource(embeddings=None, data=None, text='\\n\\n4.1 Qualité des Données\\n\\n- **Validation** : Contrôles sur les types et les règles métier\\n- **Reporting** : Tableau de bord sur les échecs de flux\\n', mimetype=None, path=None, url=None), image_resource=None, audio_resource=None, video_resource=None, text_template='{metadata_str}\\n\\n{content}'), Document(id_='68fa8a67-0ae8-41c0-850b-74d0659a1bb6', embedding=None, metadata={}, excluded_embed_metadata_keys=[], excluded_llm_metadata_keys=[], relationships={}, metadata_template='{key}: {value}', metadata_separator='\\n', text_resource=MediaResource(embeddings=None, data=None, text='\\n\\n4.2 Rétention et Archivage\\n\\n- **Durée de rétention** : 7 ans\\n- **Archivage** : Compression et stockage sur un serveur SFTP\\n\\n---\\n', mimetype=None, path=None, url=None), image_resource=None, audio_resource=None, video_resource=None, text_template='{metadata_str}\\n\\n{content}'), Document(id_='e9d5e050-55a1-4b17-88cf-7646d3b63c71', embedding=None, metadata={}, excluded_embed_metadata_keys=[], excluded_llm_metadata_keys=[], relationships={}, metadata_template='{key}: {value}', metadata_separator='\\n', text_resource=MediaResource(embeddings=None, data=None, text='\\n\\n5. Contraintes et Risques\\n', mimetype=None, path=None, url=None), image_resource=None, audio_resource=None, video_resource=None, text_template='{metadata_str}\\n\\n{content}'), Document(id_='c954ccb3-d0f8-4b50-954f-cf71c702f7a7', embedding=None, metadata={}, excluded_embed_metadata_keys=[], excluded_llm_metadata_keys=[], relationships={}, metadata_template='{key}: {value}', metadata_separator='\\n', text_resource=MediaResource(embeddings=None, data=None, text=\"\\n\\n5.1 Contraintes\\n\\n- Temps de latence entre l'ERP et le Datawarehouse\\n- Maintenance régulière des interfaces ETL\\n\", mimetype=None, path=None, url=None), image_resource=None, audio_resource=None, video_resource=None, text_template='{metadata_str}\\n\\n{content}'), Document(id_='e7f547a7-1ee1-47e0-b4de-1aa0341f8b90', embedding=None, metadata={}, excluded_embed_metadata_keys=[], excluded_llm_metadata_keys=[], relationships={}, metadata_template='{key}: {value}', metadata_separator='\\n', text_resource=MediaResource(embeddings=None, data=None, text=\"\\n\\n5.2 Risques\\n\\n- Pertes de données lors de l'extraction\\n- Erreurs de transformation pouvant altérer les analyses\\n\\n---\\n\", mimetype=None, path=None, url=None), image_resource=None, audio_resource=None, video_resource=None, text_template='{metadata_str}\\n\\n{content}'), Document(id_='54bf576d-cc22-46c1-bce1-dab1212afe1c', embedding=None, metadata={}, excluded_embed_metadata_keys=[], excluded_llm_metadata_keys=[], relationships={}, metadata_template='{key}: {value}', metadata_separator='\\n', text_resource=MediaResource(embeddings=None, data=None, text='\\n\\n6. Conclusion\\n\\nCe Datawarehouse et ses interfaces avec l’ERP constituent un élément crucial pour la prise de décision dans l’entreprise. Leur mise en place, associée à des contrôles stricts et à une surveillance continue, garantit leur fiabilité et leur performance.', mimetype=None, path=None, url=None), image_resource=None, audio_resource=None, video_resource=None, text_template='{metadata_str}\\n\\n{content}'), Document(id_='cf5d4516-18cd-41ae-a559-69df5d4f2aaa', embedding=None, metadata={}, excluded_embed_metadata_keys=[], excluded_llm_metadata_keys=[], relationships={}, metadata_template='{key}: {value}', metadata_separator='\\n', text_resource=MediaResource(embeddings=None, data=None, text='---\\nentite: personne physique\\nacces: \"[[ERP]]\"\\nparent: \"[[Membre ecosysteme 2]]\"\\n---', mimetype=None, path=None, url=None), image_resource=None, audio_resource=None, video_resource=None, text_template='{metadata_str}\\n\\n{content}'), Document(id_='1f3f03ec-9fc2-4ad8-81f9-f660fbcd2b96', embedding=None, metadata={}, excluded_embed_metadata_keys=[], excluded_llm_metadata_keys=[], relationships={}, metadata_template='{key}: {value}', metadata_separator='\\n', text_resource=MediaResource(embeddings=None, data=None, text='\\n\\nObjectif de l’Entretien\\n\\nExplorer les besoins et les problématiques exprimés par les responsables de production concernant l’utilisation de l’ERP pour améliorer les processus de production.\\n', mimetype=None, path=None, url=None), image_resource=None, audio_resource=None, video_resource=None, text_template='{metadata_str}\\n\\n{content}'), Document(id_='9dcfc411-7ec8-4a76-908b-1594511d5218', embedding=None, metadata={}, excluded_embed_metadata_keys=[], excluded_llm_metadata_keys=[], relationships={}, metadata_template='{key}: {value}', metadata_separator='\\n', text_resource=MediaResource(embeddings=None, data=None, text='\\n\\nEntretien 2 : Monsieur Julien Morel\\n', mimetype=None, path=None, url=None), image_resource=None, audio_resource=None, video_resource=None, text_template='{metadata_str}\\n\\n{content}'), Document(id_='fb1a84a5-de7e-4489-9ccb-4b58af7ea13e', embedding=None, metadata={}, excluded_embed_metadata_keys=[], excluded_llm_metadata_keys=[], relationships={}, metadata_template='{key}: {value}', metadata_separator='\\n', text_resource=MediaResource(embeddings=None, data=None, text='\\n\\n1. **Problématiques Rencontrées**\\n\\nM. Morel a exprimé des difficultés liées :\\n\\n- **Au suivi des stocks** en temps réel, particulièrement les matières premières critiques.\\n- **Au manque de coordination** entre les différentes équipes de production via l’ERP.\\n- **Au reporting insuffisant** pour préparer les comités de pilotage.\\n', mimetype=None, path=None, url=None), image_resource=None, audio_resource=None, video_resource=None, text_template='{metadata_str}\\n\\n{content}'), Document(id_='bcbc07ef-824b-41b2-b903-743195275fd0', embedding=None, metadata={}, excluded_embed_metadata_keys=[], excluded_llm_metadata_keys=[], relationships={}, metadata_template='{key}: {value}', metadata_separator='\\n', text_resource=MediaResource(embeddings=None, data=None, text='\\n\\n2. **Besoins Identifiés**\\n\\nM. Morel demande :\\n\\n- Un suivi centralisé et automatisé des stocks critiques avec alertes préventives.\\n- Une meilleure intégration des plannings des équipes dans l’ERP.\\n- Des rapports d’analyse pré-générés pour gagner du temps.\\n', mimetype=None, path=None, url=None), image_resource=None, audio_resource=None, video_resource=None, text_template='{metadata_str}\\n\\n{content}'), Document(id_='e96239fe-052c-4f7b-8a3e-9b1fdda23830', embedding=None, metadata={}, excluded_embed_metadata_keys=[], excluded_llm_metadata_keys=[], relationships={}, metadata_template='{key}: {value}', metadata_separator='\\n', text_resource=MediaResource(embeddings=None, data=None, text='\\n\\n3. **Propositions**\\n\\nM. Martin a proposé :\\n\\n- L’ajout d’un module de gestion des stocks avancé dans l’ERP.\\n- L’amélioration des outils collaboratifs dans le système pour mieux aligner les équipes.\\n- La création de modèles de rapports standardisés adaptés aux besoins des comités.\\n', mimetype=None, path=None, url=None), image_resource=None, audio_resource=None, video_resource=None, text_template='{metadata_str}\\n\\n{content}'), Document(id_='a783e2e8-456b-4877-888c-cfe82bfe1635', embedding=None, metadata={}, excluded_embed_metadata_keys=[], excluded_llm_metadata_keys=[], relationships={}, metadata_template='{key}: {value}', metadata_separator='\\n', text_resource=MediaResource(embeddings=None, data=None, text='---\\nentite: field\\nparent: \"[[Base personne]]\"\\n---\\n', mimetype=None, path=None, url=None), image_resource=None, audio_resource=None, video_resource=None, text_template='{metadata_str}\\n\\n{content}'), Document(id_='009e1fd0-82aa-48d2-8553-b73cb2beaeea', embedding=None, metadata={}, excluded_embed_metadata_keys=[], excluded_llm_metadata_keys=[], relationships={}, metadata_template='{key}: {value}', metadata_separator='\\n', text_resource=MediaResource(embeddings=None, data=None, text='---\\nentite: field\\nparent: \"[[CRM]]\"\\n---\\n', mimetype=None, path=None, url=None), image_resource=None, audio_resource=None, video_resource=None, text_template='{metadata_str}\\n\\n{content}'), Document(id_='e4a13fca-aa3b-4e8c-916e-dc96777da6f2', embedding=None, metadata={}, excluded_embed_metadata_keys=[], excluded_llm_metadata_keys=[], relationships={}, metadata_template='{key}: {value}', metadata_separator='\\n', text_resource=MediaResource(embeddings=None, data=None, text='---\\nentite: personne physique\\nacces: \"[[Datawarehouse]]\"\\nattente: \"[[Complétude des champs]]\"\\n---', mimetype=None, path=None, url=None), image_resource=None, audio_resource=None, video_resource=None, text_template='{metadata_str}\\n\\n{content}'), Document(id_='7d68ecea-8f9e-4f74-aca7-27d197cd691f', embedding=None, metadata={}, excluded_embed_metadata_keys=[], excluded_llm_metadata_keys=[], relationships={}, metadata_template='{key}: {value}', metadata_separator='\\n', text_resource=MediaResource(embeddings=None, data=None, text='\\n\\nPoints Abordés\\n', mimetype=None, path=None, url=None), image_resource=None, audio_resource=None, video_resource=None, text_template='{metadata_str}\\n\\n{content}'), Document(id_='0bbafe2d-e7eb-48f1-8649-0d9e0d0600bd', embedding=None, metadata={}, excluded_embed_metadata_keys=[], excluded_llm_metadata_keys=[], relationships={}, metadata_template='{key}: {value}', metadata_separator='\\n', text_resource=MediaResource(embeddings=None, data=None, text='\\n\\n1. **Exigence de complétude des champs**\\n\\nM. Dupont a souligné l’importance que tous les champs disponibles dans le Datawarehouse soient remplis sans exception. Il a insisté sur les raisons suivantes :\\n\\n- **Fiabilité des analyses stratégiques** : \"Nous prenons des décisions clés basées sur ces données. Une information manquante peut conduire à des interprétations erronées, notamment pour les projections de ventes et la gestion des stocks.\"\\n    \\n- **Optimisation des processus** : \"Les données complètes permettent d’identifier rapidement les goulets d’étranglement et les opportunités d’amélioration, que ce soit en production ou en logistique.\"\\n    \\n- **Rapports clients et audits** : \"Certains clients stratégiques exigent une transparence totale dans nos rapports, et des champs incomplets pourraient affecter notre crédibilité lors des audits.\"\\n    \\n', mimetype=None, path=None, url=None), image_resource=None, audio_resource=None, video_resource=None, text_template='{metadata_str}\\n\\n{content}'), Document(id_='389fe597-8041-4bb2-9650-358b30d7e57b', embedding=None, metadata={}, excluded_embed_metadata_keys=[], excluded_llm_metadata_keys=[], relationships={}, metadata_template='{key}: {value}', metadata_separator='\\n', text_resource=MediaResource(embeddings=None, data=None, text='\\n\\n2. **Problèmes rencontrés avec les données actuelles**\\n\\nM. Dupont a identifié plusieurs problèmes liés à la situation actuelle :\\n\\n- Champs vides dans les données des ventes, notamment pour les références produits et les segments de marché.\\n- Données de production manquantes pour certaines périodes, rendant les analyses temporelles incomplètes.\\n- Difficulté à croiser les données des ventes avec les données de logistique pour le calcul des marges.\\n', mimetype=None, path=None, url=None), image_resource=None, audio_resource=None, video_resource=None, text_template='{metadata_str}\\n\\n{content}'), Document(id_='ddc1292d-464d-41d5-a151-2e5b9ab08a77', embedding=None, metadata={}, excluded_embed_metadata_keys=[], excluded_llm_metadata_keys=[], relationships={}, metadata_template='{key}: {value}', metadata_separator='\\n', text_resource=MediaResource(embeddings=None, data=None, text='\\n\\n3. **Suggestions pour l’amélioration**\\n\\nM. Dupont propose les actions suivantes :\\n\\n- Mise en place de contrôles automatiques pour détecter et signaler les champs manquants lors des processus ETL.\\n- Collaboration étroite entre les équipes opérationnelles et IT pour définir les priorités des données critiques.\\n- Formation des équipes terrain sur l’importance de la saisie complète dans l’ERP, notamment pour les données de production et logistiques.\\n', mimetype=None, path=None, url=None), image_resource=None, audio_resource=None, video_resource=None, text_template='{metadata_str}\\n\\n{content}'), Document(id_='7e30624b-8c1a-457e-a7f6-581517ffb111', embedding=None, metadata={}, excluded_embed_metadata_keys=[], excluded_llm_metadata_keys=[], relationships={}, metadata_template='{key}: {value}', metadata_separator='\\n', text_resource=MediaResource(embeddings=None, data=None, text='\\n\\n4. **Impact attendu des améliorations**\\n\\nSelon M. Dupont, assurer la complétude des données dans le Datawarehouse aurait les impacts suivants :\\n\\n- **Précision accrue** des KPI stratégiques, tels que le taux de satisfaction client et la productivité.\\n- **Gain de temps** pour les équipes d’analyse, qui n’auront plus à traiter les erreurs ou combler les lacunes manuellement.\\n- **Amélioration de la prise de décision** grâce à des données fiables et cohérentes.\\n\\n---\\n', mimetype=None, path=None, url=None), image_resource=None, audio_resource=None, video_resource=None, text_template='{metadata_str}\\n\\n{content}'), Document(id_='9804dd2b-3321-4cce-b8de-e486cefd3ac6', embedding=None, metadata={}, excluded_embed_metadata_keys=[], excluded_llm_metadata_keys=[], relationships={}, metadata_template='{key}: {value}', metadata_separator='\\n', text_resource=MediaResource(embeddings=None, data=None, text='\\n\\nProchaines Étapes\\n\\n1. Identification des champs critiques et prioritaires dans le Datawarehouse d’ici le 15 janvier 2025.\\n2. Mise en place de régles de validation automatique dans les processus ETL.\\n3. Organisation d’une formation pour les équipes opérationnelles avant fin février 2025.\\n', mimetype=None, path=None, url=None), image_resource=None, audio_resource=None, video_resource=None, text_template='{metadata_str}\\n\\n{content}'), Document(id_='950d8a89-9f8a-4039-b24a-c5ee63169d4f', embedding=None, metadata={}, excluded_embed_metadata_keys=[], excluded_llm_metadata_keys=[], relationships={}, metadata_template='{key}: {value}', metadata_separator='\\n', text_resource=MediaResource(embeddings=None, data=None, text='---\\nentite: field\\nparent: \"[[Base operation]]\"\\n---\\n', mimetype=None, path=None, url=None), image_resource=None, audio_resource=None, video_resource=None, text_template='{metadata_str}\\n\\n{content}'), Document(id_='22a6fcf8-6116-410c-95bc-49739f732eed', embedding=None, metadata={}, excluded_embed_metadata_keys=[], excluded_llm_metadata_keys=[], relationships={}, metadata_template='{key}: {value}', metadata_separator='\\n', text_resource=MediaResource(embeddings=None, data=None, text='---\\nentite: field\\nparent: \"[[Datawarehouse]]\"\\n---\\n', mimetype=None, path=None, url=None), image_resource=None, audio_resource=None, video_resource=None, text_template='{metadata_str}\\n\\n{content}'), Document(id_='7e56bf90-d219-4084-ae36-07f24dc7329c', embedding=None, metadata={}, excluded_embed_metadata_keys=[], excluded_llm_metadata_keys=[], relationships={}, metadata_template='{key}: {value}', metadata_separator='\\n', text_resource=MediaResource(embeddings=None, data=None, text='---\\napplicatif: \"[[CRM]]\"\\nentite: attente\\n---\\nLa complétude des informations dans la base personne est cruciale pour maximiser :\\n\\n- **Le taux d’ouverture des e-mails.**\\n- **La pertinence des messages.**\\n- **La satisfaction et la fidélité des clients.**\\n- ', mimetype=None, path=None, url=None), image_resource=None, audio_resource=None, video_resource=None, text_template='{metadata_str}\\n\\n{content}'), Document(id_='83a992a1-4bc7-43a1-9865-33c7044b963a', embedding=None, metadata={}, excluded_embed_metadata_keys=[], excluded_llm_metadata_keys=[], relationships={}, metadata_template='{key}: {value}', metadata_separator='\\n', text_resource=MediaResource(embeddings=None, data=None, text='---\\nrecepteurs: \"[[Charge de campagne marketing]]\"\\nentite: realite\\n---\\nLes emails sont rarement renseignés dans le [[CRM]] \\n\\n', mimetype=None, path=None, url=None), image_resource=None, audio_resource=None, video_resource=None, text_template='{metadata_str}\\n\\n{content}'), Document(id_='03ffa1d2-bc6d-499f-8dfb-34be2b3ad8f5', embedding=None, metadata={}, excluded_embed_metadata_keys=[], excluded_llm_metadata_keys=[], relationships={}, metadata_template='{key}: {value}', metadata_separator='\\n', text_resource=MediaResource(embeddings=None, data=None, text='---\\nentite: attente\\n---\\n', mimetype=None, path=None, url=None), image_resource=None, audio_resource=None, video_resource=None, text_template='{metadata_str}\\n\\n{content}'), Document(id_='b3316e34-6cb2-4070-a3c1-7fe0f3f47b9e', embedding=None, metadata={}, excluded_embed_metadata_keys=[], excluded_llm_metadata_keys=[], relationships={}, metadata_template='{key}: {value}', metadata_separator='\\n', text_resource=MediaResource(embeddings=None, data=None, text='---\\nentite: personne physique\\nacces: \"[[Base operation]]\"\\n---', mimetype=None, path=None, url=None), image_resource=None, audio_resource=None, video_resource=None, text_template='{metadata_str}\\n\\n{content}'), Document(id_='e794d259-ab23-4672-811d-00b71e47e9f7', embedding=None, metadata={}, excluded_embed_metadata_keys=[], excluded_llm_metadata_keys=[], relationships={}, metadata_template='{key}: {value}', metadata_separator='\\n', text_resource=MediaResource(embeddings=None, data=None, text='\\n\\nObjectif de l’Entretien\\n\\nDiscuter des besoins d’accès à la Base Opération exprimés par Monsieur Thomas Dupont pour améliorer la gestion des achats et la coordination avec les fournisseurs.\\n\\n---\\n', mimetype=None, path=None, url=None), image_resource=None, audio_resource=None, video_resource=None, text_template='{metadata_str}\\n\\n{content}'), Document(id_='b38b0a67-c98d-481d-ba25-ab1a975e496d', embedding=None, metadata={}, excluded_embed_metadata_keys=[], excluded_llm_metadata_keys=[], relationships={}, metadata_template='{key}: {value}', metadata_separator='\\n', text_resource=MediaResource(embeddings=None, data=None, text='\\n\\nPoints Abordés\\n', mimetype=None, path=None, url=None), image_resource=None, audio_resource=None, video_resource=None, text_template='{metadata_str}\\n\\n{content}'), Document(id_='852c23b4-d1f9-47a3-9afb-b83e528bf1f1', embedding=None, metadata={}, excluded_embed_metadata_keys=[], excluded_llm_metadata_keys=[], relationships={}, metadata_template='{key}: {value}', metadata_separator='\\n', text_resource=MediaResource(embeddings=None, data=None, text='\\n\\n1. **Nécessité d\\'un Accès Plus Large à la Base Opération**\\n\\nM. Dupont a souligné le besoin d’accéder à des données plus complètes pour optimiser les processus d’approvisionnement et mieux anticiper les besoins. Les arguments avancés incluent :\\n\\n- **Suivi des fournisseurs** : \"Un accès direct m’aiderait à analyser les performances des fournisseurs, comme les délais de livraison et la qualité des produits.\"\\n- **Réduction des coûts** : \"Avec une meilleure visibilité, je pourrais identifier des opportunités d’optimisation et négocier plus efficacement.\"\\n- **Amélioration de la planification** : \"Cela permettrait d’anticiper les ruptures et d’éviter les surstocks.\"\\n', mimetype=None, path=None, url=None), image_resource=None, audio_resource=None, video_resource=None, text_template='{metadata_str}\\n\\n{content}'), Document(id_='d08917de-9e55-4231-85e9-ea892f529849', embedding=None, metadata={}, excluded_embed_metadata_keys=[], excluded_llm_metadata_keys=[], relationships={}, metadata_template='{key}: {value}', metadata_separator='\\n', text_resource=MediaResource(embeddings=None, data=None, text=\"\\n\\n2. **Limitations Actuelles**\\n\\nM. Dupont a identifié les limites de l'accès actuel :\\n\\n- **Données fragmentées** entre différents outils, ce qui rend les analyses longues et fastidieuses.\\n- **Absence d’historique complet** des transactions pour effectuer des comparaisons précises.\\n- **Rapports standardisés** ne prenant pas en compte les spécificités des fournisseurs.\\n\", mimetype=None, path=None, url=None), image_resource=None, audio_resource=None, video_resource=None, text_template='{metadata_str}\\n\\n{content}'), Document(id_='b795f549-bfba-4f3a-8b01-99b16ec02b07', embedding=None, metadata={}, excluded_embed_metadata_keys=[], excluded_llm_metadata_keys=[], relationships={}, metadata_template='{key}: {value}', metadata_separator='\\n', text_resource=MediaResource(embeddings=None, data=None, text='\\n\\n3. **Types de Données Demandées**\\n\\nM. Dupont a précisé les données critiques qu’il souhaite consulter :\\n\\n- **Performances des fournisseurs** : Délais de livraison, taux de réclamation.\\n- **Historique des commandes** : Quantités commandées, prix négociés, conditions contractuelles.\\n- **Données financières** : Suivi des paiements et écarts budgétaires.\\n- **Données logistiques** : Statut des approvisionnements et niveaux de stock.\\n', mimetype=None, path=None, url=None), image_resource=None, audio_resource=None, video_resource=None, text_template='{metadata_str}\\n\\n{content}'), Document(id_='e9d5487d-da81-450b-b93a-f487d1a7560a', embedding=None, metadata={}, excluded_embed_metadata_keys=[], excluded_llm_metadata_keys=[], relationships={}, metadata_template='{key}: {value}', metadata_separator='\\n', text_resource=MediaResource(embeddings=None, data=None, text='\\n\\n4. **Propositions d’Accès**\\n\\nM. Martin a proposé plusieurs options pour répondre aux besoins exprimés :\\n\\n- **Mise à disposition d’un portail d’analyse** des données fournisseurs avec filtres personnalisés.\\n- **Automatisation des rapports dynamiques** accessibles en temps réel.\\n- **Intégration d’un outil de suivi collaboratif** pour faciliter les interactions entre équipes.\\n', mimetype=None, path=None, url=None), image_resource=None, audio_resource=None, video_resource=None, text_template='{metadata_str}\\n\\n{content}'), Document(id_='89f5b48c-b018-4cfb-ad6c-4c6fad5bc54c', embedding=None, metadata={}, excluded_embed_metadata_keys=[], excluded_llm_metadata_keys=[], relationships={}, metadata_template='{key}: {value}', metadata_separator='\\n', text_resource=MediaResource(embeddings=None, data=None, text='\\n\\n5. **Bénéfices Attendues**\\n\\nM. Dupont anticipe que l’accès élargi permettrait :\\n\\n- Une **amélioration des relations fournisseurs**, grâce à une gestion plus proactive.\\n- Une **réduction des dépenses** par l’optimisation des achats.\\n- Une **fluidité accrue** dans les processus logistiques et d’approvisionnement.\\n\\n---\\n', mimetype=None, path=None, url=None), image_resource=None, audio_resource=None, video_resource=None, text_template='{metadata_str}\\n\\n{content}'), Document(id_='6c567f30-d06f-4ef0-b341-d41c18937643', embedding=None, metadata={}, excluded_embed_metadata_keys=[], excluded_llm_metadata_keys=[], relationships={}, metadata_template='{key}: {value}', metadata_separator='\\n', text_resource=MediaResource(embeddings=None, data=None, text='\\n\\nProchaines Étapes\\n\\n1. Analyse des besoins spécifiques pour la gestion des fournisseurs et des achats (15 janvier 2025).\\n2. Configuration d’un accès personnalisé à la Base Opération pour M. Dupont (31 janvier 2025).\\n3. Test et validation de l’interface avant d’étendre à d’autres membres de l’équipe (15 février 2025).\\n\\n---\\n\\n**Validation** : Le compte rendu a été approuvé par M. Thomas Dupont et M. Philippe Martin.  \\n**Rédigé par** : [Nom du Rédacteur]', mimetype=None, path=None, url=None), image_resource=None, audio_resource=None, video_resource=None, text_template='{metadata_str}\\n\\n{content}'), Document(id_='504000d2-eed8-41d6-b93d-5ea3792144ad', embedding=None, metadata={}, excluded_embed_metadata_keys=[], excluded_llm_metadata_keys=[], relationships={}, metadata_template='{key}: {value}', metadata_separator='\\n', text_resource=MediaResource(embeddings=None, data=None, text='---\\nentite: base\\nparent: \"[[ERP]]\"\\n---\\nLa base de données \"Opérations\" est un composant clé du système d\\'information de l\\'entreprise. Elle contient les informations relatives aux opérations réalisées par l\\'entreprise, permettant leur suivi, analyse et gestion. Ce document décrit la structure, les caractéristiques techniques et les bonnes pratiques associées à cette base de données.\\n', mimetype=None, path=None, url=None), image_resource=None, audio_resource=None, video_resource=None, text_template='{metadata_str}\\n\\n{content}'), Document(id_='d8c15a51-db0d-462d-9dff-c342503e6b6d', embedding=None, metadata={}, excluded_embed_metadata_keys=[], excluded_llm_metadata_keys=[], relationships={}, metadata_template='{key}: {value}', metadata_separator='\\n', text_resource=MediaResource(embeddings=None, data=None, text='\\n\\nObjectif\\n\\nFournir une documentation claire et détaillée de la base de données \"Opérations\" pour garantir une compréhension commune entre les équipes techniques et fonctionnelles, et faciliter son utilisation, son extension ou sa maintenance.\\n', mimetype=None, path=None, url=None), image_resource=None, audio_resource=None, video_resource=None, text_template='{metadata_str}\\n\\n{content}'), Document(id_='d5b7724a-0ef0-42c9-b9d5-e2b539289daf', embedding=None, metadata={}, excluded_embed_metadata_keys=[], excluded_llm_metadata_keys=[], relationships={}, metadata_template='{key}: {value}', metadata_separator='\\n', text_resource=MediaResource(embeddings=None, data=None, text='\\n\\nSchéma de la Base de Données\\n', mimetype=None, path=None, url=None), image_resource=None, audio_resource=None, video_resource=None, text_template='{metadata_str}\\n\\n{content}'), Document(id_='598cb4f3-0a1d-47d2-99d2-2681898e76b8', embedding=None, metadata={}, excluded_embed_metadata_keys=[], excluded_llm_metadata_keys=[], relationships={}, metadata_template='{key}: {value}', metadata_separator='\\n', text_resource=MediaResource(embeddings=None, data=None, text='\\n\\nNom de la Table : `operations`\\n', mimetype=None, path=None, url=None), image_resource=None, audio_resource=None, video_resource=None, text_template='{metadata_str}\\n\\n{content}'), Document(id_='dbc9c2b2-a8aa-48d2-92cb-939cdf7c898e', embedding=None, metadata={}, excluded_embed_metadata_keys=[], excluded_llm_metadata_keys=[], relationships={}, metadata_template='{key}: {value}', metadata_separator='\\n', text_resource=MediaResource(embeddings=None, data=None, text=\"\\n\\nChamps Principaux\\n\\n1. **id_op** _(clé primaire)_\\n    \\n    - **Type** : INTEGER\\n    - **Description** : Identifiant unique pour chaque opération.\\n    - **Contraintes** :\\n        - Non nul.\\n        - Valeur auto-incrémentée (si applicable).\\n2. **nom_op**\\n    \\n    - **Type** : VARCHAR(255)\\n    - **Description** : Nom ou désignation de l'opération.\\n    - **Contraintes** :\\n        - Non nul.\\n\", mimetype=None, path=None, url=None), image_resource=None, audio_resource=None, video_resource=None, text_template='{metadata_str}\\n\\n{content}'), Document(id_='c92d28ad-5dd8-4ea9-a3f5-6f5ebf84d95d', embedding=None, metadata={}, excluded_embed_metadata_keys=[], excluded_llm_metadata_keys=[], relationships={}, metadata_template='{key}: {value}', metadata_separator='\\n', text_resource=MediaResource(embeddings=None, data=None, text=\"\\n\\nChamps Complémentaires (facultatifs)\\n\\n3. **description_op**\\n    \\n    - **Type** : TEXT\\n    - **Description** : Description détaillée de l'opération.\\n    - **Contraintes** : Optionnel.\\n4. **date_creation**\\n    \\n    - **Type** : DATE/TIMESTAMP\\n    - **Description** : Date et heure de création de l'opération.\\n    - **Contraintes** : Optionnel. Peut être défini par défaut à la date/heure actuelle.\\n5. **statut_op**\\n    \\n    - **Type** : ENUM('en cours', 'terminé', 'annulé')\\n    - **Description** : Statut actuel de l'opération.\\n    - **Contraintes** : Optionnel.\\n6. **responsable_op**\\n    \\n    - **Type** : VARCHAR(255)\\n    - **Description** : Nom du responsable ou de l'entité en charge de l'opération.\\n    - **Contraintes** : Optionnel.\\n\", mimetype=None, path=None, url=None), image_resource=None, audio_resource=None, video_resource=None, text_template='{metadata_str}\\n\\n{content}'), Document(id_='038f55ed-3c81-4ab1-ba62-583c4be9cc52', embedding=None, metadata={}, excluded_embed_metadata_keys=[], excluded_llm_metadata_keys=[], relationships={}, metadata_template='{key}: {value}', metadata_separator='\\n', text_resource=MediaResource(embeddings=None, data=None, text='\\n\\nIndex et Clés\\n\\n- **Clé Primaire** : `id_op`\\n- **Index Secondaires** (si nécessaire) :\\n    - Index sur le champ `nom_op` pour accélérer les recherches textuelles.\\n    - Index composite possible sur `statut_op` et `date_creation` pour des analyses fréquentes par période et statut.\\n', mimetype=None, path=None, url=None), image_resource=None, audio_resource=None, video_resource=None, text_template='{metadata_str}\\n\\n{content}'), Document(id_='ed9c1da5-8aab-4f61-99f3-b4be1aa7789d', embedding=None, metadata={}, excluded_embed_metadata_keys=[], excluded_llm_metadata_keys=[], relationships={}, metadata_template='{key}: {value}', metadata_separator='\\n', text_resource=MediaResource(embeddings=None, data=None, text=\"\\n\\nRelations avec d'autres Tables\\n\\n- **Table `utilisateurs`** :\\n    - Relation possible via le champ `responsable_op` si celui-ci est remplacé par une clé étrangère vers un identifiant d'utilisateur.\\n- **Table `projets`** :\\n    - Une opération peut être liée à un projet spécifique via un champ supplémentaire `id_projet` (clé étrangère).\\n\", mimetype=None, path=None, url=None), image_resource=None, audio_resource=None, video_resource=None, text_template='{metadata_str}\\n\\n{content}'), Document(id_='25ea822e-d6a0-40b3-b87d-e03445b339ef', embedding=None, metadata={}, excluded_embed_metadata_keys=[], excluded_llm_metadata_keys=[], relationships={}, metadata_template='{key}: {value}', metadata_separator='\\n', text_resource=MediaResource(embeddings=None, data=None, text=\"\\n\\nBonnes Pratiques\\n\\n- **Validation des Données** :\\n    - Assurer l'unicité des identifiants avec la clé primaire.\\n    - Implémenter des contrôles de saisie pour le champ `nom_op` (e.g., éviter les doublons non désirés).\\n- **Archivage** :\\n    - Mettre en place une stratégie d'archivage pour les anciennes opérations afin de maintenir les performances.\\n- **Sécurité** :\\n    - Restreindre les droits d'accès à la table en fonction des rôles des utilisateurs.\\n- **Sauvegarde** :\\n    - Programmer des sauvegardes régulières de la base de données.\\n\", mimetype=None, path=None, url=None), image_resource=None, audio_resource=None, video_resource=None, text_template='{metadata_str}\\n\\n{content}'), Document(id_='ab1f0c58-f6ea-4a79-b68b-8b7a2689972f', embedding=None, metadata={}, excluded_embed_metadata_keys=[], excluded_llm_metadata_keys=[], relationships={}, metadata_template='{key}: {value}', metadata_separator='\\n', text_resource=MediaResource(embeddings=None, data=None, text='\\n\\nExemple de Requête SQL\\n', mimetype=None, path=None, url=None), image_resource=None, audio_resource=None, video_resource=None, text_template='{metadata_str}\\n\\n{content}'), Document(id_='7f39af72-8c76-4d23-a4f9-6ef09e530097', embedding=None, metadata={}, excluded_embed_metadata_keys=[], excluded_llm_metadata_keys=[], relationships={}, metadata_template='{key}: {value}', metadata_separator='\\n', text_resource=MediaResource(embeddings=None, data=None, text=\"\\n\\nCréation de la Table\\n\\n```sql\\nCREATE TABLE operations (\\n    id_op INTEGER PRIMARY KEY AUTOINCREMENT,\\n    nom_op VARCHAR(255) NOT NULL,\\n    description_op TEXT,\\n    date_creation TIMESTAMP DEFAULT CURRENT_TIMESTAMP,\\n    statut_op ENUM('en cours', 'terminé', 'annulé'),\\n    responsable_op VARCHAR(255)\\n);\\n```\\n\", mimetype=None, path=None, url=None), image_resource=None, audio_resource=None, video_resource=None, text_template='{metadata_str}\\n\\n{content}'), Document(id_='727340f6-4521-4ef9-97a4-5f538b1bb38c', embedding=None, metadata={}, excluded_embed_metadata_keys=[], excluded_llm_metadata_keys=[], relationships={}, metadata_template='{key}: {value}', metadata_separator='\\n', text_resource=MediaResource(embeddings=None, data=None, text=\"\\n\\nAjout d'une Opération\\n\\n```sql\\nINSERT INTO operations (nom_op, description_op, statut_op, responsable_op)\\nVALUES ('Lancement Produit', 'Préparation du lancement du nouveau produit', 'en cours', 'Jean Dupont');\\n```\\n\", mimetype=None, path=None, url=None), image_resource=None, audio_resource=None, video_resource=None, text_template='{metadata_str}\\n\\n{content}'), Document(id_='8c1bf06f-e3fe-4356-92c3-2b86f519a3ea', embedding=None, metadata={}, excluded_embed_metadata_keys=[], excluded_llm_metadata_keys=[], relationships={}, metadata_template='{key}: {value}', metadata_separator='\\n', text_resource=MediaResource(embeddings=None, data=None, text=\"\\n\\nConsultation des Opérations Actives\\n\\n```sql\\nSELECT * FROM operations WHERE statut_op = 'en cours';\\n```\\n\", mimetype=None, path=None, url=None), image_resource=None, audio_resource=None, video_resource=None, text_template='{metadata_str}\\n\\n{content}'), Document(id_='b88941ff-f85b-4538-9202-7d0def83bbcb', embedding=None, metadata={}, excluded_embed_metadata_keys=[], excluded_llm_metadata_keys=[], relationships={}, metadata_template='{key}: {value}', metadata_separator='\\n', text_resource=MediaResource(embeddings=None, data=None, text=\"\\n\\nConclusion\\n\\nLa table `operations` est essentielle pour la gestion des opérations de l'entreprise. Cette documentation vise à standardiser son utilisation et à en assurer une maintenance efficace. Les extensions futures doivent respecter la structure décrite et les bonnes pratiques établies ici.\", mimetype=None, path=None, url=None), image_resource=None, audio_resource=None, video_resource=None, text_template='{metadata_str}\\n\\n{content}'), Document(id_='54b4fcc9-1b41-4d24-a44c-fcff031a72eb', embedding=None, metadata={}, excluded_embed_metadata_keys=[], excluded_llm_metadata_keys=[], relationships={}, metadata_template='{key}: {value}', metadata_separator='\\n', text_resource=MediaResource(embeddings=None, data=None, text='---\\nrecepteurs: \"[[Directeur production]]\"\\nentite: realite\\n---\\n', mimetype=None, path=None, url=None), image_resource=None, audio_resource=None, video_resource=None, text_template='{metadata_str}\\n\\n{content}'), Document(id_='9b29d58b-0e93-4602-b7f7-89ad6e5cd99f', embedding=None, metadata={}, excluded_embed_metadata_keys=[], excluded_llm_metadata_keys=[], relationships={}, metadata_template='{key}: {value}', metadata_separator='\\n', text_resource=MediaResource(embeddings=None, data=None, text='---\\nentite: applicatif\\nfeeds: \"[[Datawarehouse]]\"\\n---\\nCe document détaille les caractéristiques techniques de l’ERP (Enterprise Resource Planning) qui alimente le Datawarehouse. L’objectif est de décrire les modules clés, les formats de données, les flux d’intégration, et les mécanismes de gouvernance mis en place pour garantir la fiabilité et la continuité des échanges.\\n\\n---\\n', mimetype=None, path=None, url=None), image_resource=None, audio_resource=None, video_resource=None, text_template='{metadata_str}\\n\\n{content}'), Document(id_='4090e9b0-14df-478d-9c69-fcdd7546ee7d', embedding=None, metadata={}, excluded_embed_metadata_keys=[], excluded_llm_metadata_keys=[], relationships={}, metadata_template='{key}: {value}', metadata_separator='\\n', text_resource=MediaResource(embeddings=None, data=None, text='\\n\\n2. Description de l’ERP\\n', mimetype=None, path=None, url=None), image_resource=None, audio_resource=None, video_resource=None, text_template='{metadata_str}\\n\\n{content}'), Document(id_='d7ea2823-361d-4b32-b824-293bf79f1255', embedding=None, metadata={}, excluded_embed_metadata_keys=[], excluded_llm_metadata_keys=[], relationships={}, metadata_template='{key}: {value}', metadata_separator='\\n', text_resource=MediaResource(embeddings=None, data=None, text='\\n\\n2.1 Rôle de l’ERP\\n\\nL’ERP est le système central de gestion des processus opérationnels de l’entreprise. Il gère les données relatives à :\\n\\n- La gestion des ventes et des clients\\n- La planification et le suivi de la production\\n- La gestion des stocks et des approvisionnements\\n- La comptabilité et les finances\\n', mimetype=None, path=None, url=None), image_resource=None, audio_resource=None, video_resource=None, text_template='{metadata_str}\\n\\n{content}'), Document(id_='52029114-a708-43d2-96d6-3d4befd1642d', embedding=None, metadata={}, excluded_embed_metadata_keys=[], excluded_llm_metadata_keys=[], relationships={}, metadata_template='{key}: {value}', metadata_separator='\\n', text_resource=MediaResource(embeddings=None, data=None, text='\\n\\n2.2 Modules Clés\\n\\n1. **Module Ventes (SD)** :\\n    - Gestion des commandes clients\\n    - Suivi des factures et paiements\\n2. **Module Production (PP)** :\\n    - Planification de la production\\n    - Suivi des ordres de fabrication\\n3. **Module Logistique (MM)** :\\n    - Gestion des stocks et inventaires\\n    - Approvisionnements et réceptions fournisseurs\\n4. **Module Finances (FI)** :\\n    - Suivi des comptes clients et fournisseurs\\n    - Analyses de rentabilité\\n', mimetype=None, path=None, url=None), image_resource=None, audio_resource=None, video_resource=None, text_template='{metadata_str}\\n\\n{content}'), Document(id_='0b80edb4-a13d-4c42-91ab-e93c578778b4', embedding=None, metadata={}, excluded_embed_metadata_keys=[], excluded_llm_metadata_keys=[], relationships={}, metadata_template='{key}: {value}', metadata_separator='\\n', text_resource=MediaResource(embeddings=None, data=None, text='\\n\\n2.3 Architecture\\n\\n- **Base de données** : Oracle Database 19c\\n- **Langage de programmation** : ABAP et Java\\n- **Hébergement** : Serveurs sur site\\n- **Sécurité** :\\n    - Chiffrement SSL des flux de données\\n    - Authentification LDAP pour les utilisateurs\\n\\n---\\n', mimetype=None, path=None, url=None), image_resource=None, audio_resource=None, video_resource=None, text_template='{metadata_str}\\n\\n{content}'), Document(id_='6ab12c1f-6967-4591-814f-5fc831251539', embedding=None, metadata={}, excluded_embed_metadata_keys=[], excluded_llm_metadata_keys=[], relationships={}, metadata_template='{key}: {value}', metadata_separator='\\n', text_resource=MediaResource(embeddings=None, data=None, text='\\n\\n3. Flux d’Intégration avec le Datawarehouse\\n', mimetype=None, path=None, url=None), image_resource=None, audio_resource=None, video_resource=None, text_template='{metadata_str}\\n\\n{content}'), Document(id_='1db85b8a-706c-4ed2-9211-b16c2b71db73', embedding=None, metadata={}, excluded_embed_metadata_keys=[], excluded_llm_metadata_keys=[], relationships={}, metadata_template='{key}: {value}', metadata_separator='\\n', text_resource=MediaResource(embeddings=None, data=None, text='\\n\\n3.1 Objectif des Intégrations\\n\\nTransférer les données critiques des modules de l’ERP vers le Datawarehouse afin de permettre des analyses stratégiques fiables.\\n', mimetype=None, path=None, url=None), image_resource=None, audio_resource=None, video_resource=None, text_template='{metadata_str}\\n\\n{content}'), Document(id_='b37bc54f-ad8f-445a-a985-7830b003f959', embedding=None, metadata={}, excluded_embed_metadata_keys=[], excluded_llm_metadata_keys=[], relationships={}, metadata_template='{key}: {value}', metadata_separator='\\n', text_resource=MediaResource(embeddings=None, data=None, text='\\n\\n3.2 Architecture des Interfaces\\n\\n- **Type d’intégration** : ETL (Extraction, Transformation, Chargement)\\n- **Outil utilisé** : Talend Data Integration\\n- **Fréquence** : Extraction quotidienne à 02h00\\n- **Protocole** : API REST et connecteurs JDBC\\n', mimetype=None, path=None, url=None), image_resource=None, audio_resource=None, video_resource=None, text_template='{metadata_str}\\n\\n{content}'), Document(id_='b2c20292-27be-41ef-8165-fa54c2409e86', embedding=None, metadata={}, excluded_embed_metadata_keys=[], excluded_llm_metadata_keys=[], relationships={}, metadata_template='{key}: {value}', metadata_separator='\\n', text_resource=MediaResource(embeddings=None, data=None, text='\\n\\n3.3 Format des Données Transférées\\n\\n- **Données de sortie (ERP)** : JSON et CSV\\n- **Données de destination (Datawarehouse)** : Tables relationnelles PostgreSQL\\n- **Champs principaux** :\\n    - ID client, nom client, segment de marché\\n    - Références produits, quantités vendues, prix unitaire\\n    - Délais de livraison, statut de production\\n', mimetype=None, path=None, url=None), image_resource=None, audio_resource=None, video_resource=None, text_template='{metadata_str}\\n\\n{content}'), Document(id_='82e4858e-0c33-47d4-aa52-36caa6faac69', embedding=None, metadata={}, excluded_embed_metadata_keys=[], excluded_llm_metadata_keys=[], relationships={}, metadata_template='{key}: {value}', metadata_separator='\\n', text_resource=MediaResource(embeddings=None, data=None, text='\\n\\n3.4 Processus ETL\\n\\n1. **Extraction**\\n    - Requêtes SQL pour les tables principales de l’ERP\\n    - Appels d’API pour des données en temps réel\\n2. **Transformation**\\n    - Standardisation des formats de date et des unités de mesure\\n    - Validation des données selon les règles métier\\n3. **Chargement**\\n    - Envoi vers les tables de faits et dimensions du Datawarehouse\\n\\n---\\n', mimetype=None, path=None, url=None), image_resource=None, audio_resource=None, video_resource=None, text_template='{metadata_str}\\n\\n{content}'), Document(id_='14618b3f-ece6-4c96-b3e2-4103ca4eea59', embedding=None, metadata={}, excluded_embed_metadata_keys=[], excluded_llm_metadata_keys=[], relationships={}, metadata_template='{key}: {value}', metadata_separator='\\n', text_resource=MediaResource(embeddings=None, data=None, text='\\n\\n4. Gouvernance des Données\\n', mimetype=None, path=None, url=None), image_resource=None, audio_resource=None, video_resource=None, text_template='{metadata_str}\\n\\n{content}'), Document(id_='0ffcb437-8e5d-4d01-aeb4-5717d5b04662', embedding=None, metadata={}, excluded_embed_metadata_keys=[], excluded_llm_metadata_keys=[], relationships={}, metadata_template='{key}: {value}', metadata_separator='\\n', text_resource=MediaResource(embeddings=None, data=None, text='\\n\\n4.1 Contrôle Qualité\\n\\n- **Validation** : Contrôles systématiques sur la complétude et la cohérence des données avant chargement\\n- **Métriques suivies** : Taux d’erreurs dans les flux, temps moyen de traitement ETL\\n', mimetype=None, path=None, url=None), image_resource=None, audio_resource=None, video_resource=None, text_template='{metadata_str}\\n\\n{content}'), Document(id_='2b1e6753-0c0a-4ec3-bf2e-b3407fd3ec6d', embedding=None, metadata={}, excluded_embed_metadata_keys=[], excluded_llm_metadata_keys=[], relationships={}, metadata_template='{key}: {value}', metadata_separator='\\n', text_resource=MediaResource(embeddings=None, data=None, text='\\n\\n4.2 Sécurité des Données\\n\\n- **Accès** : Restreint aux administrateurs système\\n- **Audit** : Historique des accès et des modifications\\n- **Sauvegarde** : Quotidienne avec stockage redondant sur un serveur de secours\\n\\n---\\n', mimetype=None, path=None, url=None), image_resource=None, audio_resource=None, video_resource=None, text_template='{metadata_str}\\n\\n{content}'), Document(id_='6464a077-f43e-44ab-ac69-66877ed831a8', embedding=None, metadata={}, excluded_embed_metadata_keys=[], excluded_llm_metadata_keys=[], relationships={}, metadata_template='{key}: {value}', metadata_separator='\\n', text_resource=MediaResource(embeddings=None, data=None, text='\\n\\n5. Contraintes et Risques\\n', mimetype=None, path=None, url=None), image_resource=None, audio_resource=None, video_resource=None, text_template='{metadata_str}\\n\\n{content}'), Document(id_='2c377c26-422b-43e8-836f-eac6e5e35227', embedding=None, metadata={}, excluded_embed_metadata_keys=[], excluded_llm_metadata_keys=[], relationships={}, metadata_template='{key}: {value}', metadata_separator='\\n', text_resource=MediaResource(embeddings=None, data=None, text='\\n\\n5.1 Contraintes\\n\\n- Temps de latence entre l’ERP et le Datawarehouse\\n- Complexité des transformations liées à la volumétrie des données\\n', mimetype=None, path=None, url=None), image_resource=None, audio_resource=None, video_resource=None, text_template='{metadata_str}\\n\\n{content}'), Document(id_='3914a3e7-1c92-40a9-803c-7dc7dad2133f', embedding=None, metadata={}, excluded_embed_metadata_keys=[], excluded_llm_metadata_keys=[], relationships={}, metadata_template='{key}: {value}', metadata_separator='\\n', text_resource=MediaResource(embeddings=None, data=None, text='\\n\\n5.2 Risques\\n\\n- Panne des interfaces ETL pouvant interrompre les flux de données\\n- Problèmes de synchronisation pouvant conduire à des écarts entre l’ERP et le Datawarehouse\\n\\n---\\n', mimetype=None, path=None, url=None), image_resource=None, audio_resource=None, video_resource=None, text_template='{metadata_str}\\n\\n{content}'), Document(id_='f0211832-d721-4227-bd35-36a88c5dcc89', embedding=None, metadata={}, excluded_embed_metadata_keys=[], excluded_llm_metadata_keys=[], relationships={}, metadata_template='{key}: {value}', metadata_separator='\\n', text_resource=MediaResource(embeddings=None, data=None, text='\\n\\n6. Conclusion\\n\\nL’ERP joue un rôle essentiel dans l’alimentation du Datawarehouse en fournissant des données opérationnelles critiques. La mise en place de processus robustes et de contrôles rigoureux garantit la fiabilité et la continuité de cette intégration, indispensable pour le pilotage stratégique de l’entreprise.', mimetype=None, path=None, url=None), image_resource=None, audio_resource=None, video_resource=None, text_template='{metadata_str}\\n\\n{content}'), Document(id_='ff5c1c92-b558-4b8e-b628-b54a94427d27', embedding=None, metadata={}, excluded_embed_metadata_keys=[], excluded_llm_metadata_keys=[], relationships={}, metadata_template='{key}: {value}', metadata_separator='\\n', text_resource=MediaResource(embeddings=None, data=None, text='---\\nentite: field\\nparent: \"[[Base operation]]\"\\n---\\n', mimetype=None, path=None, url=None), image_resource=None, audio_resource=None, video_resource=None, text_template='{metadata_str}\\n\\n{content}'), Document(id_='ab09998f-8421-4091-b3e1-523bfd4088b8', embedding=None, metadata={}, excluded_embed_metadata_keys=[], excluded_llm_metadata_keys=[], relationships={}, metadata_template='{key}: {value}', metadata_separator='\\n', text_resource=MediaResource(embeddings=None, data=None, text='---\\nentite: personne physique\\nacces: \"[[Base operation]]\"\\n---', mimetype=None, path=None, url=None), image_resource=None, audio_resource=None, video_resource=None, text_template='{metadata_str}\\n\\n{content}'), Document(id_='e5141c06-da66-4da4-a221-42d1eebc9fe4', embedding=None, metadata={}, excluded_embed_metadata_keys=[], excluded_llm_metadata_keys=[], relationships={}, metadata_template='{key}: {value}', metadata_separator='\\n', text_resource=MediaResource(embeddings=None, data=None, text='\\n\\nObjectif de l’Entretien\\n\\nDiscuter des besoins d’accès à la Base Opération exprimés par Madame Sophie Laurent pour améliorer le pilotage des activités opérationnelles dans sa zone d’influence.\\n\\n---\\n', mimetype=None, path=None, url=None), image_resource=None, audio_resource=None, video_resource=None, text_template='{metadata_str}\\n\\n{content}'), Document(id_='bd98671e-01e4-4ec1-9880-1cde1aff8151', embedding=None, metadata={}, excluded_embed_metadata_keys=[], excluded_llm_metadata_keys=[], relationships={}, metadata_template='{key}: {value}', metadata_separator='\\n', text_resource=MediaResource(embeddings=None, data=None, text='\\n\\nPoints Abordés\\n', mimetype=None, path=None, url=None), image_resource=None, audio_resource=None, video_resource=None, text_template='{metadata_str}\\n\\n{content}'), Document(id_='1fb8ab54-09ed-4f4a-8e67-59cfc274ddb6', embedding=None, metadata={}, excluded_embed_metadata_keys=[], excluded_llm_metadata_keys=[], relationships={}, metadata_template='{key}: {value}', metadata_separator='\\n', text_resource=MediaResource(embeddings=None, data=None, text='\\n\\n1. **Nécessité d\\'un Accès Plus Large à la Base Opération**\\n\\nMme Laurent a exprimé le besoin d’accéder à des données plus complètes et en temps réel pour optimiser les performances de sa zone. Les arguments avancés incluent :\\n\\n- **Suivi opérationnel** : \"Actuellement, les rapports transmis sont trop agrégés. Un accès direct me permettrait d\\'identifier les détails critiques comme les retards de livraison ou les performances produit.\"\\n- **Réactivité** : \"Avec des données actualisées, je pourrais anticiper les problèmes et prendre des décisions rapidement, sans attendre les rapports hebdomadaires.\"\\n- **Pilotage précis** : \"Cela m’aiderait à mieux suivre les KPIs locaux et à adapter les stratégies en fonction des particularités de ma zone.\"\\n', mimetype=None, path=None, url=None), image_resource=None, audio_resource=None, video_resource=None, text_template='{metadata_str}\\n\\n{content}'), Document(id_='7957bf5a-debd-4f32-a5e4-21c092a6fca5', embedding=None, metadata={}, excluded_embed_metadata_keys=[], excluded_llm_metadata_keys=[], relationships={}, metadata_template='{key}: {value}', metadata_separator='\\n', text_resource=MediaResource(embeddings=None, data=None, text=\"\\n\\n2. **Limitations Actuelles**\\n\\nMme Laurent a identifié les limites de l'accès actuel :\\n\\n- **Accès indirect** à travers des rapports pré-générés qui manquent de granularité.\\n- **Délais** dans la transmission des données, parfois incompatibles avec les besoins opérationnels.\\n- **Absence de contextualisation locale** des données, qui rend difficile l’analyse des problèmes spécifiques.\\n\", mimetype=None, path=None, url=None), image_resource=None, audio_resource=None, video_resource=None, text_template='{metadata_str}\\n\\n{content}'), Document(id_='3d54d77c-c643-44d6-aa69-15ed956d7621', embedding=None, metadata={}, excluded_embed_metadata_keys=[], excluded_llm_metadata_keys=[], relationships={}, metadata_template='{key}: {value}', metadata_separator='\\n', text_resource=MediaResource(embeddings=None, data=None, text='\\n\\n3. **Types de Données Demandées**\\n\\nMme Laurent a détaillé les données critiques auxquelles elle souhaite accéder :\\n\\n- **Données de ventes** : Détails par client, produit, et segment de marché.\\n- **Données logistiques** : Statut des commandes, délais de livraison, performances des transporteurs.\\n- **Données de production** : Avancement des ordres de fabrication et stocks disponibles.\\n- **Données financières** : Suivi des facturations et paiements des clients.\\n', mimetype=None, path=None, url=None), image_resource=None, audio_resource=None, video_resource=None, text_template='{metadata_str}\\n\\n{content}'), Document(id_='cedea868-8107-4350-b379-6727c6b2ea2f', embedding=None, metadata={}, excluded_embed_metadata_keys=[], excluded_llm_metadata_keys=[], relationships={}, metadata_template='{key}: {value}', metadata_separator='\\n', text_resource=MediaResource(embeddings=None, data=None, text='\\n\\n4. **Propositions d’Accès**\\n\\nM. Martin a proposé plusieurs options pour répondre aux besoins exprimés :\\n\\n- **Accès filtré** à la Base Opération via une interface utilisateur personnalisée.\\n- **Mise en place de dashboards dynamiques** accessibles en temps réel pour visualiser les KPIs.\\n- **Formation** pour s’assurer que Mme Laurent puisse utiliser les outils d’analyse avancés.\\n', mimetype=None, path=None, url=None), image_resource=None, audio_resource=None, video_resource=None, text_template='{metadata_str}\\n\\n{content}'), Document(id_='eefbcd3c-e096-494e-9f56-df9501bcf595', embedding=None, metadata={}, excluded_embed_metadata_keys=[], excluded_llm_metadata_keys=[], relationships={}, metadata_template='{key}: {value}', metadata_separator='\\n', text_resource=MediaResource(embeddings=None, data=None, text='\\n\\n5. **Bénéfices Attendues**\\n\\nMme Laurent estime que l’accès élargi permettrait :\\n\\n- Une **meilleure coordination** avec les équipes terrain.\\n- Une **réduction des retards** grâce à une prise de décision rapide.\\n- Une **amélioration des performances locales**, notamment en augmentant la satisfaction client.\\n\\n---\\n', mimetype=None, path=None, url=None), image_resource=None, audio_resource=None, video_resource=None, text_template='{metadata_str}\\n\\n{content}'), Document(id_='f6f2b2f0-54eb-43aa-ad41-99f461bbbf51', embedding=None, metadata={}, excluded_embed_metadata_keys=[], excluded_llm_metadata_keys=[], relationships={}, metadata_template='{key}: {value}', metadata_separator='\\n', text_resource=MediaResource(embeddings=None, data=None, text='\\n\\nProchaines Étapes\\n\\n1. Audit des données disponibles dans la Base Opération et identification des champs pertinents pour Mme Laurent (15 janvier 2025).\\n2. Développement d’un accès personnalisé avec interface d’utilisation (31 janvier 2025).\\n3. Organisation d’une session de formation pour la prise en main des nouveaux outils (15 février 2025).\\n\\n---\\n\\n**Validation** : Le compte rendu a été approuvé par Mme Sophie Laurent et M. Philippe Martin.  \\n**Rédigé par** : [Nom du Rédacteur]', mimetype=None, path=None, url=None), image_resource=None, audio_resource=None, video_resource=None, text_template='{metadata_str}\\n\\n{content}'), Document(id_='a1b360e2-6d12-468a-9ec8-e24c02cdd00a', embedding=None, metadata={}, excluded_embed_metadata_keys=[], excluded_llm_metadata_keys=[], relationships={}, metadata_template='{key}: {value}', metadata_separator='\\n', text_resource=MediaResource(embeddings=None, data=None, text='---\\nentite: base\\nparent: \"[[CRM]]\"\\n---\\n\\n\\nLa base de données \"Personnes\" est un composant essentiel du système d\\'information de l\\'entreprise. Elle contient les informations relatives aux individus en interaction avec l\\'organisation, tels que les employés, clients ou partenaires. Ce document décrit la structure, les caractéristiques techniques et les bonnes pratiques associées à cette base de données.\\n', mimetype=None, path=None, url=None), image_resource=None, audio_resource=None, video_resource=None, text_template='{metadata_str}\\n\\n{content}'), Document(id_='82c2a5d1-3451-4f07-93ca-e577e57773fb', embedding=None, metadata={}, excluded_embed_metadata_keys=[], excluded_llm_metadata_keys=[], relationships={}, metadata_template='{key}: {value}', metadata_separator='\\n', text_resource=MediaResource(embeddings=None, data=None, text='\\n\\nObjectif\\n\\nFournir une documentation claire et détaillée de la base de données \"Personnes\" pour garantir une compréhension commune entre les équipes techniques et fonctionnelles, et faciliter son utilisation, son extension ou sa maintenance.\\n', mimetype=None, path=None, url=None), image_resource=None, audio_resource=None, video_resource=None, text_template='{metadata_str}\\n\\n{content}'), Document(id_='ac458f01-878c-4338-a3cb-437b09ce84f7', embedding=None, metadata={}, excluded_embed_metadata_keys=[], excluded_llm_metadata_keys=[], relationships={}, metadata_template='{key}: {value}', metadata_separator='\\n', text_resource=MediaResource(embeddings=None, data=None, text='\\n\\nSchéma de la Base de Données\\n', mimetype=None, path=None, url=None), image_resource=None, audio_resource=None, video_resource=None, text_template='{metadata_str}\\n\\n{content}'), Document(id_='71dde2ed-555e-4128-a4c2-ff0f5687e69a', embedding=None, metadata={}, excluded_embed_metadata_keys=[], excluded_llm_metadata_keys=[], relationships={}, metadata_template='{key}: {value}', metadata_separator='\\n', text_resource=MediaResource(embeddings=None, data=None, text='\\n\\nNom de la Table : `personnes`\\n', mimetype=None, path=None, url=None), image_resource=None, audio_resource=None, video_resource=None, text_template='{metadata_str}\\n\\n{content}'), Document(id_='8f06849d-9076-4b4f-8c9d-3d9eedef298b', embedding=None, metadata={}, excluded_embed_metadata_keys=[], excluded_llm_metadata_keys=[], relationships={}, metadata_template='{key}: {value}', metadata_separator='\\n', text_resource=MediaResource(embeddings=None, data=None, text='\\n\\nChamps Principaux\\n\\n1. **email** _(clé primaire)_\\n    \\n    - **Type** : VARCHAR(255)\\n    - **Description** : Adresse email unique de la personne.\\n    - **Contraintes** :\\n        - Non nul.\\n        - Doit être unique.\\n2. **nom**\\n    \\n    - **Type** : VARCHAR(255)\\n    - **Description** : Nom de la personne.\\n    - **Contraintes** :\\n        - Non nul.\\n', mimetype=None, path=None, url=None), image_resource=None, audio_resource=None, video_resource=None, text_template='{metadata_str}\\n\\n{content}'), Document(id_='981f4e6d-629e-4e08-921d-2f46754c4a3f', embedding=None, metadata={}, excluded_embed_metadata_keys=[], excluded_llm_metadata_keys=[], relationships={}, metadata_template='{key}: {value}', metadata_separator='\\n', text_resource=MediaResource(embeddings=None, data=None, text='\\n\\nChamps Complémentaires (facultatifs)\\n\\n3. **prenom**\\n    \\n    - **Type** : VARCHAR(255)\\n    - **Description** : Prénom de la personne.\\n    - **Contraintes** : Optionnel.\\n4. **date_naissance**\\n    \\n    - **Type** : DATE\\n    - **Description** : Date de naissance de la personne.\\n    - **Contraintes** : Optionnel.\\n5. **telephone**\\n    \\n    - **Type** : VARCHAR(15)\\n    - **Description** : Numéro de téléphone de la personne.\\n    - **Contraintes** : Optionnel.\\n6. **adresse**\\n    \\n    - **Type** : TEXT\\n    - **Description** : Adresse postale complète de la personne.\\n    - **Contraintes** : Optionnel.\\n', mimetype=None, path=None, url=None), image_resource=None, audio_resource=None, video_resource=None, text_template='{metadata_str}\\n\\n{content}'), Document(id_='2e6228bb-c731-403f-9ca3-69ab1522f3d8', embedding=None, metadata={}, excluded_embed_metadata_keys=[], excluded_llm_metadata_keys=[], relationships={}, metadata_template='{key}: {value}', metadata_separator='\\n', text_resource=MediaResource(embeddings=None, data=None, text='\\n\\nIndex et Clés\\n\\n- **Clé Primaire** : `email`\\n- **Index Secondaires** (si nécessaire) :\\n    - Index sur le champ `nom` pour accélérer les recherches par nom.\\n', mimetype=None, path=None, url=None), image_resource=None, audio_resource=None, video_resource=None, text_template='{metadata_str}\\n\\n{content}'), Document(id_='8a82a59e-6985-4b49-b6d5-8983cc9e6ae2', embedding=None, metadata={}, excluded_embed_metadata_keys=[], excluded_llm_metadata_keys=[], relationships={}, metadata_template='{key}: {value}', metadata_separator='\\n', text_resource=MediaResource(embeddings=None, data=None, text=\"\\n\\nRelations avec d'autres Tables\\n\\n- **Table `transactions`** :\\n    - Une relation peut être établie entre une personne et les transactions effectuées via le champ `email`.\\n- **Table `projets`** :\\n    - Une personne peut être associée à un ou plusieurs projets via une clé étrangère.\\n\", mimetype=None, path=None, url=None), image_resource=None, audio_resource=None, video_resource=None, text_template='{metadata_str}\\n\\n{content}'), Document(id_='7caf47b0-455a-445f-b3c5-d34f8fb7bfad', embedding=None, metadata={}, excluded_embed_metadata_keys=[], excluded_llm_metadata_keys=[], relationships={}, metadata_template='{key}: {value}', metadata_separator='\\n', text_resource=MediaResource(embeddings=None, data=None, text=\"\\n\\nBonnes Pratiques\\n\\n- **Validation des Données** :\\n    - Assurer l'unicité des adresses email avec la clé primaire.\\n    - Vérifier la validité des adresses email (format standard).\\n- **Archivage** :\\n    - Mettre en place une stratégie pour les personnes inactives (ex : marquage ou suppression après une certaine période).\\n- **Sécurité** :\\n    - Chiffrer les données sensibles comme l'adresse ou le téléphone.\\n    - Restreindre les droits d'accès à la table en fonction des rôles des utilisateurs.\\n- **Sauvegarde** :\\n    - Programmer des sauvegardes régulières de la base de données.\\n\", mimetype=None, path=None, url=None), image_resource=None, audio_resource=None, video_resource=None, text_template='{metadata_str}\\n\\n{content}'), Document(id_='896ce6b4-2416-4340-b56a-599f0defcbba', embedding=None, metadata={}, excluded_embed_metadata_keys=[], excluded_llm_metadata_keys=[], relationships={}, metadata_template='{key}: {value}', metadata_separator='\\n', text_resource=MediaResource(embeddings=None, data=None, text='\\n\\nExemple de Requête SQL\\n', mimetype=None, path=None, url=None), image_resource=None, audio_resource=None, video_resource=None, text_template='{metadata_str}\\n\\n{content}'), Document(id_='53fe97ed-9a04-4660-86d3-51f2e2c827c0', embedding=None, metadata={}, excluded_embed_metadata_keys=[], excluded_llm_metadata_keys=[], relationships={}, metadata_template='{key}: {value}', metadata_separator='\\n', text_resource=MediaResource(embeddings=None, data=None, text='\\n\\nCréation de la Table\\n\\n```sql\\nCREATE TABLE personnes (\\n    email VARCHAR(255) PRIMARY KEY,\\n    nom VARCHAR(255) NOT NULL,\\n    prenom VARCHAR(255),\\n    date_naissance DATE,\\n    telephone VARCHAR(15),\\n    adresse TEXT\\n);\\n```\\n', mimetype=None, path=None, url=None), image_resource=None, audio_resource=None, video_resource=None, text_template='{metadata_str}\\n\\n{content}'), Document(id_='0a01db9c-cffd-4b3d-8de3-261246530111', embedding=None, metadata={}, excluded_embed_metadata_keys=[], excluded_llm_metadata_keys=[], relationships={}, metadata_template='{key}: {value}', metadata_separator='\\n', text_resource=MediaResource(embeddings=None, data=None, text=\"\\n\\nAjout d'une Personne\\n\\n```sql\\nINSERT INTO personnes (email, nom, prenom, date_naissance, telephone, adresse)\\nVALUES ('j.doe@example.com', 'Doe', 'John', '1990-05-15', '0123456789', '123 Rue Principale, Paris, France');\\n```\\n\", mimetype=None, path=None, url=None), image_resource=None, audio_resource=None, video_resource=None, text_template='{metadata_str}\\n\\n{content}'), Document(id_='22abf768-c7db-4dcd-b38c-b07d5298f820', embedding=None, metadata={}, excluded_embed_metadata_keys=[], excluded_llm_metadata_keys=[], relationships={}, metadata_template='{key}: {value}', metadata_separator='\\n', text_resource=MediaResource(embeddings=None, data=None, text=\"\\n\\nConsultation des Personnes par Nom\\n\\n```sql\\nSELECT * FROM personnes WHERE nom = 'Doe';\\n```\\n\", mimetype=None, path=None, url=None), image_resource=None, audio_resource=None, video_resource=None, text_template='{metadata_str}\\n\\n{content}'), Document(id_='f20250a7-5ba4-4e7f-b47f-18e751e2fefc', embedding=None, metadata={}, excluded_embed_metadata_keys=[], excluded_llm_metadata_keys=[], relationships={}, metadata_template='{key}: {value}', metadata_separator='\\n', text_resource=MediaResource(embeddings=None, data=None, text=\"\\n\\nConclusion\\n\\nLa table `personnes` est essentielle pour la gestion des individus interagissant avec l'entreprise. Cette documentation vise à standardiser son utilisation et à en assurer une maintenance efficace. Les extensions futures doivent respecter la structure décrite et les bonnes pratiques établies ici.\", mimetype=None, path=None, url=None), image_resource=None, audio_resource=None, video_resource=None, text_template='{metadata_str}\\n\\n{content}'), Document(id_='c141179a-abb6-427d-bcd9-44f483975f19', embedding=None, metadata={}, excluded_embed_metadata_keys=[], excluded_llm_metadata_keys=[], relationships={}, metadata_template='{key}: {value}', metadata_separator='\\n', text_resource=MediaResource(embeddings=None, data=None, text='---\\nentite: personne physique\\nacces: \"[[ERP]]\"\\nparent: \"[[Membre ecosysteme 1]]\"\\n---', mimetype=None, path=None, url=None), image_resource=None, audio_resource=None, video_resource=None, text_template='{metadata_str}\\n\\n{content}'), Document(id_='a1b16694-d006-4212-ae00-139da2fa64e3', embedding=None, metadata={}, excluded_embed_metadata_keys=[], excluded_llm_metadata_keys=[], relationships={}, metadata_template='{key}: {value}', metadata_separator='\\n', text_resource=MediaResource(embeddings=None, data=None, text='\\n\\nObjectif de l’Entretien\\n\\nExplorer les besoins et les problématiques exprimés par les responsables de production concernant l’utilisation de l’ERP pour améliorer les processus de production.\\n\\n---\\n', mimetype=None, path=None, url=None), image_resource=None, audio_resource=None, video_resource=None, text_template='{metadata_str}\\n\\n{content}'), Document(id_='c9d65c5b-8111-4cb2-b2c3-26b4e31c34b3', embedding=None, metadata={}, excluded_embed_metadata_keys=[], excluded_llm_metadata_keys=[], relationships={}, metadata_template='{key}: {value}', metadata_separator='\\n', text_resource=MediaResource(embeddings=None, data=None, text='\\n\\nEntretien 1 : Madame Claire Dufresne\\n', mimetype=None, path=None, url=None), image_resource=None, audio_resource=None, video_resource=None, text_template='{metadata_str}\\n\\n{content}'), Document(id_='383eb6f5-1344-4fbc-af02-f84f0a7097a3', embedding=None, metadata={}, excluded_embed_metadata_keys=[], excluded_llm_metadata_keys=[], relationships={}, metadata_template='{key}: {value}', metadata_separator='\\n', text_resource=MediaResource(embeddings=None, data=None, text='\\n\\n1. **Problèmes Actuels**\\n\\nMme Dufresne a relevé plusieurs points bloquants dans l’utilisation de l’ERP :\\n\\n- **Manque de visibilité en temps réel** sur l’état des ordres de production.\\n- **Difficulté à extraire des données de performance** par ligne de production.\\n- **Absence de notifications automatiques** pour les dépassements de seuils critiques (retards, pannes).\\n', mimetype=None, path=None, url=None), image_resource=None, audio_resource=None, video_resource=None, text_template='{metadata_str}\\n\\n{content}'), Document(id_='adfb7664-9242-493a-8ea4-f335eb9d6d7f', embedding=None, metadata={}, excluded_embed_metadata_keys=[], excluded_llm_metadata_keys=[], relationships={}, metadata_template='{key}: {value}', metadata_separator='\\n', text_resource=MediaResource(embeddings=None, data=None, text='\\n\\n2. **Besoins Identifiés**\\n\\nMme Dufresne souhaite disposer :\\n\\n- D’un tableau de bord personnalisé montrant :\\n    - L’état des ordres en cours.\\n    - Les KPI par équipe et par machine.\\n- D’alertes en temps réel pour les anomalies majeures.\\n- D’un accès plus intuitif à l’historique des données de production pour l’analyse des tendances.\\n', mimetype=None, path=None, url=None), image_resource=None, audio_resource=None, video_resource=None, text_template='{metadata_str}\\n\\n{content}'), Document(id_='f150d98a-0381-4339-b2b6-66f955bfe835', embedding=None, metadata={}, excluded_embed_metadata_keys=[], excluded_llm_metadata_keys=[], relationships={}, metadata_template='{key}: {value}', metadata_separator='\\n', text_resource=MediaResource(embeddings=None, data=None, text='\\n\\n3. **Propositions**\\n\\nM. Martin a proposé :\\n\\n- La création d’un dashboard adapté aux besoins des responsables de production.\\n- L’intégration d’un système d’alertes personnalisables dans l’ERP.\\n- Une session de formation pour maximiser l’utilisation des outils existants.\\n\\n', mimetype=None, path=None, url=None), image_resource=None, audio_resource=None, video_resource=None, text_template='{metadata_str}\\n\\n{content}'), Document(id_='ef8200e0-ea33-48c8-a88b-c0ec5cc1b6f3', embedding=None, metadata={}, excluded_embed_metadata_keys=[], excluded_llm_metadata_keys=[], relationships={}, metadata_template='{key}: {value}', metadata_separator='\\n', text_resource=MediaResource(embeddings=None, data=None, text='---\\nentite: applicatif\\nrealites: \"[[Email non-renseignés]]\"\\n---\\n\\nLe CRM est un applicatif de gestion des relations clients conçu pour centraliser, organiser et exploiter les informations relatives aux individus (clients, prospects, partenaires, etc.) à partir d\\'une base personne. Cette solution permet d’optimiser les interactions commerciales, d’améliorer le suivi des relations, et de renforcer la fidélisation client grâce à des fonctionnalités adaptées aux besoins opérationnels et stratégiques.\\n\\n**Principales Caractéristiques :**\\n\\n1. **Gestion des Contacts :**\\n    \\n    - Centralisation des données individuelles (nom, prénom, coordonnées, statut, etc.).\\n    - Segmentation et classification des contacts selon des critères personnalisables (client, prospect, fournisseur).\\n2. **Historique des Interactions :**\\n    \\n    - Suivi des échanges (emails, appels, réunions) pour chaque contact.\\n    - Notifications et rappels pour les tâches et les événements importants.\\n3. **Pipeline de Ventes :**\\n    \\n    - Gestion des opportunités commerciales, des devis, et des contrats.\\n    - Visualisation en temps réel du cycle de vente et des performances par étape.\\n4. **Automatisation :**\\n    \\n    - Création de campagnes marketing ciblées via des workflows automatisés.\\n    - Envoi d’emails et de SMS personnalisés à grande échelle.\\n5. **Rapports et Analyses :**\\n    \\n    - Génération de tableaux de bord et de rapports dynamiques sur les performances commerciales.\\n    - Indicateurs clés (KPI) pour le suivi des ventes, des activités marketing, et de la satisfaction client.\\n6. **Intégration et Extensibilité :**\\n    \\n    - Connecteurs vers d\\'autres outils (ERP, plateformes e-commerce, outils de marketing).\\n    - API pour des intégrations spécifiques ou des extensions sur mesure.\\n\\n**Avantages :**\\n\\n- Centralisation complète des informations au sein d’une base personne unique, assurant cohérence et fiabilité des données.\\n- Accessibilité multi-support (web, mobile) pour une utilisation simplifiée sur le terrain ou au bureau.\\n- Solution évolutive adaptée aux petites, moyennes et grandes entreprises.\\n\\n**Exemples d\\'Utilisation :**\\n\\n- Suivi des prospects pour une équipe commerciale.\\n- Organisation et analyse des campagnes de fidélisation pour un département marketing.\\n- Gestion des relations avec les partenaires pour une entreprise multisectorielle.\\n\\n**Technologies Utilisées :**\\n\\n- Backend : [Ex. Python, Node.js]\\n- Base de données : [Ex. PostgreSQL]\\n- Frontend : [Ex. React, Angular]\\n- Infrastructure : [Ex. AWS, Azure]\\n\\n---\\n\\nCe descriptif peut être adapté selon les spécificités de votre applicatif et des technologies utilisées. Souhaitez-vous approfondir un point particulier ?', mimetype=None, path=None, url=None), image_resource=None, audio_resource=None, video_resource=None, text_template='{metadata_str}\\n\\n{content}'), Document(id_='626531b8-8fa7-4fd7-9c90-927af4332372', embedding=None, metadata={}, excluded_embed_metadata_keys=[], excluded_llm_metadata_keys=[], relationships={}, metadata_template='{key}: {value}', metadata_separator='\\n', text_resource=MediaResource(embeddings=None, data=None, text='---\\nentite: personne physique\\nattente: \"[[Emails renseignés]]\"\\nacces: \"[[CRM]]\"\\n---', mimetype=None, path=None, url=None), image_resource=None, audio_resource=None, video_resource=None, text_template='{metadata_str}\\n\\n{content}'), Document(id_='b02ffba6-7773-428d-897b-ed17c80ebf27', embedding=None, metadata={}, excluded_embed_metadata_keys=[], excluded_llm_metadata_keys=[], relationships={}, metadata_template='{key}: {value}', metadata_separator='\\n', text_resource=MediaResource(embeddings=None, data=None, text=\"\\n\\n**Utilisation attendue de la base personne**\\n\\n**1. Objectif principal**  \\nLe chargé de campagne marketing utilise la base personne comme outil central pour la segmentation des audiences et la personnalisation des campagnes.\\n\\n**2. Données clés**\\n\\n- **Adresse e-mail** : Élément indispensable pour l'envoi d'e-mails ciblés et la mesure des performances des campagnes.\\n- **Nom et prénom** : Facilite la personnalisation des messages.\\n- **Historique des interactions** : Permet d'adapter les campagnes en fonction du comportement passé.\\n- **Données démographiques** : Aide à la segmentation et à la création de personas.\\n\\n**3. Rôle des données**  \\nLa complétude des informations dans la base personne est cruciale pour maximiser :\\n\\n- **Le taux d’ouverture des e-mails.**\\n- **La pertinence des messages.**\\n- **La satisfaction et la fidélité des clients.**\\n\\n\", mimetype=None, path=None, url=None), image_resource=None, audio_resource=None, video_resource=None, text_template='{metadata_str}\\n\\n{content}')]\n"
     ]
    }
   ],
   "source": [
    "#locate obsidian files that make your graph\n",
    "filepath = r\"/Users/arthursarazin/Documents/coreandgraphs/graphandgovern/graph\"\n",
    "\n",
    "#load the graph files \n",
    "graph_files = ObsidianReader(filepath).load_data()\n",
    "print(list(graph_files))"
   ]
  },
  {
   "cell_type": "markdown",
   "id": "b4066792",
   "metadata": {},
   "source": [
    "# Using manual code to create specific ontology"
   ]
  },
  {
   "cell_type": "code",
   "execution_count": 7,
   "id": "16f92a58",
   "metadata": {},
   "outputs": [],
   "source": [
    "# Fonction pour extraire les métadonnées YAML et le titre d'un fichier Markdown\n",
    "def extract_metadata_and_title(file_path):\n",
    "    with open(file_path, 'r', encoding='utf-8') as f:\n",
    "        content = f.read()\n",
    "        # Recherchez la section YAML (entre `---` au début et à la fin)\n",
    "        if content.startswith(\"---\"):\n",
    "            try:\n",
    "                yaml_block = content.split(\"---\", 2)[1]\n",
    "                metadata = yaml.safe_load(yaml_block)\n",
    "                return os.path.basename(file_path).replace(\".md\", \"\"), metadata\n",
    "            except Exception as e:\n",
    "                print(f\"Erreur lors de l'extraction des métadonnées de {file_path}: {e}\")\n",
    "                return None, None\n",
    "        return os.path.basename(file_path).replace(\".md\", \"\"), None\n",
    "\n",
    "# Parcourir les fichiers Obsidian et créer des entités et relations\n",
    "def process_obsidian_notes(directory):\n",
    "    entities = []\n",
    "    relations = []\n",
    "    \n",
    "    for root, _, files in os.walk(directory):\n",
    "        for file in files:\n",
    "            if file.endswith(\".md\"):\n",
    "                file_path = os.path.join(root, file)\n",
    "                title, metadata = extract_metadata_and_title(file_path)\n",
    "                if title:\n",
    "                    # Ajouter l'entité basée sur le titre\n",
    "                    entities.append({\"name\": title})\n",
    "                    \n",
    "                    # Ajouter les relations basées sur les propriétés YAML\n",
    "                    if metadata:\n",
    "                        for key, value in metadata.items():\n",
    "                            relations.append({\n",
    "                                \"type\": key,  # Nom de la propriété comme relation\n",
    "                                \"source\": title,  # Titre du fichier comme entité source\n",
    "                                \"target\": value,  # Valeur de la propriété comme entité cible\n",
    "                            })\n",
    "    return entities, relations\n",
    "\n"
   ]
  },
  {
   "cell_type": "code",
   "execution_count": 8,
   "id": "95381307",
   "metadata": {},
   "outputs": [
    {
     "name": "stdout",
     "output_type": "stream",
     "text": [
      "[]\n"
     ]
    }
   ],
   "source": [
    "# Exemple d'utilisation\n",
    "obsidian_dir = r\"C:\\Users\\asarazin\\OneDrive - Veltys Max\\Documents\\documente-marcel\\graph\"\n",
    "entities, relations = process_obsidian_notes(obsidian_dir)\n",
    "\n",
    "print(relations)"
   ]
  },
  {
   "cell_type": "markdown",
   "id": "fe5efb9f-d02f-490e-966c-f490b5e9db3e",
   "metadata": {},
   "source": [
    "# Set LLM (OpenAI)"
   ]
  },
  {
   "cell_type": "code",
   "execution_count": 9,
   "id": "1b597ecc",
   "metadata": {},
   "outputs": [],
   "source": [
    "load_dotenv()  # Charge les variables depuis le fichier .env\n",
    "api_key = os.getenv(\"OPENAI_API_KEY_UP\")\n",
    "# Modifier ou ajouter une variable d'environnement\n",
    "os.environ[\"OPENAI_API_KEY\"] = api_key"
   ]
  },
  {
   "cell_type": "code",
   "execution_count": 10,
   "id": "a30f2c04-d01b-47ce-a532-c6c8fb4ee42c",
   "metadata": {},
   "outputs": [],
   "source": [
    "llm = OpenAI(temperature=0, model=\"gpt-4o\", max_tokens=3000)\n",
    "Settings.llm = llm\n",
    "Settings.chunk_size = 512"
   ]
  },
  {
   "cell_type": "markdown",
   "id": "6a010330-bc6a-4e1c-8605-16afe8200585",
   "metadata": {},
   "source": [
    "# Set local LLM for embeddings ()"
   ]
  },
  {
   "cell_type": "code",
   "execution_count": 11,
   "id": "aa6be1f9-b33d-400a-a471-eeeeb35c0448",
   "metadata": {},
   "outputs": [
    {
     "name": "stdout",
     "output_type": "stream",
     "text": [
      "INFO:sentence_transformers.SentenceTransformer:Load pretrained SentenceTransformer: BAAI/bge-base-en-v1.5\n",
      "Load pretrained SentenceTransformer: BAAI/bge-base-en-v1.5\n",
      "INFO:sentence_transformers.SentenceTransformer:2 prompts are loaded, with the keys: ['query', 'text']\n",
      "2 prompts are loaded, with the keys: ['query', 'text']\n"
     ]
    }
   ],
   "source": [
    "# bge-base embedding model\n",
    "Settings.embed_model = HuggingFaceEmbedding(model_name=\"BAAI/bge-base-en-v1.5\")\n",
    "#Settings.embed_model = OpenAIEmbedding(model=\"text-embedding-3-small\")\n"
   ]
  },
  {
   "cell_type": "markdown",
   "id": "c57e871d-dbf8-4cb1-897d-bdaef21b170d",
   "metadata": {},
   "source": [
    "# Set LLM for chat  (Local)"
   ]
  },
  {
   "cell_type": "code",
   "execution_count": 12,
   "id": "5843a4c5-e11f-4c32-b446-2aec529a5789",
   "metadata": {},
   "outputs": [],
   "source": [
    "#llm = Ollama(model=\"tinyllama\", request_timeout=120.0)\n",
    "#Settings.llm = llm\n",
    "#Settings.chunk_size = 512"
   ]
  },
  {
   "cell_type": "markdown",
   "id": "21c5460a-bb6d-4839-92db-1180e146af06",
   "metadata": {},
   "source": [
    "# Test LLM"
   ]
  },
  {
   "cell_type": "code",
   "execution_count": 13,
   "id": "8a1e0de1-14c5-4b4b-9e40-ebbdae50b263",
   "metadata": {
    "scrolled": true
   },
   "outputs": [
    {
     "name": "stdout",
     "output_type": "stream",
     "text": [
      "INFO:httpx:HTTP Request: POST https://api.openai.com/v1/chat/completions \"HTTP/1.1 200 OK\"\n",
      "HTTP Request: POST https://api.openai.com/v1/chat/completions \"HTTP/1.1 200 OK\"\n",
      "assistant: As a data governance consultant, I don't have personal preferences or feelings. However, I can provide insights into popular data tools that are widely used in the industry. Some of the most commonly used data governance tools include:\n",
      "\n",
      "1. **Collibra**: Known for its comprehensive data governance platform that helps organizations manage data assets, ensure compliance, and improve data quality.\n",
      "\n",
      "2. **Informatica Axon**: Offers a collaborative data governance solution that integrates with other Informatica products to provide a holistic view of data assets.\n",
      "\n",
      "3. **Alation**: Focuses on data cataloging and collaboration, helping organizations discover, understand, and trust their data.\n",
      "\n",
      "4. **Talend**: Provides data integration and governance solutions that help ensure data quality and compliance across various data sources.\n",
      "\n",
      "5. **IBM InfoSphere Information Governance Catalog**: Offers a robust platform for managing data governance, quality, and compliance.\n",
      "\n",
      "6. **Microsoft Purview**: A unified data governance service that helps organizations manage and govern their on-premises, multi-cloud, and software-as-a-service (SaaS) data.\n",
      "\n",
      "Each of these tools has its strengths and is chosen based on the specific needs and infrastructure of an organization.\n"
     ]
    }
   ],
   "source": [
    "messages = [\n",
    "    ChatMessage(\n",
    "        role=\"system\", content=\"You are a data governance consultant\"\n",
    "    ),\n",
    "    ChatMessage(role=\"user\", content=\"What's your favorite data tool ?\"),\n",
    "]\n",
    "resp = llm.chat(messages)\n",
    "print(resp)"
   ]
  },
  {
   "cell_type": "code",
   "execution_count": 14,
   "id": "ee83593e",
   "metadata": {},
   "outputs": [],
   "source": [
    "# Instantiate vector store\n",
    "simple_glossary = SimpleDirectoryReader(\n",
    "    r\"/Users/arthursarazin/Documents/coreandgraphs/graphandgovern/graph\"\n",
    ")"
   ]
  },
  {
   "cell_type": "markdown",
   "id": "d9b83af3-ff18-40f0-8469-5c8b2a75b5dd",
   "metadata": {},
   "source": [
    "# Instantiate graph store "
   ]
  },
  {
   "cell_type": "code",
   "execution_count": 15,
   "id": "e12d5f9c-03ea-4af6-a3ad-c1764d08e99b",
   "metadata": {},
   "outputs": [],
   "source": [
    "graph_store = SimpleGraphStore()\n",
    "graph_storage_context = StorageContext.from_defaults(graph_store=graph_store)"
   ]
  },
  {
   "cell_type": "markdown",
   "id": "f2f102bb",
   "metadata": {},
   "source": [
    "# Instantiate ontology store"
   ]
  },
  {
   "cell_type": "code",
   "execution_count": 16,
   "id": "a66387e2",
   "metadata": {},
   "outputs": [],
   "source": [
    "onto_store = SimpleGraphStore()\n",
    "onto_storage_context = StorageContext.from_defaults(graph_store=onto_store)"
   ]
  },
  {
   "cell_type": "markdown",
   "id": "b94eacca-42e3-4140-a620-c199f3578e6e",
   "metadata": {},
   "source": [
    "# Construct Index"
   ]
  },
  {
   "cell_type": "markdown",
   "id": "ff6a821e-abd8-4cb4-b2dc-98163aa332df",
   "metadata": {},
   "source": [
    "## Construct Vector Store Index"
   ]
  },
  {
   "cell_type": "code",
   "execution_count": null,
   "id": "53fee7a2",
   "metadata": {},
   "outputs": [
    {
     "data": {
      "application/vnd.jupyter.widget-view+json": {
       "model_id": "d16c23ad08a0490eaa84f91bb4aee47d",
       "version_major": 2,
       "version_minor": 0
      },
      "text/plain": [
       "Parsing nodes:   0%|          | 0/111 [00:00<?, ?it/s]"
      ]
     },
     "metadata": {},
     "output_type": "display_data"
    },
    {
     "data": {
      "application/vnd.jupyter.widget-view+json": {
       "model_id": "58e326d3b7b7425eb6e1593402708f13",
       "version_major": 2,
       "version_minor": 0
      },
      "text/plain": [
       "Generating embeddings:   0%|          | 0/112 [00:00<?, ?it/s]"
      ]
     },
     "metadata": {},
     "output_type": "display_data"
    },
    {
     "data": {
      "application/vnd.jupyter.widget-view+json": {
       "model_id": "cc6197af7bcf4599ad8883fd36366173",
       "version_major": 2,
       "version_minor": 0
      },
      "text/plain": [
       "Batches:   0%|          | 0/1 [00:00<?, ?it/s]"
      ]
     },
     "metadata": {},
     "output_type": "display_data"
    },
    {
     "data": {
      "application/vnd.jupyter.widget-view+json": {
       "model_id": "84209e7a25f34afea0bfb7efa724a2d8",
       "version_major": 2,
       "version_minor": 0
      },
      "text/plain": [
       "Batches:   0%|          | 0/1 [00:00<?, ?it/s]"
      ]
     },
     "metadata": {},
     "output_type": "display_data"
    },
    {
     "data": {
      "application/vnd.jupyter.widget-view+json": {
       "model_id": "173d1805f352402096871d7f993752a9",
       "version_major": 2,
       "version_minor": 0
      },
      "text/plain": [
       "Batches:   0%|          | 0/1 [00:00<?, ?it/s]"
      ]
     },
     "metadata": {},
     "output_type": "display_data"
    },
    {
     "data": {
      "application/vnd.jupyter.widget-view+json": {
       "model_id": "8b4f20f3f0814670a22e05440ffbdf6d",
       "version_major": 2,
       "version_minor": 0
      },
      "text/plain": [
       "Batches:   0%|          | 0/1 [00:00<?, ?it/s]"
      ]
     },
     "metadata": {},
     "output_type": "display_data"
    },
    {
     "data": {
      "application/vnd.jupyter.widget-view+json": {
       "model_id": "895000f891b44befbc1b9ffbbbc207ef",
       "version_major": 2,
       "version_minor": 0
      },
      "text/plain": [
       "Batches:   0%|          | 0/1 [00:00<?, ?it/s]"
      ]
     },
     "metadata": {},
     "output_type": "display_data"
    },
    {
     "data": {
      "application/vnd.jupyter.widget-view+json": {
       "model_id": "e360046767cc46bcb526ef099803b720",
       "version_major": 2,
       "version_minor": 0
      },
      "text/plain": [
       "Batches:   0%|          | 0/1 [00:00<?, ?it/s]"
      ]
     },
     "metadata": {},
     "output_type": "display_data"
    },
    {
     "data": {
      "application/vnd.jupyter.widget-view+json": {
       "model_id": "a30244b6616649a4807c09b222410f75",
       "version_major": 2,
       "version_minor": 0
      },
      "text/plain": [
       "Batches:   0%|          | 0/1 [00:00<?, ?it/s]"
      ]
     },
     "metadata": {},
     "output_type": "display_data"
    },
    {
     "data": {
      "application/vnd.jupyter.widget-view+json": {
       "model_id": "ee0f5dfbaf9c451ebd5aafc9ca89b68c",
       "version_major": 2,
       "version_minor": 0
      },
      "text/plain": [
       "Batches:   0%|          | 0/1 [00:00<?, ?it/s]"
      ]
     },
     "metadata": {},
     "output_type": "display_data"
    },
    {
     "data": {
      "application/vnd.jupyter.widget-view+json": {
       "model_id": "84cd4aa43c6842338467eae6f682497b",
       "version_major": 2,
       "version_minor": 0
      },
      "text/plain": [
       "Batches:   0%|          | 0/1 [00:00<?, ?it/s]"
      ]
     },
     "metadata": {},
     "output_type": "display_data"
    },
    {
     "data": {
      "application/vnd.jupyter.widget-view+json": {
       "model_id": "f04d51ea377d4aa5ba3aa0ea8a78bd0e",
       "version_major": 2,
       "version_minor": 0
      },
      "text/plain": [
       "Batches:   0%|          | 0/1 [00:00<?, ?it/s]"
      ]
     },
     "metadata": {},
     "output_type": "display_data"
    },
    {
     "data": {
      "application/vnd.jupyter.widget-view+json": {
       "model_id": "621ec25302384837a6b51d06efb9271e",
       "version_major": 2,
       "version_minor": 0
      },
      "text/plain": [
       "Batches:   0%|          | 0/1 [00:00<?, ?it/s]"
      ]
     },
     "metadata": {},
     "output_type": "display_data"
    },
    {
     "data": {
      "application/vnd.jupyter.widget-view+json": {
       "model_id": "e2ccd141df814e73b5fbacab25ddc96e",
       "version_major": 2,
       "version_minor": 0
      },
      "text/plain": [
       "Batches:   0%|          | 0/1 [00:00<?, ?it/s]"
      ]
     },
     "metadata": {},
     "output_type": "display_data"
    }
   ],
   "source": [
    "vector_index = VectorStoreIndex.from_documents(\n",
    "    documents = simple_glossary.load_data(),\n",
    "    show_progress=True)"
   ]
  },
  {
   "cell_type": "code",
   "execution_count": 41,
   "id": "4c8c116b",
   "metadata": {},
   "outputs": [
    {
     "ename": "",
     "evalue": "",
     "output_type": "error",
     "traceback": [
      "\u001b[1;31mRunning cells with '/opt/homebrew/bin/python3.12' requires the ipykernel package.\n",
      "\u001b[1;31mRun the following command to install 'ipykernel' into the Python environment. \n",
      "\u001b[1;31mCommand: '/opt/homebrew/bin/python3.12 -m pip install ipykernel -U --user --force-reinstall'"
     ]
    }
   ],
   "source": [
    "# save index to disk\n",
    "vector_index.set_index_id(\"vector_index\")\n",
    "vector_index.storage_context.persist(\"vector\")"
   ]
  },
  {
   "cell_type": "markdown",
   "id": "6061a476-f5cc-4805-ad25-6e1533e787e5",
   "metadata": {},
   "source": [
    "## Construct knowledge graph index "
   ]
  },
  {
   "cell_type": "code",
   "execution_count": 42,
   "id": "250b454a-f598-4749-8847-f59fa3a36a47",
   "metadata": {},
   "outputs": [
    {
     "ename": "",
     "evalue": "",
     "output_type": "error",
     "traceback": [
      "\u001b[1;31mRunning cells with '/opt/homebrew/bin/python3.12' requires the ipykernel package.\n",
      "\u001b[1;31mRun the following command to install 'ipykernel' into the Python environment. \n",
      "\u001b[1;31mCommand: '/opt/homebrew/bin/python3.12 -m pip install ipykernel -U --user --force-reinstall'"
     ]
    }
   ],
   "source": [
    "def process_document(doc):\n",
    "    # This function will be called for each document\n",
    "    print(f\"Processing document: {doc.doc_id}\")\n",
    "    return doc"
   ]
  },
  {
   "cell_type": "code",
   "execution_count": null,
   "id": "3ca242f4-8ce0-4599-a888-eccc840b1587",
   "metadata": {},
   "outputs": [
    {
     "ename": "",
     "evalue": "",
     "output_type": "error",
     "traceback": [
      "\u001b[1;31mRunning cells with '/opt/homebrew/bin/python3.12' requires the ipykernel package.\n",
      "\u001b[1;31mRun the following command to install 'ipykernel' into the Python environment. \n",
      "\u001b[1;31mCommand: '/opt/homebrew/bin/python3.12 -m pip install ipykernel -U --user --force-reinstall'"
     ]
    }
   ],
   "source": [
    "# Assuming you have your graph files loaded\n",
    "print(f\"Starting to process {len(graph_files)} documents...\")"
   ]
  },
  {
   "cell_type": "code",
   "execution_count": null,
   "id": "73397fd8-2bb8-41c3-ae12-f64621c9fa54",
   "metadata": {
    "scrolled": true
   },
   "outputs": [
    {
     "ename": "",
     "evalue": "",
     "output_type": "error",
     "traceback": [
      "\u001b[1;31mRunning cells with '/opt/homebrew/bin/python3.12' requires the ipykernel package.\n",
      "\u001b[1;31mRun the following command to install 'ipykernel' into the Python environment. \n",
      "\u001b[1;31mCommand: '/opt/homebrew/bin/python3.12 -m pip install ipykernel -U --user --force-reinstall'"
     ]
    }
   ],
   "source": [
    "# Wrap your document processing in a progress bar\n",
    "graph_index = KnowledgeGraphIndex.from_documents(\n",
    "        documents=[process_document(doc) for doc in graph_files],  # process one document at a time\n",
    "        max_triplets_per_chunk=2,\n",
    "        storage_context=graph_storage_context,\n",
    "        include_embeddings=True,\n",
    "    show_progress=True,\n",
    ")\n"
   ]
  },
  {
   "cell_type": "code",
   "execution_count": null,
   "id": "bdf91f91-dfe7-4034-8719-54b10a1d1a01",
   "metadata": {},
   "outputs": [
    {
     "ename": "",
     "evalue": "",
     "output_type": "error",
     "traceback": [
      "\u001b[1;31mRunning cells with '/opt/homebrew/bin/python3.12' requires the ipykernel package.\n",
      "\u001b[1;31mRun the following command to install 'ipykernel' into the Python environment. \n",
      "\u001b[1;31mCommand: '/opt/homebrew/bin/python3.12 -m pip install ipykernel -U --user --force-reinstall'"
     ]
    }
   ],
   "source": [
    "print(graph_index)"
   ]
  },
  {
   "cell_type": "code",
   "execution_count": 46,
   "id": "7e2e5de7-68d1-4b89-b1c2-e703f31419d7",
   "metadata": {
    "scrolled": true
   },
   "outputs": [
    {
     "ename": "",
     "evalue": "",
     "output_type": "error",
     "traceback": [
      "\u001b[1;31mRunning cells with '/opt/homebrew/bin/python3.12' requires the ipykernel package.\n",
      "\u001b[1;31mRun the following command to install 'ipykernel' into the Python environment. \n",
      "\u001b[1;31mCommand: '/opt/homebrew/bin/python3.12 -m pip install ipykernel -U --user --force-reinstall'"
     ]
    }
   ],
   "source": [
    "graph_index.set_index_id(\"graph_index\")\n",
    "graph_index.storage_context.persist(\"knowledge_graph\")\n",
    "graph_storage_context.persist(persist_dir=\"knowledge_graph\")\n"
   ]
  },
  {
   "cell_type": "markdown",
   "id": "0a48545d",
   "metadata": {},
   "source": [
    "## Construct knowledge with ontology as assistant"
   ]
  },
  {
   "cell_type": "code",
   "execution_count": 47,
   "id": "64c7bd75",
   "metadata": {},
   "outputs": [
    {
     "ename": "",
     "evalue": "",
     "output_type": "error",
     "traceback": [
      "\u001b[1;31mRunning cells with '/opt/homebrew/bin/python3.12' requires the ipykernel package.\n",
      "\u001b[1;31mRun the following command to install 'ipykernel' into the Python environment. \n",
      "\u001b[1;31mCommand: '/opt/homebrew/bin/python3.12 -m pip install ipykernel -U --user --force-reinstall'"
     ]
    }
   ],
   "source": [
    "onto_store = SimpleGraphStore()\n",
    "onto_storage_context = StorageContext.from_defaults(graph_store=onto_store)"
   ]
  },
  {
   "cell_type": "code",
   "execution_count": 48,
   "id": "76ed084e",
   "metadata": {},
   "outputs": [
    {
     "ename": "",
     "evalue": "",
     "output_type": "error",
     "traceback": [
      "\u001b[1;31mRunning cells with '/opt/homebrew/bin/python3.12' requires the ipykernel package.\n",
      "\u001b[1;31mRun the following command to install 'ipykernel' into the Python environment. \n",
      "\u001b[1;31mCommand: '/opt/homebrew/bin/python3.12 -m pip install ipykernel -U --user --force-reinstall'"
     ]
    }
   ],
   "source": [
    "# Configurer DynamicLLMPathExtractor avec les entités et relations extraites\n",
    "kg_extractor = DynamicLLMPathExtractor(\n",
    "    llm=llm,\n",
    "    max_triplets_per_chunk=20,\n",
    "    num_workers=4,\n",
    "    allowed_entity_types=None,  # Si vous ne limitez pas les types d'entités\n",
    "    allowed_relation_types=None,  # Si vous ne limitez pas les types de relations\n",
    "    allowed_entity_props=None,\n",
    "    allowed_relation_props=None,\n",
    ")"
   ]
  },
  {
   "cell_type": "code",
   "execution_count": null,
   "id": "7b0225a3",
   "metadata": {},
   "outputs": [
    {
     "ename": "",
     "evalue": "",
     "output_type": "error",
     "traceback": [
      "\u001b[1;31mRunning cells with '/opt/homebrew/bin/python3.12' requires the ipykernel package.\n",
      "\u001b[1;31mRun the following command to install 'ipykernel' into the Python environment. \n",
      "\u001b[1;31mCommand: '/opt/homebrew/bin/python3.12 -m pip install ipykernel -U --user --force-reinstall'"
     ]
    }
   ],
   "source": [
    "# Résumé des entités et relations extraites\n",
    "print(\"Entités :\")\n",
    "for entity in entities:\n",
    "    print(entity)\n",
    "\n",
    "print(\"\\nRelations :\")\n",
    "for relation in relations:\n",
    "    print(relation)"
   ]
  },
  {
   "cell_type": "code",
   "execution_count": null,
   "id": "2e813096",
   "metadata": {},
   "outputs": [
    {
     "ename": "",
     "evalue": "",
     "output_type": "error",
     "traceback": [
      "\u001b[1;31mRunning cells with '/opt/homebrew/bin/python3.12' requires the ipykernel package.\n",
      "\u001b[1;31mRun the following command to install 'ipykernel' into the Python environment. \n",
      "\u001b[1;31mCommand: '/opt/homebrew/bin/python3.12 -m pip install ipykernel -U --user --force-reinstall'"
     ]
    }
   ],
   "source": [
    "onto_index = PropertyGraphIndex.from_documents(\n",
    "    documents=[process_document(doc) for doc in graph_files],\n",
    "    llm=llm,\n",
    "    storage_context=onto_storage_context,\n",
    "    embed_kg_nodes=True,\n",
    "    kg_extractors=[kg_extractor],\n",
    "    show_progress=True,\n",
    "    graph_store=onto_store \n",
    "\n",
    ")"
   ]
  },
  {
   "cell_type": "code",
   "execution_count": null,
   "id": "cba268ac",
   "metadata": {},
   "outputs": [
    {
     "ename": "",
     "evalue": "",
     "output_type": "error",
     "traceback": [
      "\u001b[1;31mRunning cells with '/opt/homebrew/bin/python3.12' requires the ipykernel package.\n",
      "\u001b[1;31mRun the following command to install 'ipykernel' into the Python environment. \n",
      "\u001b[1;31mCommand: '/opt/homebrew/bin/python3.12 -m pip install ipykernel -U --user --force-reinstall'"
     ]
    }
   ],
   "source": [
    "print(onto_storage_context)"
   ]
  },
  {
   "cell_type": "code",
   "execution_count": 52,
   "id": "7314a0db",
   "metadata": {},
   "outputs": [
    {
     "ename": "",
     "evalue": "",
     "output_type": "error",
     "traceback": [
      "\u001b[1;31mRunning cells with '/opt/homebrew/bin/python3.12' requires the ipykernel package.\n",
      "\u001b[1;31mRun the following command to install 'ipykernel' into the Python environment. \n",
      "\u001b[1;31mCommand: '/opt/homebrew/bin/python3.12 -m pip install ipykernel -U --user --force-reinstall'"
     ]
    }
   ],
   "source": [
    "# save index to disk\n",
    "onto_index.set_index_id(\"onto_index\")\n",
    "onto_index.storage_context.persist(\"onto_graph\")\n",
    "onto_storage_context.persist(persist_dir=\"onto_graph\")"
   ]
  }
 ],
 "metadata": {
  "kernelspec": {
   "display_name": "base",
   "language": "python",
   "name": "python3"
  },
  "language_info": {
   "codemirror_mode": {
    "name": "ipython",
    "version": 3
   },
   "file_extension": ".py",
   "mimetype": "text/x-python",
   "name": "python",
   "nbconvert_exporter": "python",
   "pygments_lexer": "ipython3",
   "version": "3.12.4"
  }
 },
 "nbformat": 4,
 "nbformat_minor": 5
}
